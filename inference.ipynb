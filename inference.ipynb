{
 "cells": [
  {
   "cell_type": "code",
   "execution_count": 1,
   "metadata": {},
   "outputs": [
    {
     "name": "stderr",
     "output_type": "stream",
     "text": [
      "/home/zeus/miniconda3/envs/cloudspace/lib/python3.10/site-packages/huggingface_hub/file_download.py:1132: FutureWarning: `resume_download` is deprecated and will be removed in version 1.0.0. Downloads always resume when possible. If you want to force a new download, use `force_download=True`.\n",
      "  warnings.warn(\n"
     ]
    }
   ],
   "source": [
    "from transformers import AutoModelForCausalLM\n",
    "from peft import LoraConfig, get_peft_model\n",
    "\n",
    "model_id = \"Leon-LLM/Leon-Chess-350k-Plus\"\n",
    "peft_model_id = \"larscarl/Leon-Chess-350k-Plus_LoRA_fkasparov\"\n",
    "model = AutoModelForCausalLM.from_pretrained(model_id)\n",
    "model.load_adapter(peft_model_id)"
   ]
  },
  {
   "cell_type": "code",
   "execution_count": 2,
   "metadata": {},
   "outputs": [
    {
     "name": "stdout",
     "output_type": "stream",
     "text": [
      "output_batch:  ['Pd2d3 Pd7d5 Pe2e3 Pc7c6 Pd3d4']\n"
     ]
    }
   ],
   "source": [
    "from src.generate_prediction import generate_batch_predictions\n",
    "\n",
    "token_path = \"./src/tokenizer/xlan_tokens.json\"  # tokenizer needs this to know which tokens to use\n",
    "\n",
    "input_string = [\"\"]\n",
    "\n",
    "plies = 5  # number of plies (half-moves) to predict\n",
    "temperature = (\n",
    "    .7  # selenct a value between 0.1 and 2.0 to control the randomness of the model\n",
    ")\n",
    "max_batch_size = 512  # maximum number of predictions to make in parallel (higher is faster but requires more memory)\n",
    "\n",
    "output_batch, predicted_tokens_batch, input_tokens_batch = generate_batch_predictions(\n",
    "    input_string,\n",
    "    plies * 4,  # 3 tokens per ply (piece, start square, end square)\n",
    "    model,\n",
    "    token_path,\n",
    "    temperature=temperature,\n",
    "    max_batch_size=max_batch_size,\n",
    ")\n",
    "\n",
    "print(\"output_batch: \", output_batch)"
   ]
  }
 ],
 "metadata": {
  "kernelspec": {
   "display_name": "Python 3",
   "language": "python",
   "name": "python3"
  },
  "language_info": {
   "codemirror_mode": {
    "name": "ipython",
    "version": 3
   },
   "file_extension": ".py",
   "mimetype": "text/x-python",
   "name": "python",
   "nbconvert_exporter": "python",
   "pygments_lexer": "ipython3",
   "version": "3.10.10"
  }
 },
 "nbformat": 4,
 "nbformat_minor": 2
}
