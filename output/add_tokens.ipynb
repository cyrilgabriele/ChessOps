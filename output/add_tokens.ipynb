{
 "cells": [
  {
   "cell_type": "code",
   "execution_count": 1,
   "id": "aee27e12",
   "metadata": {
    "execution": {
     "iopub.execute_input": "2024-05-15T20:24:17.517992Z",
     "iopub.status.busy": "2024-05-15T20:24:17.517776Z",
     "iopub.status.idle": "2024-05-15T20:24:17.523243Z",
     "shell.execute_reply": "2024-05-15T20:24:17.522828Z"
    },
    "lines_to_next_cell": 2,
    "papermill": {
     "duration": 0.009552,
     "end_time": "2024-05-15T20:24:17.524858",
     "exception": false,
     "start_time": "2024-05-15T20:24:17.515306",
     "status": "completed"
    },
    "tags": [
     "parameters"
    ]
   },
   "outputs": [],
   "source": [
    "# declare a list tasks whose products you want to use as inputs\n",
    "upstream = None\n"
   ]
  },
  {
   "cell_type": "code",
   "execution_count": 2,
   "id": "902d0eca",
   "metadata": {
    "execution": {
     "iopub.execute_input": "2024-05-15T20:24:17.529378Z",
     "iopub.status.busy": "2024-05-15T20:24:17.529109Z",
     "iopub.status.idle": "2024-05-15T20:24:17.532172Z",
     "shell.execute_reply": "2024-05-15T20:24:17.531701Z"
    },
    "papermill": {
     "duration": 0.007218,
     "end_time": "2024-05-15T20:24:17.533932",
     "exception": false,
     "start_time": "2024-05-15T20:24:17.526714",
     "status": "completed"
    },
    "tags": [
     "injected-parameters"
    ]
   },
   "outputs": [],
   "source": [
    "# Parameters\n",
    "text_file_in = \"./data/tokens/carlsen_max_768.tok\"\n",
    "text_file_out = \"./data/tokens/carlsen_max_768_bos.tok\"\n",
    "product = {\"nb\": \"/Users/larscarlschmid/Documents/_repos/ChessOps/output/add_tokens.ipynb\", \"data\": \"/Users/larscarlschmid/Documents/_repos/ChessOps/data/tokens/carlsen_max_768_bos.tok\"}\n"
   ]
  },
  {
   "cell_type": "code",
   "execution_count": 3,
   "id": "88507506",
   "metadata": {
    "execution": {
     "iopub.execute_input": "2024-05-15T20:24:17.537869Z",
     "iopub.status.busy": "2024-05-15T20:24:17.537386Z",
     "iopub.status.idle": "2024-05-15T20:24:17.540869Z",
     "shell.execute_reply": "2024-05-15T20:24:17.540315Z"
    },
    "papermill": {
     "duration": 0.006966,
     "end_time": "2024-05-15T20:24:17.542344",
     "exception": false,
     "start_time": "2024-05-15T20:24:17.535378",
     "status": "completed"
    },
    "tags": []
   },
   "outputs": [],
   "source": [
    "# open text file\n",
    "def add_bos(text_file_in, text_file_out):\n",
    "    with open(text_file_in, \"r\") as file:\n",
    "        lines = file.readlines()\n",
    "\n",
    "    # add <BOS> to each line\n",
    "    lines_with_bos = [\"75 \" + line for line in lines]\n",
    "\n",
    "    # write to the same file\n",
    "    with open(text_file_out, \"w\") as file:\n",
    "        file.writelines(lines_with_bos)"
   ]
  },
  {
   "cell_type": "code",
   "execution_count": 4,
   "id": "7ca1c761",
   "metadata": {
    "execution": {
     "iopub.execute_input": "2024-05-15T20:24:17.545937Z",
     "iopub.status.busy": "2024-05-15T20:24:17.545380Z",
     "iopub.status.idle": "2024-05-15T20:24:17.548814Z",
     "shell.execute_reply": "2024-05-15T20:24:17.548406Z"
    },
    "papermill": {
     "duration": 0.006333,
     "end_time": "2024-05-15T20:24:17.549971",
     "exception": false,
     "start_time": "2024-05-15T20:24:17.543638",
     "status": "completed"
    },
    "tags": []
   },
   "outputs": [],
   "source": [
    "def clean_up_file(text_file_out):\n",
    "    # replace \"  \" with \" \"\n",
    "    with open(text_file_out, \"r\") as file:\n",
    "        lines = file.readlines()\n",
    "        lines = [line.replace(\"  \", \" \") for line in lines]\n",
    "\n",
    "    # write to the same file\n",
    "    with open(text_file_out, \"w\") as file:\n",
    "        file.writelines(lines)"
   ]
  },
  {
   "cell_type": "code",
   "execution_count": 5,
   "id": "4019b019",
   "metadata": {
    "execution": {
     "iopub.execute_input": "2024-05-15T20:24:17.552856Z",
     "iopub.status.busy": "2024-05-15T20:24:17.552673Z",
     "iopub.status.idle": "2024-05-15T20:24:17.684266Z",
     "shell.execute_reply": "2024-05-15T20:24:17.683832Z"
    },
    "papermill": {
     "duration": 0.134222,
     "end_time": "2024-05-15T20:24:17.685377",
     "exception": false,
     "start_time": "2024-05-15T20:24:17.551155",
     "status": "completed"
    },
    "tags": []
   },
   "outputs": [],
   "source": [
    "add_bos(text_file_in, text_file_out)\n",
    "clean_up_file(text_file_out)"
   ]
  }
 ],
 "metadata": {
  "jupytext": {
   "cell_metadata_filter": "tags,-all",
   "main_language": "python",
   "notebook_metadata_filter": "-all",
   "text_representation": {
    "extension": ".py",
    "format_name": "light"
   }
  },
  "kernelspec": {
   "display_name": "Python 3 (ipykernel)",
   "language": "python",
   "name": "python3"
  },
  "language_info": {
   "codemirror_mode": {
    "name": "ipython",
    "version": 3
   },
   "file_extension": ".py",
   "mimetype": "text/x-python",
   "name": "python",
   "nbconvert_exporter": "python",
   "pygments_lexer": "ipython3",
   "version": "3.11.0"
  },
  "papermill": {
   "duration": 0.914184,
   "end_time": "2024-05-15T20:24:17.802810",
   "exception": null,
   "input_path": "/var/folders/h3/3d89qwl94937xcsw4qq0hh2c0000gn/T/tmpyejsz2kp.ipynb",
   "output_path": "/Users/larscarlschmid/Documents/_repos/ChessOps/output/add_tokens.ipynb",
   "parameters": {
    "product": {
     "data": "/Users/larscarlschmid/Documents/_repos/ChessOps/data/tokens/carlsen_max_768_bos.tok",
     "nb": "/Users/larscarlschmid/Documents/_repos/ChessOps/output/add_tokens.ipynb"
    },
    "text_file_in": "./data/tokens/carlsen_max_768.tok",
    "text_file_out": "./data/tokens/carlsen_max_768_bos.tok"
   },
   "start_time": "2024-05-15T20:24:16.888626"
  }
 },
 "nbformat": 4,
 "nbformat_minor": 5
}