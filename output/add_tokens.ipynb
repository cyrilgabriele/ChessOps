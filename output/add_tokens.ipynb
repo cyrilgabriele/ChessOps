{
 "cells": [
  {
   "cell_type": "code",
   "execution_count": 1,
   "id": "5c892da8",
   "metadata": {
    "execution": {
     "iopub.execute_input": "2024-05-19T15:02:26.932946Z",
     "iopub.status.busy": "2024-05-19T15:02:26.932611Z",
     "iopub.status.idle": "2024-05-19T15:02:26.940187Z",
     "shell.execute_reply": "2024-05-19T15:02:26.939634Z"
    },
    "lines_to_next_cell": 2,
    "papermill": {
     "duration": 0.011448,
     "end_time": "2024-05-19T15:02:26.941573",
     "exception": false,
     "start_time": "2024-05-19T15:02:26.930125",
     "status": "completed"
    },
    "tags": [
     "parameters"
    ]
   },
   "outputs": [],
   "source": [
    "# declare a list tasks whose products you want to use as inputs\n",
    "upstream = None\n"
   ]
  },
  {
   "cell_type": "code",
   "execution_count": 2,
   "id": "33360ce2",
   "metadata": {
    "execution": {
     "iopub.execute_input": "2024-05-19T15:02:26.945341Z",
     "iopub.status.busy": "2024-05-19T15:02:26.945066Z",
     "iopub.status.idle": "2024-05-19T15:02:26.948371Z",
     "shell.execute_reply": "2024-05-19T15:02:26.947756Z"
    },
    "papermill": {
     "duration": 0.006748,
     "end_time": "2024-05-19T15:02:26.949786",
     "exception": false,
     "start_time": "2024-05-19T15:02:26.943038",
     "status": "completed"
    },
    "tags": [
     "injected-parameters"
    ]
   },
   "outputs": [],
   "source": [
    "# Parameters\n",
    "text_file_in = \"./data/tokens/kasparov_max_768.tok\"\n",
    "text_file_out = \"./data/tokens/kasparov_max_768_bos.tok\"\n",
    "product = {\"nb\": \"/teamspace/studios/this_studio/ChessOps/output/add_tokens.ipynb\", \"data\": \"/teamspace/studios/this_studio/ChessOps/data/tokens/kasparov_max_768_bos.tok\"}\n"
   ]
  },
  {
   "cell_type": "code",
   "execution_count": 3,
   "id": "3d2476e5",
   "metadata": {
    "execution": {
     "iopub.execute_input": "2024-05-19T15:02:26.954253Z",
     "iopub.status.busy": "2024-05-19T15:02:26.953996Z",
     "iopub.status.idle": "2024-05-19T15:02:26.957749Z",
     "shell.execute_reply": "2024-05-19T15:02:26.957199Z"
    },
    "papermill": {
     "duration": 0.008096,
     "end_time": "2024-05-19T15:02:26.959010",
     "exception": false,
     "start_time": "2024-05-19T15:02:26.950914",
     "status": "completed"
    },
    "tags": []
   },
   "outputs": [],
   "source": [
    "# open text file\n",
    "def add_bos(text_file_in, text_file_out):\n",
    "    with open(text_file_in, \"r\") as file:\n",
    "        lines = file.readlines()\n",
    "\n",
    "    # add <BOS> to each line\n",
    "    lines_with_bos = [\"75 \" + line for line in lines]\n",
    "\n",
    "    # write to the same file\n",
    "    with open(text_file_out, \"w\") as file:\n",
    "        file.writelines(lines_with_bos)"
   ]
  },
  {
   "cell_type": "code",
   "execution_count": 4,
   "id": "4eae80fc",
   "metadata": {
    "execution": {
     "iopub.execute_input": "2024-05-19T15:02:26.962426Z",
     "iopub.status.busy": "2024-05-19T15:02:26.962181Z",
     "iopub.status.idle": "2024-05-19T15:02:26.965900Z",
     "shell.execute_reply": "2024-05-19T15:02:26.965369Z"
    },
    "papermill": {
     "duration": 0.007026,
     "end_time": "2024-05-19T15:02:26.967193",
     "exception": false,
     "start_time": "2024-05-19T15:02:26.960167",
     "status": "completed"
    },
    "tags": []
   },
   "outputs": [],
   "source": [
    "def clean_up_file(text_file_out):\n",
    "    # replace \"  \" with \" \"\n",
    "    with open(text_file_out, \"r\") as file:\n",
    "        lines = file.readlines()\n",
    "        lines = [line.replace(\"  \", \" \") for line in lines]\n",
    "\n",
    "    # write to the same file\n",
    "    with open(text_file_out, \"w\") as file:\n",
    "        file.writelines(lines)"
   ]
  },
  {
   "cell_type": "code",
   "execution_count": 5,
   "id": "ae30242b",
   "metadata": {
    "execution": {
     "iopub.execute_input": "2024-05-19T15:02:26.970623Z",
     "iopub.status.busy": "2024-05-19T15:02:26.970361Z",
     "iopub.status.idle": "2024-05-19T15:02:26.990679Z",
     "shell.execute_reply": "2024-05-19T15:02:26.990196Z"
    },
    "papermill": {
     "duration": 0.023567,
     "end_time": "2024-05-19T15:02:26.991962",
     "exception": false,
     "start_time": "2024-05-19T15:02:26.968395",
     "status": "completed"
    },
    "tags": []
   },
   "outputs": [],
   "source": [
    "add_bos(text_file_in, text_file_out)\n",
    "clean_up_file(text_file_out)"
   ]
  }
 ],
 "metadata": {
  "jupytext": {
   "cell_metadata_filter": "tags,-all",
   "main_language": "python",
   "notebook_metadata_filter": "-all",
   "text_representation": {
    "extension": ".py",
    "format_name": "light"
   }
  },
  "kernelspec": {
   "display_name": "Python 3 (ipykernel)",
   "language": "python",
   "name": "python3"
  },
  "language_info": {
   "codemirror_mode": {
    "name": "ipython",
    "version": 3
   },
   "file_extension": ".py",
   "mimetype": "text/x-python",
   "name": "python",
   "nbconvert_exporter": "python",
   "pygments_lexer": "ipython3",
   "version": "3.10.10"
  },
  "papermill": {
   "duration": 1.068751,
   "end_time": "2024-05-19T15:02:27.108296",
   "exception": null,
   "input_path": "/tmp/tmpclfvbj4k.ipynb",
   "output_path": "/teamspace/studios/this_studio/ChessOps/output/add_tokens.ipynb",
   "parameters": {
    "product": {
     "data": "/teamspace/studios/this_studio/ChessOps/data/tokens/kasparov_max_768_bos.tok",
     "nb": "/teamspace/studios/this_studio/ChessOps/output/add_tokens.ipynb"
    },
    "text_file_in": "./data/tokens/kasparov_max_768.tok",
    "text_file_out": "./data/tokens/kasparov_max_768_bos.tok"
   },
   "start_time": "2024-05-19T15:02:26.039545"
  }
 },
 "nbformat": 4,
 "nbformat_minor": 5
}