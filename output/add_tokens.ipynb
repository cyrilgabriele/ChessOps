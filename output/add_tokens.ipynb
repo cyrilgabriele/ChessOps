{
 "cells": [
  {
   "cell_type": "code",
   "execution_count": 1,
   "id": "9d5054b7",
   "metadata": {
    "execution": {
     "iopub.execute_input": "2024-05-19T16:13:52.016243Z",
     "iopub.status.busy": "2024-05-19T16:13:52.015702Z",
     "iopub.status.idle": "2024-05-19T16:13:52.022050Z",
     "shell.execute_reply": "2024-05-19T16:13:52.021484Z"
    },
    "lines_to_next_cell": 2,
    "papermill": {
     "duration": 0.009051,
     "end_time": "2024-05-19T16:13:52.023067",
     "exception": false,
     "start_time": "2024-05-19T16:13:52.014016",
     "status": "completed"
    },
    "tags": [
     "parameters"
    ]
   },
   "outputs": [],
   "source": [
    "# declare a list tasks whose products you want to use as inputs\n",
    "upstream = None\n"
   ]
  },
  {
   "cell_type": "code",
   "execution_count": 2,
   "id": "bfe2586e",
   "metadata": {
    "execution": {
     "iopub.execute_input": "2024-05-19T16:13:52.026153Z",
     "iopub.status.busy": "2024-05-19T16:13:52.025846Z",
     "iopub.status.idle": "2024-05-19T16:13:52.028806Z",
     "shell.execute_reply": "2024-05-19T16:13:52.028246Z"
    },
    "papermill": {
     "duration": 0.005718,
     "end_time": "2024-05-19T16:13:52.029901",
     "exception": false,
     "start_time": "2024-05-19T16:13:52.024183",
     "status": "completed"
    },
    "tags": [
     "injected-parameters"
    ]
   },
   "outputs": [],
   "source": [
    "# Parameters\n",
    "text_file_in = \"./data/tokens/carlsen_max_768.tok\"\n",
    "text_file_out = \"./data/tokens/carlsen_max_768_bos.tok\"\n",
    "product = {\"nb\": \"/teamspace/studios/this_studio/ChessOps/output/add_tokens.ipynb\", \"data\": \"/teamspace/studios/this_studio/ChessOps/data/tokens/carlsen_max_768_bos.tok\"}\n"
   ]
  },
  {
   "cell_type": "code",
   "execution_count": 3,
   "id": "7d8943f9",
   "metadata": {
    "execution": {
     "iopub.execute_input": "2024-05-19T16:13:52.032786Z",
     "iopub.status.busy": "2024-05-19T16:13:52.032468Z",
     "iopub.status.idle": "2024-05-19T16:13:52.035972Z",
     "shell.execute_reply": "2024-05-19T16:13:52.035409Z"
    },
    "papermill": {
     "duration": 0.006037,
     "end_time": "2024-05-19T16:13:52.036950",
     "exception": false,
     "start_time": "2024-05-19T16:13:52.030913",
     "status": "completed"
    },
    "tags": []
   },
   "outputs": [],
   "source": [
    "# open text file\n",
    "def add_bos(text_file_in, text_file_out):\n",
    "    with open(text_file_in, \"r\") as file:\n",
    "        lines = file.readlines()\n",
    "\n",
    "    # add <BOS> to each line\n",
    "    lines_with_bos = [\"75 \" + line for line in lines]\n",
    "\n",
    "    # write to the same file\n",
    "    with open(text_file_out, \"w\") as file:\n",
    "        file.writelines(lines_with_bos)"
   ]
  },
  {
   "cell_type": "code",
   "execution_count": 4,
   "id": "cf521c68",
   "metadata": {
    "execution": {
     "iopub.execute_input": "2024-05-19T16:13:52.039836Z",
     "iopub.status.busy": "2024-05-19T16:13:52.039534Z",
     "iopub.status.idle": "2024-05-19T16:13:52.043066Z",
     "shell.execute_reply": "2024-05-19T16:13:52.042509Z"
    },
    "papermill": {
     "duration": 0.006098,
     "end_time": "2024-05-19T16:13:52.044054",
     "exception": false,
     "start_time": "2024-05-19T16:13:52.037956",
     "status": "completed"
    },
    "tags": []
   },
   "outputs": [],
   "source": [
    "def clean_up_file(text_file_out):\n",
    "    # replace \"  \" with \" \"\n",
    "    with open(text_file_out, \"r\") as file:\n",
    "        lines = file.readlines()\n",
    "        lines = [line.replace(\"  \", \" \") for line in lines]\n",
    "\n",
    "    # write to the same file\n",
    "    with open(text_file_out, \"w\") as file:\n",
    "        file.writelines(lines)"
   ]
  },
  {
   "cell_type": "code",
   "execution_count": 5,
   "id": "0305270c",
   "metadata": {
    "execution": {
     "iopub.execute_input": "2024-05-19T16:13:52.046939Z",
     "iopub.status.busy": "2024-05-19T16:13:52.046638Z",
     "iopub.status.idle": "2024-05-19T16:13:52.091678Z",
     "shell.execute_reply": "2024-05-19T16:13:52.090999Z"
    },
    "papermill": {
     "duration": 0.047877,
     "end_time": "2024-05-19T16:13:52.092932",
     "exception": false,
     "start_time": "2024-05-19T16:13:52.045055",
     "status": "completed"
    },
    "tags": []
   },
   "outputs": [],
   "source": [
    "add_bos(text_file_in, text_file_out)\n",
    "clean_up_file(text_file_out)"
   ]
  }
 ],
 "metadata": {
  "jupytext": {
   "cell_metadata_filter": "tags,-all",
   "main_language": "python",
   "notebook_metadata_filter": "-all",
   "text_representation": {
    "extension": ".py",
    "format_name": "light"
   }
  },
  "kernelspec": {
   "display_name": "Python 3 (ipykernel)",
   "language": "python",
   "name": "python3"
  },
  "language_info": {
   "codemirror_mode": {
    "name": "ipython",
    "version": 3
   },
   "file_extension": ".py",
   "mimetype": "text/x-python",
   "name": "python",
   "nbconvert_exporter": "python",
   "pygments_lexer": "ipython3",
   "version": "3.10.10"
  },
  "papermill": {
   "duration": 0.996864,
   "end_time": "2024-05-19T16:13:52.209500",
   "exception": null,
   "input_path": "/tmp/tmp2jqnl3w5.ipynb",
   "output_path": "/teamspace/studios/this_studio/ChessOps/output/add_tokens.ipynb",
   "parameters": {
    "product": {
     "data": "/teamspace/studios/this_studio/ChessOps/data/tokens/carlsen_max_768_bos.tok",
     "nb": "/teamspace/studios/this_studio/ChessOps/output/add_tokens.ipynb"
    },
    "text_file_in": "./data/tokens/carlsen_max_768.tok",
    "text_file_out": "./data/tokens/carlsen_max_768_bos.tok"
   },
   "start_time": "2024-05-19T16:13:51.212636"
  }
 },
 "nbformat": 4,
 "nbformat_minor": 5
}