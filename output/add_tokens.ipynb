{
 "cells": [
  {
   "cell_type": "code",
   "execution_count": 1,
   "id": "8f84df3b",
   "metadata": {
    "execution": {
     "iopub.execute_input": "2024-05-19T14:46:35.567009Z",
     "iopub.status.busy": "2024-05-19T14:46:35.566639Z",
     "iopub.status.idle": "2024-05-19T14:46:35.574178Z",
     "shell.execute_reply": "2024-05-19T14:46:35.573631Z"
    },
    "lines_to_next_cell": 2,
    "papermill": {
     "duration": 0.011479,
     "end_time": "2024-05-19T14:46:35.575518",
     "exception": false,
     "start_time": "2024-05-19T14:46:35.564039",
     "status": "completed"
    },
    "tags": [
     "parameters"
    ]
   },
   "outputs": [],
   "source": [
    "# declare a list tasks whose products you want to use as inputs\n",
    "upstream = None\n"
   ]
  },
  {
   "cell_type": "code",
   "execution_count": 2,
   "id": "8f464c3f",
   "metadata": {
    "execution": {
     "iopub.execute_input": "2024-05-19T14:46:35.579598Z",
     "iopub.status.busy": "2024-05-19T14:46:35.579336Z",
     "iopub.status.idle": "2024-05-19T14:46:35.582544Z",
     "shell.execute_reply": "2024-05-19T14:46:35.581957Z"
    },
    "papermill": {
     "duration": 0.006525,
     "end_time": "2024-05-19T14:46:35.583964",
     "exception": false,
     "start_time": "2024-05-19T14:46:35.577439",
     "status": "completed"
    },
    "tags": [
     "injected-parameters"
    ]
   },
   "outputs": [],
   "source": [
    "# Parameters\n",
    "text_file_in = \"./data/tokens/carlsen_max_768.tok\"\n",
    "text_file_out = \"./data/tokens/carlsen_max_768_bos.tok\"\n",
    "product = {\"nb\": \"/teamspace/studios/this_studio/ChessOps/output/add_tokens.ipynb\", \"data\": \"/teamspace/studios/this_studio/ChessOps/data/tokens/carlsen_max_768_bos.tok\"}\n"
   ]
  },
  {
   "cell_type": "code",
   "execution_count": 3,
   "id": "2529356c",
   "metadata": {
    "execution": {
     "iopub.execute_input": "2024-05-19T14:46:35.587983Z",
     "iopub.status.busy": "2024-05-19T14:46:35.587715Z",
     "iopub.status.idle": "2024-05-19T14:46:35.591877Z",
     "shell.execute_reply": "2024-05-19T14:46:35.591309Z"
    },
    "papermill": {
     "duration": 0.008156,
     "end_time": "2024-05-19T14:46:35.593298",
     "exception": false,
     "start_time": "2024-05-19T14:46:35.585142",
     "status": "completed"
    },
    "tags": []
   },
   "outputs": [],
   "source": [
    "# open text file\n",
    "def add_bos(text_file_in, text_file_out):\n",
    "    with open(text_file_in, \"r\") as file:\n",
    "        lines = file.readlines()\n",
    "\n",
    "    # add <BOS> to each line\n",
    "    lines_with_bos = [\"75 \" + line for line in lines]\n",
    "\n",
    "    # write to the same file\n",
    "    with open(text_file_out, \"w\") as file:\n",
    "        file.writelines(lines_with_bos)"
   ]
  },
  {
   "cell_type": "code",
   "execution_count": 4,
   "id": "f2a79169",
   "metadata": {
    "execution": {
     "iopub.execute_input": "2024-05-19T14:46:35.596692Z",
     "iopub.status.busy": "2024-05-19T14:46:35.596441Z",
     "iopub.status.idle": "2024-05-19T14:46:35.600838Z",
     "shell.execute_reply": "2024-05-19T14:46:35.600335Z"
    },
    "papermill": {
     "duration": 0.007711,
     "end_time": "2024-05-19T14:46:35.602158",
     "exception": false,
     "start_time": "2024-05-19T14:46:35.594447",
     "status": "completed"
    },
    "tags": []
   },
   "outputs": [],
   "source": [
    "def clean_up_file(text_file_out):\n",
    "    # replace \"  \" with \" \"\n",
    "    with open(text_file_out, \"r\") as file:\n",
    "        lines = file.readlines()\n",
    "        lines = [line.replace(\"  \", \" \") for line in lines]\n",
    "\n",
    "    # write to the same file\n",
    "    with open(text_file_out, \"w\") as file:\n",
    "        file.writelines(lines)"
   ]
  },
  {
   "cell_type": "code",
   "execution_count": 5,
   "id": "e42c0155",
   "metadata": {
    "execution": {
     "iopub.execute_input": "2024-05-19T14:46:35.605492Z",
     "iopub.status.busy": "2024-05-19T14:46:35.605245Z",
     "iopub.status.idle": "2024-05-19T14:46:35.678013Z",
     "shell.execute_reply": "2024-05-19T14:46:35.677392Z"
    },
    "papermill": {
     "duration": 0.076414,
     "end_time": "2024-05-19T14:46:35.679770",
     "exception": false,
     "start_time": "2024-05-19T14:46:35.603356",
     "status": "completed"
    },
    "tags": []
   },
   "outputs": [],
   "source": [
    "add_bos(text_file_in, text_file_out)\n",
    "clean_up_file(text_file_out)"
   ]
  }
 ],
 "metadata": {
  "jupytext": {
   "cell_metadata_filter": "tags,-all",
   "main_language": "python",
   "notebook_metadata_filter": "-all",
   "text_representation": {
    "extension": ".py",
    "format_name": "light"
   }
  },
  "kernelspec": {
   "display_name": "Python 3 (ipykernel)",
   "language": "python",
   "name": "python3"
  },
  "language_info": {
   "codemirror_mode": {
    "name": "ipython",
    "version": 3
   },
   "file_extension": ".py",
   "mimetype": "text/x-python",
   "name": "python",
   "nbconvert_exporter": "python",
   "pygments_lexer": "ipython3",
   "version": "3.10.10"
  },
  "papermill": {
   "duration": 1.229959,
   "end_time": "2024-05-19T14:46:35.797213",
   "exception": null,
   "input_path": "/tmp/tmpiaf2kogx.ipynb",
   "output_path": "/teamspace/studios/this_studio/ChessOps/output/add_tokens.ipynb",
   "parameters": {
    "product": {
     "data": "/teamspace/studios/this_studio/ChessOps/data/tokens/carlsen_max_768_bos.tok",
     "nb": "/teamspace/studios/this_studio/ChessOps/output/add_tokens.ipynb"
    },
    "text_file_in": "./data/tokens/carlsen_max_768.tok",
    "text_file_out": "./data/tokens/carlsen_max_768_bos.tok"
   },
   "start_time": "2024-05-19T14:46:34.567254"
  }
 },
 "nbformat": 4,
 "nbformat_minor": 5
}