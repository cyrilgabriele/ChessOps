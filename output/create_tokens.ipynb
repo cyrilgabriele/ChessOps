{
 "cells": [
  {
   "cell_type": "code",
   "execution_count": 1,
   "id": "65ddf6b4",
   "metadata": {
    "execution": {
     "iopub.execute_input": "2024-05-15T20:24:10.820815Z",
     "iopub.status.busy": "2024-05-15T20:24:10.820531Z",
     "iopub.status.idle": "2024-05-15T20:24:10.826314Z",
     "shell.execute_reply": "2024-05-15T20:24:10.825880Z"
    },
    "lines_to_next_cell": 2,
    "papermill": {
     "duration": 0.009765,
     "end_time": "2024-05-15T20:24:10.827584",
     "exception": false,
     "start_time": "2024-05-15T20:24:10.817819",
     "status": "completed"
    },
    "tags": [
     "parameters"
    ]
   },
   "outputs": [],
   "source": [
    "# declare a list tasks whose products you want to use as inputs\n",
    "upstream = None"
   ]
  },
  {
   "cell_type": "code",
   "execution_count": 2,
   "id": "554450cc",
   "metadata": {
    "execution": {
     "iopub.execute_input": "2024-05-15T20:24:10.831102Z",
     "iopub.status.busy": "2024-05-15T20:24:10.830856Z",
     "iopub.status.idle": "2024-05-15T20:24:10.833673Z",
     "shell.execute_reply": "2024-05-15T20:24:10.833285Z"
    },
    "papermill": {
     "duration": 0.082501,
     "end_time": "2024-05-15T20:24:10.911556",
     "exception": false,
     "start_time": "2024-05-15T20:24:10.829055",
     "status": "completed"
    },
    "tags": [
     "injected-parameters"
    ]
   },
   "outputs": [],
   "source": [
    "# Parameters\n",
    "xLAN_path = \"./data/xlan/carlsen.xlanplus\"\n",
    "token_path = \"./src/tokenizer/xlanplus_tokens.json\"\n",
    "tokenized_path = \"./data/tokens/carlsen.tok\"\n",
    "product = {\"nb\": \"/Users/larscarlschmid/Documents/_repos/ChessOps/output/create_tokens.ipynb\", \"data\": \"/Users/larscarlschmid/Documents/_repos/ChessOps/data/tokens/carlsen.tok\"}\n"
   ]
  },
  {
   "cell_type": "code",
   "execution_count": 3,
   "id": "a3dde9a3",
   "metadata": {
    "execution": {
     "iopub.execute_input": "2024-05-15T20:24:10.914646Z",
     "iopub.status.busy": "2024-05-15T20:24:10.914427Z",
     "iopub.status.idle": "2024-05-15T20:24:10.916719Z",
     "shell.execute_reply": "2024-05-15T20:24:10.916409Z"
    },
    "lines_to_end_of_cell_marker": 2,
    "lines_to_next_cell": 2,
    "papermill": {
     "duration": 0.005108,
     "end_time": "2024-05-15T20:24:10.917849",
     "exception": false,
     "start_time": "2024-05-15T20:24:10.912741",
     "status": "completed"
    },
    "tags": []
   },
   "outputs": [],
   "source": [
    "upstream = [\"checkDuplicates\"]"
   ]
  },
  {
   "cell_type": "code",
   "execution_count": 4,
   "id": "21537a1f",
   "metadata": {
    "execution": {
     "iopub.execute_input": "2024-05-15T20:24:10.922708Z",
     "iopub.status.busy": "2024-05-15T20:24:10.922091Z",
     "iopub.status.idle": "2024-05-15T20:24:10.924663Z",
     "shell.execute_reply": "2024-05-15T20:24:10.924376Z"
    },
    "papermill": {
     "duration": 0.006621,
     "end_time": "2024-05-15T20:24:10.925476",
     "exception": false,
     "start_time": "2024-05-15T20:24:10.918855",
     "status": "completed"
    },
    "tags": []
   },
   "outputs": [],
   "source": [
    "def tokenize_data(xLAN_path, token_path, tokenized_path):\n",
    "    from src.tokenizer.tokenizer import tokenize_file\n",
    "\n",
    "    tokenize_file(\n",
    "        token_path, xLAN_path, tokenized_path, batch_size=20000\n",
    "    )  # eventually smaller batch size"
   ]
  },
  {
   "cell_type": "code",
   "execution_count": 5,
   "id": "59110831",
   "metadata": {
    "execution": {
     "iopub.execute_input": "2024-05-15T20:24:10.927856Z",
     "iopub.status.busy": "2024-05-15T20:24:10.927701Z",
     "iopub.status.idle": "2024-05-15T20:24:13.321102Z",
     "shell.execute_reply": "2024-05-15T20:24:13.320693Z"
    },
    "papermill": {
     "duration": 2.39599,
     "end_time": "2024-05-15T20:24:13.322408",
     "exception": false,
     "start_time": "2024-05-15T20:24:10.926418",
     "status": "completed"
    },
    "tags": []
   },
   "outputs": [
    {
     "name": "stdout",
     "output_type": "stream",
     "text": [
      "Chunks done 1/1\r"
     ]
    }
   ],
   "source": [
    "tokenize_data(xLAN_path, token_path, tokenized_path)"
   ]
  }
 ],
 "metadata": {
  "jupytext": {
   "cell_metadata_filter": "tags,-all",
   "main_language": "python",
   "notebook_metadata_filter": "-all",
   "text_representation": {
    "extension": ".py",
    "format_name": "light"
   }
  },
  "kernelspec": {
   "display_name": "Python 3 (ipykernel)",
   "language": "python",
   "name": "python3"
  },
  "language_info": {
   "codemirror_mode": {
    "name": "ipython",
    "version": 3
   },
   "file_extension": ".py",
   "mimetype": "text/x-python",
   "name": "python",
   "nbconvert_exporter": "python",
   "pygments_lexer": "ipython3",
   "version": "3.11.0"
  },
  "papermill": {
   "duration": 5.798584,
   "end_time": "2024-05-15T20:24:15.944974",
   "exception": null,
   "input_path": "/var/folders/h3/3d89qwl94937xcsw4qq0hh2c0000gn/T/tmp2zvca0vl.ipynb",
   "output_path": "/Users/larscarlschmid/Documents/_repos/ChessOps/output/create_tokens.ipynb",
   "parameters": {
    "product": {
     "data": "/Users/larscarlschmid/Documents/_repos/ChessOps/data/tokens/carlsen.tok",
     "nb": "/Users/larscarlschmid/Documents/_repos/ChessOps/output/create_tokens.ipynb"
    },
    "token_path": "./src/tokenizer/xlanplus_tokens.json",
    "tokenized_path": "./data/tokens/carlsen.tok",
    "xLAN_path": "./data/xlan/carlsen.xlanplus"
   },
   "start_time": "2024-05-15T20:24:10.146390"
  }
 },
 "nbformat": 4,
 "nbformat_minor": 5
}