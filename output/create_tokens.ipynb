{
 "cells": [
  {
   "cell_type": "code",
   "execution_count": 1,
   "id": "24d31aa1",
   "metadata": {
    "execution": {
     "iopub.execute_input": "2024-05-08T11:57:36.974556Z",
     "iopub.status.busy": "2024-05-08T11:57:36.974266Z",
     "iopub.status.idle": "2024-05-08T11:57:36.980051Z",
     "shell.execute_reply": "2024-05-08T11:57:36.979627Z"
    },
    "lines_to_next_cell": 2,
    "papermill": {
     "duration": 0.010462,
     "end_time": "2024-05-08T11:57:36.981220",
     "exception": false,
     "start_time": "2024-05-08T11:57:36.970758",
     "status": "completed"
    },
    "tags": [
     "parameters"
    ]
   },
   "outputs": [],
   "source": [
    "# declare a list tasks whose products you want to use as inputs\n",
    "upstream = None"
   ]
  },
  {
   "cell_type": "code",
   "execution_count": 2,
   "id": "d84e5b8f",
   "metadata": {
    "execution": {
     "iopub.execute_input": "2024-05-08T11:57:36.984053Z",
     "iopub.status.busy": "2024-05-08T11:57:36.983883Z",
     "iopub.status.idle": "2024-05-08T11:57:36.986259Z",
     "shell.execute_reply": "2024-05-08T11:57:36.985885Z"
    },
    "papermill": {
     "duration": 0.004945,
     "end_time": "2024-05-08T11:57:36.987402",
     "exception": false,
     "start_time": "2024-05-08T11:57:36.982457",
     "status": "completed"
    },
    "tags": [
     "injected-parameters"
    ]
   },
   "outputs": [],
   "source": [
    "# Parameters\n",
    "xLAN_path = \"./data/xlan/carlsen.xlanplus\"\n",
    "token_path = \"./src/tokenizer/xlanplus_tokens.json\"\n",
    "tokenized_path = \"./data/tokens/carlsen.tok\"\n",
    "product = {\"nb\": \"/Users/larscarlschmid/Documents/_repos/ChessOps/output/create_tokens.ipynb\", \"data\": \"/Users/larscarlschmid/Documents/_repos/ChessOps/data/tokens/carlsen.tok\"}\n"
   ]
  },
  {
   "cell_type": "code",
   "execution_count": 3,
   "id": "89b5f71d",
   "metadata": {
    "execution": {
     "iopub.execute_input": "2024-05-08T11:57:36.990177Z",
     "iopub.status.busy": "2024-05-08T11:57:36.989940Z",
     "iopub.status.idle": "2024-05-08T11:57:36.992059Z",
     "shell.execute_reply": "2024-05-08T11:57:36.991717Z"
    },
    "lines_to_end_of_cell_marker": 2,
    "lines_to_next_cell": 2,
    "papermill": {
     "duration": 0.005035,
     "end_time": "2024-05-08T11:57:36.993425",
     "exception": false,
     "start_time": "2024-05-08T11:57:36.988390",
     "status": "completed"
    },
    "tags": []
   },
   "outputs": [],
   "source": [
    "upstream = [\"checkDuplicates\"]"
   ]
  },
  {
   "cell_type": "code",
   "execution_count": 4,
   "id": "0316a14e",
   "metadata": {
    "execution": {
     "iopub.execute_input": "2024-05-08T11:57:36.996068Z",
     "iopub.status.busy": "2024-05-08T11:57:36.995821Z",
     "iopub.status.idle": "2024-05-08T11:57:36.998065Z",
     "shell.execute_reply": "2024-05-08T11:57:36.997785Z"
    },
    "papermill": {
     "duration": 0.004619,
     "end_time": "2024-05-08T11:57:36.999032",
     "exception": false,
     "start_time": "2024-05-08T11:57:36.994413",
     "status": "completed"
    },
    "tags": []
   },
   "outputs": [],
   "source": [
    "def tokenize_data(xLAN_path, token_path, tokenized_path):\n",
    "    from src.tokenizer.tokenizer import tokenize_file\n",
    "\n",
    "    tokenize_file(\n",
    "        token_path, xLAN_path, tokenized_path, batch_size=20000\n",
    "    )  # eventually smaller batch size"
   ]
  },
  {
   "cell_type": "code",
   "execution_count": 5,
   "id": "b4e5aaa5",
   "metadata": {
    "execution": {
     "iopub.execute_input": "2024-05-08T11:57:37.001227Z",
     "iopub.status.busy": "2024-05-08T11:57:37.001096Z",
     "iopub.status.idle": "2024-05-08T11:57:37.278839Z",
     "shell.execute_reply": "2024-05-08T11:57:37.278516Z"
    },
    "papermill": {
     "duration": 0.279861,
     "end_time": "2024-05-08T11:57:37.279743",
     "exception": false,
     "start_time": "2024-05-08T11:57:36.999882",
     "status": "completed"
    },
    "tags": []
   },
   "outputs": [
    {
     "name": "stdout",
     "output_type": "stream",
     "text": [
      "Chunks done 1/1\r"
     ]
    }
   ],
   "source": [
    "tokenize_data(xLAN_path, token_path, tokenized_path)"
   ]
  }
 ],
 "metadata": {
  "jupytext": {
   "cell_metadata_filter": "tags,-all",
   "main_language": "python",
   "notebook_metadata_filter": "-all",
   "text_representation": {
    "extension": ".py",
    "format_name": "light"
   }
  },
  "kernelspec": {
   "display_name": "Python 3 (ipykernel)",
   "language": "python",
   "name": "python3"
  },
  "language_info": {
   "codemirror_mode": {
    "name": "ipython",
    "version": 3
   },
   "file_extension": ".py",
   "mimetype": "text/x-python",
   "name": "python",
   "nbconvert_exporter": "python",
   "pygments_lexer": "ipython3",
   "version": "3.11.0"
  },
  "papermill": {
   "duration": 3.713035,
   "end_time": "2024-05-08T11:57:39.903447",
   "exception": null,
   "input_path": "/var/folders/h3/3d89qwl94937xcsw4qq0hh2c0000gn/T/tmp1qfd1lfg.ipynb",
   "output_path": "/Users/larscarlschmid/Documents/_repos/ChessOps/output/create_tokens.ipynb",
   "parameters": {
    "product": {
     "data": "/Users/larscarlschmid/Documents/_repos/ChessOps/data/tokens/carlsen.tok",
     "nb": "/Users/larscarlschmid/Documents/_repos/ChessOps/output/create_tokens.ipynb"
    },
    "token_path": "./src/tokenizer/xlanplus_tokens.json",
    "tokenized_path": "./data/tokens/carlsen.tok",
    "xLAN_path": "./data/xlan/carlsen.xlanplus"
   },
   "start_time": "2024-05-08T11:57:36.190412"
  }
 },
 "nbformat": 4,
 "nbformat_minor": 5
}