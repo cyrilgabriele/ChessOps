{
 "cells": [
  {
   "cell_type": "code",
   "execution_count": 1,
   "id": "4a613c33",
   "metadata": {
    "execution": {
     "iopub.execute_input": "2024-05-08T15:08:08.438731Z",
     "iopub.status.busy": "2024-05-08T15:08:08.438435Z",
     "iopub.status.idle": "2024-05-08T15:08:08.444612Z",
     "shell.execute_reply": "2024-05-08T15:08:08.444065Z"
    },
    "lines_to_next_cell": 2,
    "papermill": {
     "duration": 0.008927,
     "end_time": "2024-05-08T15:08:08.445635",
     "exception": false,
     "start_time": "2024-05-08T15:08:08.436708",
     "status": "completed"
    },
    "tags": [
     "parameters"
    ]
   },
   "outputs": [],
   "source": [
    "# declare a list tasks whose products you want to use as inputs\n",
    "upstream = None"
   ]
  },
  {
   "cell_type": "code",
   "execution_count": 2,
   "id": "6ae5be5e",
   "metadata": {
    "execution": {
     "iopub.execute_input": "2024-05-08T15:08:08.448746Z",
     "iopub.status.busy": "2024-05-08T15:08:08.448430Z",
     "iopub.status.idle": "2024-05-08T15:08:08.451398Z",
     "shell.execute_reply": "2024-05-08T15:08:08.450825Z"
    },
    "papermill": {
     "duration": 0.005698,
     "end_time": "2024-05-08T15:08:08.452462",
     "exception": false,
     "start_time": "2024-05-08T15:08:08.446764",
     "status": "completed"
    },
    "tags": [
     "injected-parameters"
    ]
   },
   "outputs": [],
   "source": [
    "# Parameters\n",
    "xLAN_path = \"./data/xlan/kasparov.xlanplus\"\n",
    "token_path = \"./src/tokenizer/xlanplus_tokens.json\"\n",
    "tokenized_path = \"./data/tokens/kasparov.tok\"\n",
    "product = {\"nb\": \"/teamspace/studios/this_studio/ChessOps/output/create_tokens.ipynb\", \"data\": \"/teamspace/studios/this_studio/ChessOps/data/tokens/kasparov.tok\"}\n"
   ]
  },
  {
   "cell_type": "code",
   "execution_count": 3,
   "id": "cddc1b75",
   "metadata": {
    "execution": {
     "iopub.execute_input": "2024-05-08T15:08:08.455279Z",
     "iopub.status.busy": "2024-05-08T15:08:08.454964Z",
     "iopub.status.idle": "2024-05-08T15:08:08.457678Z",
     "shell.execute_reply": "2024-05-08T15:08:08.457152Z"
    },
    "lines_to_end_of_cell_marker": 2,
    "lines_to_next_cell": 2,
    "papermill": {
     "duration": 0.005233,
     "end_time": "2024-05-08T15:08:08.458681",
     "exception": false,
     "start_time": "2024-05-08T15:08:08.453448",
     "status": "completed"
    },
    "tags": []
   },
   "outputs": [],
   "source": [
    "upstream = [\"checkDuplicates\"]"
   ]
  },
  {
   "cell_type": "code",
   "execution_count": 4,
   "id": "f684351c",
   "metadata": {
    "execution": {
     "iopub.execute_input": "2024-05-08T15:08:08.461699Z",
     "iopub.status.busy": "2024-05-08T15:08:08.461401Z",
     "iopub.status.idle": "2024-05-08T15:08:08.464456Z",
     "shell.execute_reply": "2024-05-08T15:08:08.463924Z"
    },
    "papermill": {
     "duration": 0.005788,
     "end_time": "2024-05-08T15:08:08.465494",
     "exception": false,
     "start_time": "2024-05-08T15:08:08.459706",
     "status": "completed"
    },
    "tags": []
   },
   "outputs": [],
   "source": [
    "def tokenize_data(xLAN_path, token_path, tokenized_path):\n",
    "    from src.tokenizer.tokenizer import tokenize_file\n",
    "\n",
    "    tokenize_file(\n",
    "        token_path, xLAN_path, tokenized_path, batch_size=20000\n",
    "    )  # eventually smaller batch size"
   ]
  },
  {
   "cell_type": "code",
   "execution_count": 5,
   "id": "454a21f3",
   "metadata": {
    "execution": {
     "iopub.execute_input": "2024-05-08T15:08:08.468372Z",
     "iopub.status.busy": "2024-05-08T15:08:08.468086Z",
     "iopub.status.idle": "2024-05-08T15:08:08.580182Z",
     "shell.execute_reply": "2024-05-08T15:08:08.579624Z"
    },
    "papermill": {
     "duration": 0.114818,
     "end_time": "2024-05-08T15:08:08.581316",
     "exception": false,
     "start_time": "2024-05-08T15:08:08.466498",
     "status": "completed"
    },
    "tags": []
   },
   "outputs": [
    {
     "name": "stdout",
     "output_type": "stream",
     "text": [
      "Chunks done 1/1\r"
     ]
    }
   ],
   "source": [
    "tokenize_data(xLAN_path, token_path, tokenized_path)"
   ]
  }
 ],
 "metadata": {
  "jupytext": {
   "cell_metadata_filter": "tags,-all",
   "main_language": "python",
   "notebook_metadata_filter": "-all",
   "text_representation": {
    "extension": ".py",
    "format_name": "light"
   }
  },
  "kernelspec": {
   "display_name": "Python 3 (ipykernel)",
   "language": "python",
   "name": "python3"
  },
  "language_info": {
   "codemirror_mode": {
    "name": "ipython",
    "version": 3
   },
   "file_extension": ".py",
   "mimetype": "text/x-python",
   "name": "python",
   "nbconvert_exporter": "python",
   "pygments_lexer": "ipython3",
   "version": "3.10.10"
  },
  "papermill": {
   "duration": 1.122307,
   "end_time": "2024-05-08T15:08:08.798789",
   "exception": null,
   "input_path": "/tmp/tmpm6h32ek8.ipynb",
   "output_path": "/teamspace/studios/this_studio/ChessOps/output/create_tokens.ipynb",
   "parameters": {
    "product": {
     "data": "/teamspace/studios/this_studio/ChessOps/data/tokens/kasparov.tok",
     "nb": "/teamspace/studios/this_studio/ChessOps/output/create_tokens.ipynb"
    },
    "token_path": "./src/tokenizer/xlanplus_tokens.json",
    "tokenized_path": "./data/tokens/kasparov.tok",
    "xLAN_path": "./data/xlan/kasparov.xlanplus"
   },
   "start_time": "2024-05-08T15:08:07.676482"
  }
 },
 "nbformat": 4,
 "nbformat_minor": 5
}