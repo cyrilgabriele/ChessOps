{
 "cells": [
  {
   "cell_type": "code",
   "execution_count": 1,
   "id": "93a84eb2",
   "metadata": {
    "execution": {
     "iopub.execute_input": "2024-05-19T16:13:48.598727Z",
     "iopub.status.busy": "2024-05-19T16:13:48.598363Z",
     "iopub.status.idle": "2024-05-19T16:13:48.604810Z",
     "shell.execute_reply": "2024-05-19T16:13:48.604251Z"
    },
    "lines_to_next_cell": 2,
    "papermill": {
     "duration": 0.009998,
     "end_time": "2024-05-19T16:13:48.605939",
     "exception": false,
     "start_time": "2024-05-19T16:13:48.595941",
     "status": "completed"
    },
    "tags": [
     "parameters"
    ]
   },
   "outputs": [],
   "source": [
    "# declare a list tasks whose products you want to use as inputs\n",
    "upstream = None"
   ]
  },
  {
   "cell_type": "code",
   "execution_count": 2,
   "id": "f10fe9f4",
   "metadata": {
    "execution": {
     "iopub.execute_input": "2024-05-19T16:13:48.608922Z",
     "iopub.status.busy": "2024-05-19T16:13:48.608656Z",
     "iopub.status.idle": "2024-05-19T16:13:48.611636Z",
     "shell.execute_reply": "2024-05-19T16:13:48.611090Z"
    },
    "papermill": {
     "duration": 0.005551,
     "end_time": "2024-05-19T16:13:48.612704",
     "exception": false,
     "start_time": "2024-05-19T16:13:48.607153",
     "status": "completed"
    },
    "tags": [
     "injected-parameters"
    ]
   },
   "outputs": [],
   "source": [
    "# Parameters\n",
    "xLAN_path = \"./data/xlan/carlsen.xlanplus\"\n",
    "token_path = \"./src/tokenizer/xlanplus_tokens.json\"\n",
    "tokenized_path = \"./data/tokens/carlsen.tok\"\n",
    "product = {\"nb\": \"/teamspace/studios/this_studio/ChessOps/output/create_tokens.ipynb\", \"data\": \"/teamspace/studios/this_studio/ChessOps/data/tokens/carlsen.tok\"}\n"
   ]
  },
  {
   "cell_type": "code",
   "execution_count": 3,
   "id": "be714dd3",
   "metadata": {
    "execution": {
     "iopub.execute_input": "2024-05-19T16:13:48.615800Z",
     "iopub.status.busy": "2024-05-19T16:13:48.615538Z",
     "iopub.status.idle": "2024-05-19T16:13:48.618229Z",
     "shell.execute_reply": "2024-05-19T16:13:48.617697Z"
    },
    "lines_to_end_of_cell_marker": 2,
    "lines_to_next_cell": 2,
    "papermill": {
     "duration": 0.005595,
     "end_time": "2024-05-19T16:13:48.619284",
     "exception": false,
     "start_time": "2024-05-19T16:13:48.613689",
     "status": "completed"
    },
    "tags": []
   },
   "outputs": [],
   "source": [
    "upstream = [\"checkDuplicates\"]"
   ]
  },
  {
   "cell_type": "code",
   "execution_count": 4,
   "id": "3d2691d0",
   "metadata": {
    "execution": {
     "iopub.execute_input": "2024-05-19T16:13:48.622138Z",
     "iopub.status.busy": "2024-05-19T16:13:48.621883Z",
     "iopub.status.idle": "2024-05-19T16:13:48.624897Z",
     "shell.execute_reply": "2024-05-19T16:13:48.624365Z"
    },
    "papermill": {
     "duration": 0.005741,
     "end_time": "2024-05-19T16:13:48.626018",
     "exception": false,
     "start_time": "2024-05-19T16:13:48.620277",
     "status": "completed"
    },
    "tags": []
   },
   "outputs": [],
   "source": [
    "def tokenize_data(xLAN_path, token_path, tokenized_path):\n",
    "    from src.tokenizer.tokenizer import tokenize_file\n",
    "\n",
    "    tokenize_file(\n",
    "        token_path, xLAN_path, tokenized_path, batch_size=20000\n",
    "    )  # eventually smaller batch size"
   ]
  },
  {
   "cell_type": "code",
   "execution_count": 5,
   "id": "cf7268ae",
   "metadata": {
    "execution": {
     "iopub.execute_input": "2024-05-19T16:13:48.628881Z",
     "iopub.status.busy": "2024-05-19T16:13:48.628622Z",
     "iopub.status.idle": "2024-05-19T16:13:50.130392Z",
     "shell.execute_reply": "2024-05-19T16:13:50.129658Z"
    },
    "papermill": {
     "duration": 1.504576,
     "end_time": "2024-05-19T16:13:50.131618",
     "exception": false,
     "start_time": "2024-05-19T16:13:48.627042",
     "status": "completed"
    },
    "tags": []
   },
   "outputs": [
    {
     "name": "stdout",
     "output_type": "stream",
     "text": [
      "Chunks done 1/1\r"
     ]
    }
   ],
   "source": [
    "tokenize_data(xLAN_path, token_path, tokenized_path)"
   ]
  }
 ],
 "metadata": {
  "jupytext": {
   "cell_metadata_filter": "tags,-all",
   "main_language": "python",
   "notebook_metadata_filter": "-all",
   "text_representation": {
    "extension": ".py",
    "format_name": "light"
   }
  },
  "kernelspec": {
   "display_name": "Python 3 (ipykernel)",
   "language": "python",
   "name": "python3"
  },
  "language_info": {
   "codemirror_mode": {
    "name": "ipython",
    "version": 3
   },
   "file_extension": ".py",
   "mimetype": "text/x-python",
   "name": "python",
   "nbconvert_exporter": "python",
   "pygments_lexer": "ipython3",
   "version": "3.10.10"
  },
  "papermill": {
   "duration": 2.306684,
   "end_time": "2024-05-19T16:13:50.248763",
   "exception": null,
   "input_path": "/tmp/tmpql98qebj.ipynb",
   "output_path": "/teamspace/studios/this_studio/ChessOps/output/create_tokens.ipynb",
   "parameters": {
    "product": {
     "data": "/teamspace/studios/this_studio/ChessOps/data/tokens/carlsen.tok",
     "nb": "/teamspace/studios/this_studio/ChessOps/output/create_tokens.ipynb"
    },
    "token_path": "./src/tokenizer/xlanplus_tokens.json",
    "tokenized_path": "./data/tokens/carlsen.tok",
    "xLAN_path": "./data/xlan/carlsen.xlanplus"
   },
   "start_time": "2024-05-19T16:13:47.942079"
  }
 },
 "nbformat": 4,
 "nbformat_minor": 5
}