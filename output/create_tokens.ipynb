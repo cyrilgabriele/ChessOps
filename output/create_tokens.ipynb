{
 "cells": [
  {
   "cell_type": "code",
   "execution_count": 1,
   "id": "879fa1bc",
   "metadata": {
    "execution": {
     "iopub.execute_input": "2024-05-19T15:02:20.478473Z",
     "iopub.status.busy": "2024-05-19T15:02:20.478034Z",
     "iopub.status.idle": "2024-05-19T15:02:20.487049Z",
     "shell.execute_reply": "2024-05-19T15:02:20.486424Z"
    },
    "lines_to_next_cell": 2,
    "papermill": {
     "duration": 0.014491,
     "end_time": "2024-05-19T15:02:20.488500",
     "exception": false,
     "start_time": "2024-05-19T15:02:20.474009",
     "status": "completed"
    },
    "tags": [
     "parameters"
    ]
   },
   "outputs": [],
   "source": [
    "# declare a list tasks whose products you want to use as inputs\n",
    "upstream = None"
   ]
  },
  {
   "cell_type": "code",
   "execution_count": 2,
   "id": "9b708c50",
   "metadata": {
    "execution": {
     "iopub.execute_input": "2024-05-19T15:02:20.492350Z",
     "iopub.status.busy": "2024-05-19T15:02:20.492068Z",
     "iopub.status.idle": "2024-05-19T15:02:20.495463Z",
     "shell.execute_reply": "2024-05-19T15:02:20.494784Z"
    },
    "papermill": {
     "duration": 0.006875,
     "end_time": "2024-05-19T15:02:20.496958",
     "exception": false,
     "start_time": "2024-05-19T15:02:20.490083",
     "status": "completed"
    },
    "tags": [
     "injected-parameters"
    ]
   },
   "outputs": [],
   "source": [
    "# Parameters\n",
    "xLAN_path = \"./data/xlan/kasparov.xlanplus\"\n",
    "token_path = \"./src/tokenizer/xlanplus_tokens.json\"\n",
    "tokenized_path = \"./data/tokens/kasparov.tok\"\n",
    "product = {\"nb\": \"/teamspace/studios/this_studio/ChessOps/output/create_tokens.ipynb\", \"data\": \"/teamspace/studios/this_studio/ChessOps/data/tokens/kasparov.tok\"}\n"
   ]
  },
  {
   "cell_type": "code",
   "execution_count": 3,
   "id": "f7568c31",
   "metadata": {
    "execution": {
     "iopub.execute_input": "2024-05-19T15:02:20.500339Z",
     "iopub.status.busy": "2024-05-19T15:02:20.500060Z",
     "iopub.status.idle": "2024-05-19T15:02:20.502949Z",
     "shell.execute_reply": "2024-05-19T15:02:20.502393Z"
    },
    "lines_to_end_of_cell_marker": 2,
    "lines_to_next_cell": 2,
    "papermill": {
     "duration": 0.006218,
     "end_time": "2024-05-19T15:02:20.504319",
     "exception": false,
     "start_time": "2024-05-19T15:02:20.498101",
     "status": "completed"
    },
    "tags": []
   },
   "outputs": [],
   "source": [
    "upstream = [\"checkDuplicates\"]"
   ]
  },
  {
   "cell_type": "code",
   "execution_count": 4,
   "id": "bda182d2",
   "metadata": {
    "execution": {
     "iopub.execute_input": "2024-05-19T15:02:20.507614Z",
     "iopub.status.busy": "2024-05-19T15:02:20.507368Z",
     "iopub.status.idle": "2024-05-19T15:02:20.511383Z",
     "shell.execute_reply": "2024-05-19T15:02:20.510895Z"
    },
    "papermill": {
     "duration": 0.007282,
     "end_time": "2024-05-19T15:02:20.512746",
     "exception": false,
     "start_time": "2024-05-19T15:02:20.505464",
     "status": "completed"
    },
    "tags": []
   },
   "outputs": [],
   "source": [
    "def tokenize_data(xLAN_path, token_path, tokenized_path):\n",
    "    from src.tokenizer.tokenizer import tokenize_file\n",
    "\n",
    "    tokenize_file(\n",
    "        token_path, xLAN_path, tokenized_path, batch_size=20000\n",
    "    )  # eventually smaller batch size"
   ]
  },
  {
   "cell_type": "code",
   "execution_count": 5,
   "id": "67f7d930",
   "metadata": {
    "execution": {
     "iopub.execute_input": "2024-05-19T15:02:20.516810Z",
     "iopub.status.busy": "2024-05-19T15:02:20.516559Z",
     "iopub.status.idle": "2024-05-19T15:02:24.648167Z",
     "shell.execute_reply": "2024-05-19T15:02:24.647388Z"
    },
    "papermill": {
     "duration": 4.135903,
     "end_time": "2024-05-19T15:02:24.649811",
     "exception": false,
     "start_time": "2024-05-19T15:02:20.513908",
     "status": "completed"
    },
    "tags": []
   },
   "outputs": [
    {
     "name": "stdout",
     "output_type": "stream",
     "text": [
      "Chunks done 1/1\r"
     ]
    }
   ],
   "source": [
    "tokenize_data(xLAN_path, token_path, tokenized_path)"
   ]
  }
 ],
 "metadata": {
  "jupytext": {
   "cell_metadata_filter": "tags,-all",
   "main_language": "python",
   "notebook_metadata_filter": "-all",
   "text_representation": {
    "extension": ".py",
    "format_name": "light"
   }
  },
  "kernelspec": {
   "display_name": "Python 3 (ipykernel)",
   "language": "python",
   "name": "python3"
  },
  "language_info": {
   "codemirror_mode": {
    "name": "ipython",
    "version": 3
   },
   "file_extension": ".py",
   "mimetype": "text/x-python",
   "name": "python",
   "nbconvert_exporter": "python",
   "pygments_lexer": "ipython3",
   "version": "3.10.10"
  },
  "papermill": {
   "duration": 5.253527,
   "end_time": "2024-05-19T15:02:24.870408",
   "exception": null,
   "input_path": "/tmp/tmprvf8aj7f.ipynb",
   "output_path": "/teamspace/studios/this_studio/ChessOps/output/create_tokens.ipynb",
   "parameters": {
    "product": {
     "data": "/teamspace/studios/this_studio/ChessOps/data/tokens/kasparov.tok",
     "nb": "/teamspace/studios/this_studio/ChessOps/output/create_tokens.ipynb"
    },
    "token_path": "./src/tokenizer/xlanplus_tokens.json",
    "tokenized_path": "./data/tokens/kasparov.tok",
    "xLAN_path": "./data/xlan/kasparov.xlanplus"
   },
   "start_time": "2024-05-19T15:02:19.616881"
  }
 },
 "nbformat": 4,
 "nbformat_minor": 5
}