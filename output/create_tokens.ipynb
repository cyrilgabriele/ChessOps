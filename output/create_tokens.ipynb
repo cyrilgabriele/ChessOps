{
 "cells": [
  {
   "cell_type": "code",
   "execution_count": 1,
   "id": "7aa59521",
   "metadata": {
    "execution": {
     "iopub.execute_input": "2024-04-27T14:32:51.277111Z",
     "iopub.status.busy": "2024-04-27T14:32:51.276350Z",
     "iopub.status.idle": "2024-04-27T14:32:51.285177Z",
     "shell.execute_reply": "2024-04-27T14:32:51.284211Z"
    },
    "lines_to_next_cell": 2,
    "papermill": {
     "duration": 0.020149,
     "end_time": "2024-04-27T14:32:51.287900",
     "exception": false,
     "start_time": "2024-04-27T14:32:51.267751",
     "status": "completed"
    },
    "tags": [
     "parameters"
    ]
   },
   "outputs": [],
   "source": [
    "# declare a list tasks whose products you want to use as inputs\n",
    "upstream = None"
   ]
  },
  {
   "cell_type": "code",
   "execution_count": 2,
   "id": "0cdf30f7",
   "metadata": {
    "execution": {
     "iopub.execute_input": "2024-04-27T14:32:51.294283Z",
     "iopub.status.busy": "2024-04-27T14:32:51.293979Z",
     "iopub.status.idle": "2024-04-27T14:32:51.297681Z",
     "shell.execute_reply": "2024-04-27T14:32:51.296714Z"
    },
    "papermill": {
     "duration": 0.008897,
     "end_time": "2024-04-27T14:32:51.299903",
     "exception": false,
     "start_time": "2024-04-27T14:32:51.291006",
     "status": "completed"
    },
    "tags": [
     "injected-parameters"
    ]
   },
   "outputs": [],
   "source": [
    "# Parameters\n",
    "product = {\n",
    "    \"nb\": \"/Users/cyrilgabriele/Documents/School/00_Courses/03_MLOPS/04_Project/ChessOps/output/create_tokens.ipynb\",\n",
    "    \"data\": \"/Users/cyrilgabriele/Documents/School/00_Courses/03_MLOPS/04_Project/ChessOps/data/tokens/carlsen.tok\",\n",
    "}\n"
   ]
  },
  {
   "cell_type": "code",
   "execution_count": 3,
   "id": "fdc773a2",
   "metadata": {
    "execution": {
     "iopub.execute_input": "2024-04-27T14:32:51.304973Z",
     "iopub.status.busy": "2024-04-27T14:32:51.304514Z",
     "iopub.status.idle": "2024-04-27T14:32:51.307726Z",
     "shell.execute_reply": "2024-04-27T14:32:51.307212Z"
    },
    "papermill": {
     "duration": 0.007444,
     "end_time": "2024-04-27T14:32:51.309439",
     "exception": false,
     "start_time": "2024-04-27T14:32:51.301995",
     "status": "completed"
    },
    "tags": []
   },
   "outputs": [],
   "source": [
    "upstream = [\"checkDuplicates\"]"
   ]
  },
  {
   "cell_type": "code",
   "execution_count": 4,
   "id": "b9e65bcd",
   "metadata": {
    "execution": {
     "iopub.execute_input": "2024-04-27T14:32:51.313272Z",
     "iopub.status.busy": "2024-04-27T14:32:51.313069Z",
     "iopub.status.idle": "2024-04-27T14:32:51.316159Z",
     "shell.execute_reply": "2024-04-27T14:32:51.315776Z"
    },
    "papermill": {
     "duration": 0.006259,
     "end_time": "2024-04-27T14:32:51.317542",
     "exception": false,
     "start_time": "2024-04-27T14:32:51.311283",
     "status": "completed"
    },
    "tags": []
   },
   "outputs": [],
   "source": [
    "def tokenize_data():\n",
    "    from src.tokenizer.tokenizer import tokenize_file\n",
    "    \n",
    "    xLAN_path = \"/Users/cyrilgabriele/Documents/School/00_Courses/03_MLOPS/04_Project/ChessOps/data/xlan/carlsen.xlanplus\" # Inout Path \n",
    "    token_path = \"./src/tokenizer/xlanplus_tokens.json\" # keep this, correct like this\n",
    "    tokenized_path = \"/Users/cyrilgabriele/Documents/School/00_Courses/03_MLOPS/04_Project/ChessOps/data/tokens/carlsen.tok\" # Output path\n",
    "\n",
    "    tokenize_file(token_path, xLAN_path, tokenized_path, batch_size=20000) # eventually smaller batch size"
   ]
  },
  {
   "cell_type": "code",
   "execution_count": 5,
   "id": "f7291cd8",
   "metadata": {
    "execution": {
     "iopub.execute_input": "2024-04-27T14:32:51.320328Z",
     "iopub.status.busy": "2024-04-27T14:32:51.320171Z",
     "iopub.status.idle": "2024-04-27T14:32:51.586385Z",
     "shell.execute_reply": "2024-04-27T14:32:51.586124Z"
    },
    "papermill": {
     "duration": 0.268376,
     "end_time": "2024-04-27T14:32:51.587120",
     "exception": false,
     "start_time": "2024-04-27T14:32:51.318744",
     "status": "completed"
    },
    "tags": []
   },
   "outputs": [
    {
     "name": "stdout",
     "output_type": "stream",
     "text": [
      "Chunks done 1/1\r"
     ]
    }
   ],
   "source": [
    "tokenize_data()"
   ]
  }
 ],
 "metadata": {
  "jupytext": {
   "cell_metadata_filter": "tags,-all",
   "main_language": "python",
   "notebook_metadata_filter": "-all",
   "text_representation": {
    "extension": ".py",
    "format_name": "light"
   }
  },
  "kernelspec": {
   "display_name": "Python 3 (ipykernel)",
   "language": "python",
   "name": "python3"
  },
  "language_info": {
   "codemirror_mode": {
    "name": "ipython",
    "version": 3
   },
   "file_extension": ".py",
   "mimetype": "text/x-python",
   "name": "python",
   "nbconvert_exporter": "python",
   "pygments_lexer": "ipython3",
   "version": "3.12.3"
  },
  "papermill": {
   "duration": 3.520049,
   "end_time": "2024-04-27T14:32:54.207311",
   "exception": null,
   "input_path": "/var/folders/cf/9wfygdwx54d0p_mtqmbwcmxw0000gn/T/tmpl4_r364q.ipynb",
   "output_path": "/Users/cyrilgabriele/Documents/School/00_Courses/03_MLOPS/04_Project/ChessOps/output/create_tokens.ipynb",
   "parameters": {
    "product": {
     "data": "/Users/cyrilgabriele/Documents/School/00_Courses/03_MLOPS/04_Project/ChessOps/data/tokens/carlsen.tok",
     "nb": "/Users/cyrilgabriele/Documents/School/00_Courses/03_MLOPS/04_Project/ChessOps/output/create_tokens.ipynb"
    }
   },
   "start_time": "2024-04-27T14:32:50.687262"
  }
 },
 "nbformat": 4,
 "nbformat_minor": 5
}