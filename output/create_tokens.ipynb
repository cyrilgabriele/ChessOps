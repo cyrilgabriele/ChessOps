{
 "cells": [
  {
   "cell_type": "code",
   "execution_count": 1,
   "id": "b2bc60dc",
   "metadata": {
    "execution": {
     "iopub.execute_input": "2024-05-08T09:43:36.178833Z",
     "iopub.status.busy": "2024-05-08T09:43:36.178528Z",
     "iopub.status.idle": "2024-05-08T09:43:36.184525Z",
     "shell.execute_reply": "2024-05-08T09:43:36.184133Z"
    },
    "lines_to_next_cell": 2,
    "papermill": {
     "duration": 0.010415,
     "end_time": "2024-05-08T09:43:36.185698",
     "exception": false,
     "start_time": "2024-05-08T09:43:36.175283",
     "status": "completed"
    },
    "tags": [
     "parameters"
    ]
   },
   "outputs": [],
   "source": [
    "# declare a list tasks whose products you want to use as inputs\n",
    "upstream = None"
   ]
  },
  {
   "cell_type": "code",
   "execution_count": 2,
   "id": "cfc988fb",
   "metadata": {
    "execution": {
     "iopub.execute_input": "2024-05-08T09:43:36.188979Z",
     "iopub.status.busy": "2024-05-08T09:43:36.188799Z",
     "iopub.status.idle": "2024-05-08T09:43:36.190972Z",
     "shell.execute_reply": "2024-05-08T09:43:36.190648Z"
    },
    "papermill": {
     "duration": 0.004923,
     "end_time": "2024-05-08T09:43:36.192095",
     "exception": false,
     "start_time": "2024-05-08T09:43:36.187172",
     "status": "completed"
    },
    "tags": [
     "injected-parameters"
    ]
   },
   "outputs": [],
   "source": [
    "# Parameters\n",
    "product = {\"nb\": \"/Users/larscarlschmid/Documents/_repos/ChessOps/output/create_tokens.ipynb\", \"data\": \"/Users/larscarlschmid/Documents/_repos/ChessOps/data/tokens/carlsen.tok\"}\n"
   ]
  },
  {
   "cell_type": "code",
   "execution_count": 3,
   "id": "54a2c9bc",
   "metadata": {
    "execution": {
     "iopub.execute_input": "2024-05-08T09:43:36.194792Z",
     "iopub.status.busy": "2024-05-08T09:43:36.194594Z",
     "iopub.status.idle": "2024-05-08T09:43:36.196735Z",
     "shell.execute_reply": "2024-05-08T09:43:36.196405Z"
    },
    "lines_to_end_of_cell_marker": 2,
    "lines_to_next_cell": 2,
    "papermill": {
     "duration": 0.004672,
     "end_time": "2024-05-08T09:43:36.197780",
     "exception": false,
     "start_time": "2024-05-08T09:43:36.193108",
     "status": "completed"
    },
    "tags": []
   },
   "outputs": [],
   "source": [
    "upstream = [\"checkDuplicates\"]"
   ]
  },
  {
   "cell_type": "code",
   "execution_count": 4,
   "id": "1677d7f7",
   "metadata": {
    "execution": {
     "iopub.execute_input": "2024-05-08T09:43:36.200239Z",
     "iopub.status.busy": "2024-05-08T09:43:36.200096Z",
     "iopub.status.idle": "2024-05-08T09:43:36.202558Z",
     "shell.execute_reply": "2024-05-08T09:43:36.202253Z"
    },
    "papermill": {
     "duration": 0.004768,
     "end_time": "2024-05-08T09:43:36.203461",
     "exception": false,
     "start_time": "2024-05-08T09:43:36.198693",
     "status": "completed"
    },
    "tags": []
   },
   "outputs": [],
   "source": [
    "def tokenize_data():\n",
    "    from src.tokenizer.tokenizer import tokenize_file\n",
    "\n",
    "    xLAN_path = \"./data/xlan/carlsen.xlanplus\"  # Inout Path\n",
    "    token_path = \"./src/tokenizer/xlanplus_tokens.json\"  # keep this, correct like this\n",
    "    tokenized_path = \"./data/tokens/carlsen.tok\"  # Output path\n",
    "\n",
    "    tokenize_file(\n",
    "        token_path, xLAN_path, tokenized_path, batch_size=20000\n",
    "    )  # eventually smaller batch size"
   ]
  },
  {
   "cell_type": "code",
   "execution_count": 5,
   "id": "517429c3",
   "metadata": {
    "execution": {
     "iopub.execute_input": "2024-05-08T09:43:36.205568Z",
     "iopub.status.busy": "2024-05-08T09:43:36.205447Z",
     "iopub.status.idle": "2024-05-08T09:43:36.479960Z",
     "shell.execute_reply": "2024-05-08T09:43:36.479616Z"
    },
    "papermill": {
     "duration": 0.276556,
     "end_time": "2024-05-08T09:43:36.480857",
     "exception": false,
     "start_time": "2024-05-08T09:43:36.204301",
     "status": "completed"
    },
    "tags": []
   },
   "outputs": [
    {
     "name": "stdout",
     "output_type": "stream",
     "text": [
      "Chunks done 1/1\r"
     ]
    }
   ],
   "source": [
    "tokenize_data()"
   ]
  }
 ],
 "metadata": {
  "jupytext": {
   "cell_metadata_filter": "tags,-all",
   "main_language": "python",
   "notebook_metadata_filter": "-all",
   "text_representation": {
    "extension": ".py",
    "format_name": "light"
   }
  },
  "kernelspec": {
   "display_name": "Python 3 (ipykernel)",
   "language": "python",
   "name": "python3"
  },
  "language_info": {
   "codemirror_mode": {
    "name": "ipython",
    "version": 3
   },
   "file_extension": ".py",
   "mimetype": "text/x-python",
   "name": "python",
   "nbconvert_exporter": "python",
   "pygments_lexer": "ipython3",
   "version": "3.11.0"
  },
  "papermill": {
   "duration": 3.704479,
   "end_time": "2024-05-08T09:43:39.101626",
   "exception": null,
   "input_path": "/var/folders/h3/3d89qwl94937xcsw4qq0hh2c0000gn/T/tmpbzh2leup.ipynb",
   "output_path": "/Users/larscarlschmid/Documents/_repos/ChessOps/output/create_tokens.ipynb",
   "parameters": {
    "product": {
     "data": "/Users/larscarlschmid/Documents/_repos/ChessOps/data/tokens/carlsen.tok",
     "nb": "/Users/larscarlschmid/Documents/_repos/ChessOps/output/create_tokens.ipynb"
    }
   },
   "start_time": "2024-05-08T09:43:35.397147"
  }
 },
 "nbformat": 4,
 "nbformat_minor": 5
}