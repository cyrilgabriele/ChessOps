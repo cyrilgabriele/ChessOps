{
 "cells": [
  {
   "cell_type": "code",
   "execution_count": 1,
   "id": "f1b55014",
   "metadata": {
    "execution": {
     "iopub.execute_input": "2024-05-08T15:08:06.760020Z",
     "iopub.status.busy": "2024-05-08T15:08:06.759436Z",
     "iopub.status.idle": "2024-05-08T15:08:06.765913Z",
     "shell.execute_reply": "2024-05-08T15:08:06.765359Z"
    },
    "papermill": {
     "duration": 0.010269,
     "end_time": "2024-05-08T15:08:06.767075",
     "exception": false,
     "start_time": "2024-05-08T15:08:06.756806",
     "status": "completed"
    },
    "tags": [
     "parameters"
    ]
   },
   "outputs": [],
   "source": [
    "# declare a list tasks whose products you want to use as inputs\n",
    "upstream = None\n"
   ]
  },
  {
   "cell_type": "code",
   "execution_count": 2,
   "id": "8b6dfa1f",
   "metadata": {
    "execution": {
     "iopub.execute_input": "2024-05-08T15:08:06.770392Z",
     "iopub.status.busy": "2024-05-08T15:08:06.770078Z",
     "iopub.status.idle": "2024-05-08T15:08:06.773068Z",
     "shell.execute_reply": "2024-05-08T15:08:06.772508Z"
    },
    "papermill": {
     "duration": 0.005617,
     "end_time": "2024-05-08T15:08:06.774085",
     "exception": false,
     "start_time": "2024-05-08T15:08:06.768468",
     "status": "completed"
    },
    "tags": [
     "injected-parameters"
    ]
   },
   "outputs": [],
   "source": [
    "# Parameters\n",
    "pgn_path = \"./data/pgn/kasparov.pgn\"\n",
    "lan_path = \"./data/xlan/kasparov.xlanplus\"\n",
    "training_file = \"./data/xlan/kasparov.xlanplus\"\n",
    "product = {\"nb\": \"/teamspace/studios/this_studio/ChessOps/output/pgn_to_xlan.ipynb\", \"data\": \"/teamspace/studios/this_studio/ChessOps/data/xlan/kasparov.xlanplus\"}\n"
   ]
  },
  {
   "cell_type": "code",
   "execution_count": 3,
   "id": "9841e2c4",
   "metadata": {
    "execution": {
     "iopub.execute_input": "2024-05-08T15:08:06.777777Z",
     "iopub.status.busy": "2024-05-08T15:08:06.777479Z",
     "iopub.status.idle": "2024-05-08T15:08:06.780344Z",
     "shell.execute_reply": "2024-05-08T15:08:06.779754Z"
    },
    "papermill": {
     "duration": 0.006156,
     "end_time": "2024-05-08T15:08:06.781343",
     "exception": false,
     "start_time": "2024-05-08T15:08:06.775187",
     "status": "completed"
    },
    "tags": []
   },
   "outputs": [],
   "source": [
    "upstream = []"
   ]
  },
  {
   "cell_type": "code",
   "execution_count": 4,
   "id": "a57bc2e8",
   "metadata": {
    "execution": {
     "iopub.execute_input": "2024-05-08T15:08:06.784383Z",
     "iopub.status.busy": "2024-05-08T15:08:06.784079Z",
     "iopub.status.idle": "2024-05-08T15:08:06.787480Z",
     "shell.execute_reply": "2024-05-08T15:08:06.786947Z"
    },
    "papermill": {
     "duration": 0.006028,
     "end_time": "2024-05-08T15:08:06.788469",
     "exception": false,
     "start_time": "2024-05-08T15:08:06.782441",
     "status": "completed"
    },
    "tags": []
   },
   "outputs": [],
   "source": [
    "def pgn_to_xlan(pgn_path, xlan_path):\n",
    "    from src.data_preprocessing.pgn_to_xlan import pgn_to_xlan\n",
    "\n",
    "    min_number_of_moves_per_game = 0\n",
    "    number_of_games_to_write = -1  # -1 for all games\n",
    "\n",
    "    pgn_to_lan = pgn_to_xlan(\n",
    "        pgn_path,\n",
    "        xlan_path,\n",
    "        min_number_of_moves_per_game=min_number_of_moves_per_game,\n",
    "        number_of_games_to_write=number_of_games_to_write,\n",
    "        generate_all_moves=False,\n",
    "        log=False,\n",
    "        xLanPlus=True,\n",
    "    )\n",
    "\n",
    "    pgn_to_lan.convert_pgn_parallel()"
   ]
  },
  {
   "cell_type": "code",
   "execution_count": 5,
   "id": "50a1e721",
   "metadata": {
    "execution": {
     "iopub.execute_input": "2024-05-08T15:08:06.791695Z",
     "iopub.status.busy": "2024-05-08T15:08:06.791244Z",
     "iopub.status.idle": "2024-05-08T15:08:06.794594Z",
     "shell.execute_reply": "2024-05-08T15:08:06.794060Z"
    },
    "papermill": {
     "duration": 0.006038,
     "end_time": "2024-05-08T15:08:06.795595",
     "exception": false,
     "start_time": "2024-05-08T15:08:06.789557",
     "status": "completed"
    },
    "tags": []
   },
   "outputs": [],
   "source": [
    "def remove_duplicates(file_path):\n",
    "    from collections import OrderedDict\n",
    "\n",
    "    with open(file_path, \"r\") as f:\n",
    "        lines = OrderedDict((line, None) for line in f)\n",
    "\n",
    "    with open(file_path, \"w\") as f:\n",
    "        f.writelines(lines.keys())"
   ]
  },
  {
   "cell_type": "code",
   "execution_count": 6,
   "id": "c701694d",
   "metadata": {
    "execution": {
     "iopub.execute_input": "2024-05-08T15:08:06.799081Z",
     "iopub.status.busy": "2024-05-08T15:08:06.798755Z",
     "iopub.status.idle": "2024-05-08T15:08:07.551780Z",
     "shell.execute_reply": "2024-05-08T15:08:07.551007Z"
    },
    "papermill": {
     "duration": 0.756386,
     "end_time": "2024-05-08T15:08:07.553080",
     "exception": false,
     "start_time": "2024-05-08T15:08:06.796694",
     "status": "completed"
    },
    "tags": []
   },
   "outputs": [
    {
     "name": "stdout",
     "output_type": "stream",
     "text": [
      "\tNumber of writen games: 34\r"
     ]
    }
   ],
   "source": [
    "pgn_to_xlan(pgn_path, lan_path)\n",
    "remove_duplicates(training_file)"
   ]
  }
 ],
 "metadata": {
  "jupytext": {
   "cell_metadata_filter": "tags,-all",
   "main_language": "python",
   "notebook_metadata_filter": "-all",
   "text_representation": {
    "extension": ".py",
    "format_name": "light"
   }
  },
  "kernelspec": {
   "display_name": "Python 3 (ipykernel)",
   "language": "python",
   "name": "python3"
  },
  "language_info": {
   "codemirror_mode": {
    "name": "ipython",
    "version": 3
   },
   "file_extension": ".py",
   "mimetype": "text/x-python",
   "name": "python",
   "nbconvert_exporter": "python",
   "pygments_lexer": "ipython3",
   "version": "3.10.10"
  },
  "papermill": {
   "duration": 1.566861,
   "end_time": "2024-05-08T15:08:07.669952",
   "exception": null,
   "input_path": "/tmp/tmpjowann3i.ipynb",
   "output_path": "/teamspace/studios/this_studio/ChessOps/output/pgn_to_xlan.ipynb",
   "parameters": {
    "lan_path": "./data/xlan/kasparov.xlanplus",
    "pgn_path": "./data/pgn/kasparov.pgn",
    "product": {
     "data": "/teamspace/studios/this_studio/ChessOps/data/xlan/kasparov.xlanplus",
     "nb": "/teamspace/studios/this_studio/ChessOps/output/pgn_to_xlan.ipynb"
    },
    "training_file": "./data/xlan/kasparov.xlanplus"
   },
   "start_time": "2024-05-08T15:08:06.103091"
  }
 },
 "nbformat": 4,
 "nbformat_minor": 5
}