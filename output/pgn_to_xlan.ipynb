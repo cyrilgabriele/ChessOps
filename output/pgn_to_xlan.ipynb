{
 "cells": [
  {
   "cell_type": "code",
   "execution_count": 1,
   "id": "1cb1b870",
   "metadata": {
    "execution": {
     "iopub.execute_input": "2024-04-27T14:33:56.811152Z",
     "iopub.status.busy": "2024-04-27T14:33:56.810724Z",
     "iopub.status.idle": "2024-04-27T14:33:56.814328Z",
     "shell.execute_reply": "2024-04-27T14:33:56.813909Z"
    },
    "papermill": {
     "duration": 0.011756,
     "end_time": "2024-04-27T14:33:56.815665",
     "exception": false,
     "start_time": "2024-04-27T14:33:56.803909",
     "status": "completed"
    },
    "tags": [
     "parameters"
    ]
   },
   "outputs": [],
   "source": [
    "# declare a list tasks whose products you want to use as inputs\n",
    "upstream = None\n"
   ]
  },
  {
   "cell_type": "code",
   "execution_count": 2,
   "id": "528420d0",
   "metadata": {
    "execution": {
     "iopub.execute_input": "2024-04-27T14:33:56.818935Z",
     "iopub.status.busy": "2024-04-27T14:33:56.818773Z",
     "iopub.status.idle": "2024-04-27T14:33:56.821001Z",
     "shell.execute_reply": "2024-04-27T14:33:56.820701Z"
    },
    "papermill": {
     "duration": 0.004729,
     "end_time": "2024-04-27T14:33:56.822001",
     "exception": false,
     "start_time": "2024-04-27T14:33:56.817272",
     "status": "completed"
    },
    "tags": [
     "injected-parameters"
    ]
   },
   "outputs": [],
   "source": [
    "# Parameters\n",
    "product = {\n",
    "    \"nb\": \"/Users/cyrilgabriele/Documents/School/00_Courses/03_MLOPS/04_Project/ChessOps/output/pgn_to_xlan.ipynb\",\n",
    "    \"data\": \"/Users/cyrilgabriele/Documents/School/00_Courses/03_MLOPS/04_Project/ChessOps/data/xlan/carlsen.xlanplus\",\n",
    "}\n"
   ]
  },
  {
   "cell_type": "code",
   "execution_count": 3,
   "id": "1fdf31bf",
   "metadata": {
    "execution": {
     "iopub.execute_input": "2024-04-27T14:33:56.824644Z",
     "iopub.status.busy": "2024-04-27T14:33:56.824496Z",
     "iopub.status.idle": "2024-04-27T14:33:56.827105Z",
     "shell.execute_reply": "2024-04-27T14:33:56.826784Z"
    },
    "papermill": {
     "duration": 0.005039,
     "end_time": "2024-04-27T14:33:56.828155",
     "exception": false,
     "start_time": "2024-04-27T14:33:56.823116",
     "status": "completed"
    },
    "tags": []
   },
   "outputs": [],
   "source": [
    "upstream = []\n",
    "def pgn_to_xlan():\n",
    "    from src.data_preprocessing.pgn_to_xlan import pgn_to_xlan\n",
    "\n",
    "    # TODO change to valid paths\n",
    "    pgn_path = \"/Users/cyrilgabriele/Documents/School/00_Courses/03_MLOPS/04_Project/ChessOps/data/pgn/Carlsen.pgn\"\n",
    "    lan_path = \"/Users/cyrilgabriele/Documents/School/00_Courses/03_MLOPS/04_Project/ChessOps/data/xlan/carlsen.xlanplus\"\n",
    "\n",
    "    min_number_of_moves_per_game = 0\n",
    "    number_of_games_to_write = -1  # -1 for all games\n",
    "\n",
    "    pgn_to_lan = pgn_to_xlan(\n",
    "        pgn_path,\n",
    "        lan_path,\n",
    "        min_number_of_moves_per_game=min_number_of_moves_per_game,\n",
    "        number_of_games_to_write=number_of_games_to_write,\n",
    "        generate_all_moves=False,\n",
    "        log=False,\n",
    "        xLanPlus=True,\n",
    "    )\n",
    "\n",
    "    pgn_to_lan.convert_pgn_parallel()"
   ]
  },
  {
   "cell_type": "code",
   "execution_count": 4,
   "id": "6d52f340",
   "metadata": {
    "execution": {
     "iopub.execute_input": "2024-04-27T14:33:56.830418Z",
     "iopub.status.busy": "2024-04-27T14:33:56.830295Z",
     "iopub.status.idle": "2024-04-27T14:33:58.419304Z",
     "shell.execute_reply": "2024-04-27T14:33:58.419031Z"
    },
    "lines_to_next_cell": 1,
    "papermill": {
     "duration": 1.591016,
     "end_time": "2024-04-27T14:33:58.420144",
     "exception": false,
     "start_time": "2024-04-27T14:33:56.829128",
     "status": "completed"
    },
    "tags": []
   },
   "outputs": [
    {
     "name": "stdout",
     "output_type": "stream",
     "text": [
      "\tNumber of writen games: 397\r"
     ]
    }
   ],
   "source": [
    "pgn_to_xlan()"
   ]
  },
  {
   "cell_type": "code",
   "execution_count": 5,
   "id": "32df68ac",
   "metadata": {
    "execution": {
     "iopub.execute_input": "2024-04-27T14:33:58.422059Z",
     "iopub.status.busy": "2024-04-27T14:33:58.421953Z",
     "iopub.status.idle": "2024-04-27T14:33:58.423865Z",
     "shell.execute_reply": "2024-04-27T14:33:58.423680Z"
    },
    "papermill": {
     "duration": 0.003525,
     "end_time": "2024-04-27T14:33:58.424502",
     "exception": false,
     "start_time": "2024-04-27T14:33:58.420977",
     "status": "completed"
    },
    "tags": []
   },
   "outputs": [],
   "source": [
    "def check_duplicates():\n",
    "    from src.data_preprocessing.check_duplicates_and_common_lines import (\n",
    "        check_duplicates_and_common_lines,\n",
    "    )   \n",
    "    \n",
    "    # TODO what is the validation file?\n",
    "    training_file = \"/Users/cyrilgabriele/Documents/School/00_Courses/03_MLOPS/04_Project/ChessOps/data/xlan/carlsen.xlanplus\"\n",
    "    validation_file = (\n",
    "        \"/Users/cyrilgabriele/Documents/School/00_Courses/03_MLOPS/04_Project/ChessOps/data/xlan/carlsen.xlanplus\"\n",
    "    )\n",
    "\n",
    "    check_duplicates_and_common_lines(training_file, validation_file, delete_common=False, delete_duplicates_from_file_1=True, delete_duplicates_from_file_2=False)"
   ]
  },
  {
   "cell_type": "code",
   "execution_count": 6,
   "id": "d3fd8fea",
   "metadata": {
    "execution": {
     "iopub.execute_input": "2024-04-27T14:33:58.425887Z",
     "iopub.status.busy": "2024-04-27T14:33:58.425808Z",
     "iopub.status.idle": "2024-04-27T14:33:58.428715Z",
     "shell.execute_reply": "2024-04-27T14:33:58.428472Z"
    },
    "papermill": {
     "duration": 0.004378,
     "end_time": "2024-04-27T14:33:58.429399",
     "exception": false,
     "start_time": "2024-04-27T14:33:58.425021",
     "status": "completed"
    },
    "tags": []
   },
   "outputs": [],
   "source": [
    "check_duplicates()"
   ]
  }
 ],
 "metadata": {
  "jupytext": {
   "cell_metadata_filter": "tags,-all",
   "main_language": "python",
   "notebook_metadata_filter": "-all",
   "text_representation": {
    "extension": ".py",
    "format_name": "light"
   }
  },
  "kernelspec": {
   "display_name": "Python 3 (ipykernel)",
   "language": "python",
   "name": "python3"
  },
  "language_info": {
   "codemirror_mode": {
    "name": "ipython",
    "version": 3
   },
   "file_extension": ".py",
   "mimetype": "text/x-python",
   "name": "python",
   "nbconvert_exporter": "python",
   "pygments_lexer": "ipython3",
   "version": "3.12.3"
  },
  "papermill": {
   "duration": 4.950572,
   "end_time": "2024-04-27T14:34:01.049330",
   "exception": null,
   "input_path": "/var/folders/cf/9wfygdwx54d0p_mtqmbwcmxw0000gn/T/tmp2hgqmmsx.ipynb",
   "output_path": "/Users/cyrilgabriele/Documents/School/00_Courses/03_MLOPS/04_Project/ChessOps/output/pgn_to_xlan.ipynb",
   "parameters": {
    "product": {
     "data": "/Users/cyrilgabriele/Documents/School/00_Courses/03_MLOPS/04_Project/ChessOps/data/xlan/carlsen.xlanplus",
     "nb": "/Users/cyrilgabriele/Documents/School/00_Courses/03_MLOPS/04_Project/ChessOps/output/pgn_to_xlan.ipynb"
    }
   },
   "start_time": "2024-04-27T14:33:56.098758"
  }
 },
 "nbformat": 4,
 "nbformat_minor": 5
}