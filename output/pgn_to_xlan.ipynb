{
 "cells": [
  {
   "cell_type": "code",
   "execution_count": 1,
   "id": "509c6132",
   "metadata": {
    "execution": {
     "iopub.execute_input": "2024-05-19T16:10:46.181849Z",
     "iopub.status.busy": "2024-05-19T16:10:46.181455Z",
     "iopub.status.idle": "2024-05-19T16:10:46.189086Z",
     "shell.execute_reply": "2024-05-19T16:10:46.188552Z"
    },
    "papermill": {
     "duration": 0.012144,
     "end_time": "2024-05-19T16:10:46.190706",
     "exception": false,
     "start_time": "2024-05-19T16:10:46.178562",
     "status": "completed"
    },
    "tags": [
     "parameters"
    ]
   },
   "outputs": [],
   "source": [
    "# declare a list tasks whose products you want to use as inputs\n",
    "upstream = None\n"
   ]
  },
  {
   "cell_type": "code",
   "execution_count": 2,
   "id": "b84fb600",
   "metadata": {
    "execution": {
     "iopub.execute_input": "2024-05-19T16:10:46.195199Z",
     "iopub.status.busy": "2024-05-19T16:10:46.194932Z",
     "iopub.status.idle": "2024-05-19T16:10:46.198271Z",
     "shell.execute_reply": "2024-05-19T16:10:46.197558Z"
    },
    "papermill": {
     "duration": 0.006972,
     "end_time": "2024-05-19T16:10:46.199804",
     "exception": false,
     "start_time": "2024-05-19T16:10:46.192832",
     "status": "completed"
    },
    "tags": [
     "injected-parameters"
    ]
   },
   "outputs": [],
   "source": [
    "# Parameters\n",
    "pgn_path = \"./data/pgn/carlsen.pgn\"\n",
    "lan_path = \"./data/xlan/carlsen.xlanplus\"\n",
    "training_file = \"./data/xlan/carlsen.xlanplus\"\n",
    "product = {\"nb\": \"/teamspace/studios/this_studio/ChessOps/output/pgn_to_xlan.ipynb\", \"data\": \"/teamspace/studios/this_studio/ChessOps/data/xlan/carlsen.xlanplus\"}\n"
   ]
  },
  {
   "cell_type": "code",
   "execution_count": 3,
   "id": "935988d6",
   "metadata": {
    "execution": {
     "iopub.execute_input": "2024-05-19T16:10:46.203384Z",
     "iopub.status.busy": "2024-05-19T16:10:46.203116Z",
     "iopub.status.idle": "2024-05-19T16:10:46.206168Z",
     "shell.execute_reply": "2024-05-19T16:10:46.205595Z"
    },
    "papermill": {
     "duration": 0.006491,
     "end_time": "2024-05-19T16:10:46.207534",
     "exception": false,
     "start_time": "2024-05-19T16:10:46.201043",
     "status": "completed"
    },
    "tags": []
   },
   "outputs": [],
   "source": [
    "upstream = []"
   ]
  },
  {
   "cell_type": "code",
   "execution_count": 4,
   "id": "95e6b2a5",
   "metadata": {
    "execution": {
     "iopub.execute_input": "2024-05-19T16:10:46.211137Z",
     "iopub.status.busy": "2024-05-19T16:10:46.210882Z",
     "iopub.status.idle": "2024-05-19T16:10:46.214975Z",
     "shell.execute_reply": "2024-05-19T16:10:46.214404Z"
    },
    "papermill": {
     "duration": 0.007603,
     "end_time": "2024-05-19T16:10:46.216398",
     "exception": false,
     "start_time": "2024-05-19T16:10:46.208795",
     "status": "completed"
    },
    "tags": []
   },
   "outputs": [],
   "source": [
    "def pgn_to_xlan(pgn_path, xlan_path):\n",
    "    from src.data_preprocessing.pgn_to_xlan import pgn_to_xlan\n",
    "\n",
    "    min_number_of_moves_per_game = 0\n",
    "    number_of_games_to_write = -1  # -1 for all games\n",
    "\n",
    "    pgn_to_lan = pgn_to_xlan(\n",
    "        pgn_path,\n",
    "        xlan_path,\n",
    "        min_number_of_moves_per_game=min_number_of_moves_per_game,\n",
    "        number_of_games_to_write=number_of_games_to_write,\n",
    "        generate_all_moves=False,\n",
    "        log=False,\n",
    "        xLanPlus=True,\n",
    "    )\n",
    "\n",
    "    pgn_to_lan.convert_pgn_parallel()"
   ]
  },
  {
   "cell_type": "code",
   "execution_count": 5,
   "id": "716b4fa0",
   "metadata": {
    "execution": {
     "iopub.execute_input": "2024-05-19T16:10:46.220095Z",
     "iopub.status.busy": "2024-05-19T16:10:46.219843Z",
     "iopub.status.idle": "2024-05-19T16:10:46.223783Z",
     "shell.execute_reply": "2024-05-19T16:10:46.223244Z"
    },
    "papermill": {
     "duration": 0.007368,
     "end_time": "2024-05-19T16:10:46.225085",
     "exception": false,
     "start_time": "2024-05-19T16:10:46.217717",
     "status": "completed"
    },
    "tags": []
   },
   "outputs": [],
   "source": [
    "def remove_duplicates(file_path):\n",
    "    from collections import OrderedDict\n",
    "\n",
    "    with open(file_path, \"r\") as f:\n",
    "        lines = OrderedDict((line, None) for line in f)\n",
    "\n",
    "    with open(file_path, \"w\") as f:\n",
    "        f.writelines(lines.keys())"
   ]
  },
  {
   "cell_type": "code",
   "execution_count": 6,
   "id": "a283626e",
   "metadata": {
    "execution": {
     "iopub.execute_input": "2024-05-19T16:10:46.228871Z",
     "iopub.status.busy": "2024-05-19T16:10:46.228624Z",
     "iopub.status.idle": "2024-05-19T16:11:00.406375Z",
     "shell.execute_reply": "2024-05-19T16:11:00.405478Z"
    },
    "papermill": {
     "duration": 14.18143,
     "end_time": "2024-05-19T16:11:00.407991",
     "exception": false,
     "start_time": "2024-05-19T16:10:46.226561",
     "status": "completed"
    },
    "tags": []
   },
   "outputs": [
    {
     "name": "stdout",
     "output_type": "stream",
     "text": [
      "game_positions: 5662\n"
     ]
    },
    {
     "name": "stdout",
     "output_type": "stream",
     "text": [
      "\tNumber of writen games: 5662\r",
      "game_positions: 1\n"
     ]
    }
   ],
   "source": [
    "pgn_to_xlan(pgn_path, lan_path)\n",
    "remove_duplicates(training_file)"
   ]
  }
 ],
 "metadata": {
  "jupytext": {
   "cell_metadata_filter": "tags,-all",
   "main_language": "python",
   "notebook_metadata_filter": "-all",
   "text_representation": {
    "extension": ".py",
    "format_name": "light"
   }
  },
  "kernelspec": {
   "display_name": "Python 3 (ipykernel)",
   "language": "python",
   "name": "python3"
  },
  "language_info": {
   "codemirror_mode": {
    "name": "ipython",
    "version": 3
   },
   "file_extension": ".py",
   "mimetype": "text/x-python",
   "name": "python",
   "nbconvert_exporter": "python",
   "pygments_lexer": "ipython3",
   "version": "3.10.10"
  },
  "papermill": {
   "duration": 15.327117,
   "end_time": "2024-05-19T16:11:00.626872",
   "exception": null,
   "input_path": "/tmp/tmpt0m4hwh9.ipynb",
   "output_path": "/teamspace/studios/this_studio/ChessOps/output/pgn_to_xlan.ipynb",
   "parameters": {
    "lan_path": "./data/xlan/carlsen.xlanplus",
    "pgn_path": "./data/pgn/carlsen.pgn",
    "product": {
     "data": "/teamspace/studios/this_studio/ChessOps/data/xlan/carlsen.xlanplus",
     "nb": "/teamspace/studios/this_studio/ChessOps/output/pgn_to_xlan.ipynb"
    },
    "training_file": "./data/xlan/carlsen.xlanplus"
   },
   "start_time": "2024-05-19T16:10:45.299755"
  }
 },
 "nbformat": 4,
 "nbformat_minor": 5
}