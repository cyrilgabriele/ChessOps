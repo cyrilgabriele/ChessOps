{
 "cells": [
  {
   "cell_type": "code",
   "execution_count": 1,
   "id": "17cc3d12",
   "metadata": {
    "execution": {
     "iopub.execute_input": "2024-05-08T11:57:31.786875Z",
     "iopub.status.busy": "2024-05-08T11:57:31.786229Z",
     "iopub.status.idle": "2024-05-08T11:57:31.793913Z",
     "shell.execute_reply": "2024-05-08T11:57:31.793325Z"
    },
    "papermill": {
     "duration": 0.016511,
     "end_time": "2024-05-08T11:57:31.795745",
     "exception": false,
     "start_time": "2024-05-08T11:57:31.779234",
     "status": "completed"
    },
    "tags": [
     "parameters"
    ]
   },
   "outputs": [],
   "source": [
    "# declare a list tasks whose products you want to use as inputs\n",
    "upstream = None\n"
   ]
  },
  {
   "cell_type": "code",
   "execution_count": 2,
   "id": "5d91ca20",
   "metadata": {
    "execution": {
     "iopub.execute_input": "2024-05-08T11:57:31.800129Z",
     "iopub.status.busy": "2024-05-08T11:57:31.799913Z",
     "iopub.status.idle": "2024-05-08T11:57:31.802626Z",
     "shell.execute_reply": "2024-05-08T11:57:31.802236Z"
    },
    "papermill": {
     "duration": 0.006475,
     "end_time": "2024-05-08T11:57:31.804298",
     "exception": false,
     "start_time": "2024-05-08T11:57:31.797823",
     "status": "completed"
    },
    "tags": [
     "injected-parameters"
    ]
   },
   "outputs": [],
   "source": [
    "# Parameters\n",
    "pgn_path = \"data/pgn/carlsen.pgn\"\n",
    "lan_path = \"data/xlan/carlsen.xlanplus\"\n",
    "training_file = \"./data/xlan/carlsen.xlanplus\"\n",
    "product = {\"nb\": \"/Users/larscarlschmid/Documents/_repos/ChessOps/output/pgn_to_xlan.ipynb\", \"data\": \"/Users/larscarlschmid/Documents/_repos/ChessOps/data/xlan/carlsen.xlanplus\"}\n"
   ]
  },
  {
   "cell_type": "code",
   "execution_count": 3,
   "id": "8469de34",
   "metadata": {
    "execution": {
     "iopub.execute_input": "2024-05-08T11:57:31.807716Z",
     "iopub.status.busy": "2024-05-08T11:57:31.807525Z",
     "iopub.status.idle": "2024-05-08T11:57:31.809849Z",
     "shell.execute_reply": "2024-05-08T11:57:31.809444Z"
    },
    "papermill": {
     "duration": 0.005522,
     "end_time": "2024-05-08T11:57:31.811229",
     "exception": false,
     "start_time": "2024-05-08T11:57:31.805707",
     "status": "completed"
    },
    "tags": []
   },
   "outputs": [],
   "source": [
    "upstream = []"
   ]
  },
  {
   "cell_type": "code",
   "execution_count": 4,
   "id": "6b9c880e",
   "metadata": {
    "execution": {
     "iopub.execute_input": "2024-05-08T11:57:31.814294Z",
     "iopub.status.busy": "2024-05-08T11:57:31.814127Z",
     "iopub.status.idle": "2024-05-08T11:57:31.816973Z",
     "shell.execute_reply": "2024-05-08T11:57:31.816648Z"
    },
    "papermill": {
     "duration": 0.005543,
     "end_time": "2024-05-08T11:57:31.818010",
     "exception": false,
     "start_time": "2024-05-08T11:57:31.812467",
     "status": "completed"
    },
    "tags": []
   },
   "outputs": [],
   "source": [
    "def pgn_to_xlan(pgn_path, xlan_path):\n",
    "    from src.data_preprocessing.pgn_to_xlan import pgn_to_xlan\n",
    "\n",
    "    min_number_of_moves_per_game = 0\n",
    "    number_of_games_to_write = -1  # -1 for all games\n",
    "\n",
    "    pgn_to_lan = pgn_to_xlan(\n",
    "        pgn_path,\n",
    "        xlan_path,\n",
    "        min_number_of_moves_per_game=min_number_of_moves_per_game,\n",
    "        number_of_games_to_write=number_of_games_to_write,\n",
    "        generate_all_moves=False,\n",
    "        log=False,\n",
    "        xLanPlus=True,\n",
    "    )\n",
    "\n",
    "    pgn_to_lan.convert_pgn_parallel()"
   ]
  },
  {
   "cell_type": "code",
   "execution_count": 5,
   "id": "93f27fc1",
   "metadata": {
    "execution": {
     "iopub.execute_input": "2024-05-08T11:57:31.820619Z",
     "iopub.status.busy": "2024-05-08T11:57:31.820379Z",
     "iopub.status.idle": "2024-05-08T11:57:31.823009Z",
     "shell.execute_reply": "2024-05-08T11:57:31.822692Z"
    },
    "papermill": {
     "duration": 0.005062,
     "end_time": "2024-05-08T11:57:31.824006",
     "exception": false,
     "start_time": "2024-05-08T11:57:31.818944",
     "status": "completed"
    },
    "tags": []
   },
   "outputs": [],
   "source": [
    "def remove_duplicates(file_path):\n",
    "    from collections import OrderedDict\n",
    "\n",
    "    with open(file_path, \"r\") as f:\n",
    "        # Using OrderedDict to maintain order and remove duplicates\n",
    "        lines = OrderedDict((line, None) for line in f)\n",
    "\n",
    "    with open(file_path, \"w\") as f:\n",
    "        f.writelines(lines.keys())"
   ]
  },
  {
   "cell_type": "code",
   "execution_count": 6,
   "id": "997d2cbd",
   "metadata": {
    "execution": {
     "iopub.execute_input": "2024-05-08T11:57:31.826309Z",
     "iopub.status.busy": "2024-05-08T11:57:31.826210Z",
     "iopub.status.idle": "2024-05-08T11:57:33.496271Z",
     "shell.execute_reply": "2024-05-08T11:57:33.495900Z"
    },
    "papermill": {
     "duration": 1.672042,
     "end_time": "2024-05-08T11:57:33.497167",
     "exception": false,
     "start_time": "2024-05-08T11:57:31.825125",
     "status": "completed"
    },
    "tags": []
   },
   "outputs": [
    {
     "name": "stdout",
     "output_type": "stream",
     "text": [
      "\tNumber of writen games: 397\r"
     ]
    }
   ],
   "source": [
    "pgn_to_xlan(pgn_path, lan_path)\n",
    "remove_duplicates(training_file)"
   ]
  }
 ],
 "metadata": {
  "jupytext": {
   "cell_metadata_filter": "tags,-all",
   "main_language": "python",
   "notebook_metadata_filter": "-all",
   "text_representation": {
    "extension": ".py",
    "format_name": "light"
   }
  },
  "kernelspec": {
   "display_name": "Python 3 (ipykernel)",
   "language": "python",
   "name": "python3"
  },
  "language_info": {
   "codemirror_mode": {
    "name": "ipython",
    "version": 3
   },
   "file_extension": ".py",
   "mimetype": "text/x-python",
   "name": "python",
   "nbconvert_exporter": "python",
   "pygments_lexer": "ipython3",
   "version": "3.11.0"
  },
  "papermill": {
   "duration": 5.106816,
   "end_time": "2024-05-08T11:57:36.176218",
   "exception": null,
   "input_path": "/var/folders/h3/3d89qwl94937xcsw4qq0hh2c0000gn/T/tmpyl64g8lz.ipynb",
   "output_path": "/Users/larscarlschmid/Documents/_repos/ChessOps/output/pgn_to_xlan.ipynb",
   "parameters": {
    "lan_path": "data/xlan/carlsen.xlanplus",
    "pgn_path": "data/pgn/carlsen.pgn",
    "product": {
     "data": "/Users/larscarlschmid/Documents/_repos/ChessOps/data/xlan/carlsen.xlanplus",
     "nb": "/Users/larscarlschmid/Documents/_repos/ChessOps/output/pgn_to_xlan.ipynb"
    },
    "training_file": "./data/xlan/carlsen.xlanplus"
   },
   "start_time": "2024-05-08T11:57:31.069402"
  }
 },
 "nbformat": 4,
 "nbformat_minor": 5
}