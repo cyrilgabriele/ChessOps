{
 "cells": [
  {
   "cell_type": "code",
   "execution_count": 1,
   "id": "d95361e0",
   "metadata": {
    "execution": {
     "iopub.execute_input": "2024-05-08T09:43:30.799148Z",
     "iopub.status.busy": "2024-05-08T09:43:30.798797Z",
     "iopub.status.idle": "2024-05-08T09:43:30.805881Z",
     "shell.execute_reply": "2024-05-08T09:43:30.805309Z"
    },
    "papermill": {
     "duration": 0.014185,
     "end_time": "2024-05-08T09:43:30.807621",
     "exception": false,
     "start_time": "2024-05-08T09:43:30.793436",
     "status": "completed"
    },
    "tags": [
     "parameters"
    ]
   },
   "outputs": [],
   "source": [
    "# declare a list tasks whose products you want to use as inputs\n",
    "upstream = None\n"
   ]
  },
  {
   "cell_type": "code",
   "execution_count": 2,
   "id": "3e4c6602",
   "metadata": {
    "execution": {
     "iopub.execute_input": "2024-05-08T09:43:30.812197Z",
     "iopub.status.busy": "2024-05-08T09:43:30.811983Z",
     "iopub.status.idle": "2024-05-08T09:43:30.814479Z",
     "shell.execute_reply": "2024-05-08T09:43:30.814077Z"
    },
    "papermill": {
     "duration": 0.00703,
     "end_time": "2024-05-08T09:43:30.816913",
     "exception": false,
     "start_time": "2024-05-08T09:43:30.809883",
     "status": "completed"
    },
    "tags": [
     "injected-parameters"
    ]
   },
   "outputs": [],
   "source": [
    "# Parameters\n",
    "product = {\"nb\": \"/Users/larscarlschmid/Documents/_repos/ChessOps/output/pgn_to_xlan.ipynb\", \"data\": \"/Users/larscarlschmid/Documents/_repos/ChessOps/data/xlan/carlsen.xlanplus\"}\n"
   ]
  },
  {
   "cell_type": "code",
   "execution_count": 3,
   "id": "0c785de8",
   "metadata": {
    "execution": {
     "iopub.execute_input": "2024-05-08T09:43:30.820415Z",
     "iopub.status.busy": "2024-05-08T09:43:30.820227Z",
     "iopub.status.idle": "2024-05-08T09:43:30.822591Z",
     "shell.execute_reply": "2024-05-08T09:43:30.822179Z"
    },
    "papermill": {
     "duration": 0.005745,
     "end_time": "2024-05-08T09:43:30.824025",
     "exception": false,
     "start_time": "2024-05-08T09:43:30.818280",
     "status": "completed"
    },
    "tags": []
   },
   "outputs": [],
   "source": [
    "upstream = []"
   ]
  },
  {
   "cell_type": "code",
   "execution_count": 4,
   "id": "73b758eb",
   "metadata": {
    "execution": {
     "iopub.execute_input": "2024-05-08T09:43:30.827287Z",
     "iopub.status.busy": "2024-05-08T09:43:30.827114Z",
     "iopub.status.idle": "2024-05-08T09:43:30.829992Z",
     "shell.execute_reply": "2024-05-08T09:43:30.829645Z"
    },
    "papermill": {
     "duration": 0.005733,
     "end_time": "2024-05-08T09:43:30.831145",
     "exception": false,
     "start_time": "2024-05-08T09:43:30.825412",
     "status": "completed"
    },
    "tags": []
   },
   "outputs": [],
   "source": [
    "def pgn_to_xlan():\n",
    "    from src.data_preprocessing.pgn_to_xlan import pgn_to_xlan\n",
    "\n",
    "    # TODO change to valid paths\n",
    "    pgn_path = \"data/pgn/Carlsen.pgn\"\n",
    "    lan_path = \"data/xlan/carlsen.xlanplus\"\n",
    "\n",
    "    min_number_of_moves_per_game = 0\n",
    "    number_of_games_to_write = -1  # -1 for all games\n",
    "\n",
    "    pgn_to_lan = pgn_to_xlan(\n",
    "        pgn_path,\n",
    "        lan_path,\n",
    "        min_number_of_moves_per_game=min_number_of_moves_per_game,\n",
    "        number_of_games_to_write=number_of_games_to_write,\n",
    "        generate_all_moves=False,\n",
    "        log=False,\n",
    "        xLanPlus=True,\n",
    "    )\n",
    "\n",
    "    pgn_to_lan.convert_pgn_parallel()"
   ]
  },
  {
   "cell_type": "code",
   "execution_count": 5,
   "id": "d11c0104",
   "metadata": {
    "execution": {
     "iopub.execute_input": "2024-05-08T09:43:30.833921Z",
     "iopub.status.busy": "2024-05-08T09:43:30.833782Z",
     "iopub.status.idle": "2024-05-08T09:43:32.692937Z",
     "shell.execute_reply": "2024-05-08T09:43:32.692530Z"
    },
    "papermill": {
     "duration": 1.861593,
     "end_time": "2024-05-08T09:43:32.693876",
     "exception": false,
     "start_time": "2024-05-08T09:43:30.832283",
     "status": "completed"
    },
    "tags": []
   },
   "outputs": [
    {
     "name": "stdout",
     "output_type": "stream",
     "text": [
      "\tNumber of writen games: 397\r"
     ]
    }
   ],
   "source": [
    "pgn_to_xlan()"
   ]
  },
  {
   "cell_type": "code",
   "execution_count": 6,
   "id": "c4155041",
   "metadata": {
    "execution": {
     "iopub.execute_input": "2024-05-08T09:43:32.696938Z",
     "iopub.status.busy": "2024-05-08T09:43:32.696763Z",
     "iopub.status.idle": "2024-05-08T09:43:32.699332Z",
     "shell.execute_reply": "2024-05-08T09:43:32.699064Z"
    },
    "papermill": {
     "duration": 0.005304,
     "end_time": "2024-05-08T09:43:32.700343",
     "exception": false,
     "start_time": "2024-05-08T09:43:32.695039",
     "status": "completed"
    },
    "tags": []
   },
   "outputs": [],
   "source": [
    "def check_duplicates():\n",
    "    from src.data_preprocessing.check_duplicates_and_common_lines import (\n",
    "        check_duplicates_and_common_lines,\n",
    "    )\n",
    "\n",
    "    # TODO what is the validation file?\n",
    "    training_file = \"./data/xlan/carlsen.xlanplus\"\n",
    "    validation_file = \"./data/xlan/carlsen.xlanplus\"\n",
    "\n",
    "    check_duplicates_and_common_lines(\n",
    "        training_file,\n",
    "        validation_file,\n",
    "        delete_common=False,\n",
    "        delete_duplicates_from_file_1=True,\n",
    "        delete_duplicates_from_file_2=False,\n",
    "    )"
   ]
  },
  {
   "cell_type": "code",
   "execution_count": 7,
   "id": "3bd12506",
   "metadata": {
    "execution": {
     "iopub.execute_input": "2024-05-08T09:43:32.765603Z",
     "iopub.status.busy": "2024-05-08T09:43:32.765426Z",
     "iopub.status.idle": "2024-05-08T09:43:32.769672Z",
     "shell.execute_reply": "2024-05-08T09:43:32.769305Z"
    },
    "papermill": {
     "duration": 0.006775,
     "end_time": "2024-05-08T09:43:32.770609",
     "exception": false,
     "start_time": "2024-05-08T09:43:32.763834",
     "status": "completed"
    },
    "tags": []
   },
   "outputs": [],
   "source": [
    "check_duplicates()"
   ]
  }
 ],
 "metadata": {
  "jupytext": {
   "cell_metadata_filter": "tags,-all",
   "main_language": "python",
   "notebook_metadata_filter": "-all",
   "text_representation": {
    "extension": ".py",
    "format_name": "light"
   }
  },
  "kernelspec": {
   "display_name": "Python 3 (ipykernel)",
   "language": "python",
   "name": "python3"
  },
  "language_info": {
   "codemirror_mode": {
    "name": "ipython",
    "version": 3
   },
   "file_extension": ".py",
   "mimetype": "text/x-python",
   "name": "python",
   "nbconvert_exporter": "python",
   "pygments_lexer": "ipython3",
   "version": "3.11.0"
  },
  "papermill": {
   "duration": 5.316901,
   "end_time": "2024-05-08T09:43:35.388608",
   "exception": null,
   "input_path": "/var/folders/h3/3d89qwl94937xcsw4qq0hh2c0000gn/T/tmpi4dzzdol.ipynb",
   "output_path": "/Users/larscarlschmid/Documents/_repos/ChessOps/output/pgn_to_xlan.ipynb",
   "parameters": {
    "product": {
     "data": "/Users/larscarlschmid/Documents/_repos/ChessOps/data/xlan/carlsen.xlanplus",
     "nb": "/Users/larscarlschmid/Documents/_repos/ChessOps/output/pgn_to_xlan.ipynb"
    }
   },
   "start_time": "2024-05-08T09:43:30.071707"
  }
 },
 "nbformat": 4,
 "nbformat_minor": 5
}