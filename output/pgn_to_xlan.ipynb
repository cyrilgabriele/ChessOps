{
 "cells": [
  {
   "cell_type": "code",
   "execution_count": 1,
   "id": "ba53bcec",
   "metadata": {
    "execution": {
     "iopub.execute_input": "2024-05-19T15:01:31.303569Z",
     "iopub.status.busy": "2024-05-19T15:01:31.303187Z",
     "iopub.status.idle": "2024-05-19T15:01:31.311020Z",
     "shell.execute_reply": "2024-05-19T15:01:31.310440Z"
    },
    "papermill": {
     "duration": 0.012182,
     "end_time": "2024-05-19T15:01:31.312469",
     "exception": false,
     "start_time": "2024-05-19T15:01:31.300287",
     "status": "completed"
    },
    "tags": [
     "parameters"
    ]
   },
   "outputs": [],
   "source": [
    "# declare a list tasks whose products you want to use as inputs\n",
    "upstream = None\n"
   ]
  },
  {
   "cell_type": "code",
   "execution_count": 2,
   "id": "527c020c",
   "metadata": {
    "execution": {
     "iopub.execute_input": "2024-05-19T15:01:31.316704Z",
     "iopub.status.busy": "2024-05-19T15:01:31.316422Z",
     "iopub.status.idle": "2024-05-19T15:01:31.319796Z",
     "shell.execute_reply": "2024-05-19T15:01:31.319127Z"
    },
    "papermill": {
     "duration": 0.00707,
     "end_time": "2024-05-19T15:01:31.321347",
     "exception": false,
     "start_time": "2024-05-19T15:01:31.314277",
     "status": "completed"
    },
    "tags": [
     "injected-parameters"
    ]
   },
   "outputs": [],
   "source": [
    "# Parameters\n",
    "pgn_path = \"./data/pgn/kasparov.pgn\"\n",
    "lan_path = \"./data/xlan/kasparov.xlanplus\"\n",
    "training_file = \"./data/xlan/kasparov.xlanplus\"\n",
    "product = {\"nb\": \"/teamspace/studios/this_studio/ChessOps/output/pgn_to_xlan.ipynb\", \"data\": \"/teamspace/studios/this_studio/ChessOps/data/xlan/kasparov.xlanplus\"}\n"
   ]
  },
  {
   "cell_type": "code",
   "execution_count": 3,
   "id": "0ed92adc",
   "metadata": {
    "execution": {
     "iopub.execute_input": "2024-05-19T15:01:31.325006Z",
     "iopub.status.busy": "2024-05-19T15:01:31.324725Z",
     "iopub.status.idle": "2024-05-19T15:01:31.327869Z",
     "shell.execute_reply": "2024-05-19T15:01:31.327312Z"
    },
    "papermill": {
     "duration": 0.00658,
     "end_time": "2024-05-19T15:01:31.329231",
     "exception": false,
     "start_time": "2024-05-19T15:01:31.322651",
     "status": "completed"
    },
    "tags": []
   },
   "outputs": [],
   "source": [
    "upstream = []"
   ]
  },
  {
   "cell_type": "code",
   "execution_count": 4,
   "id": "ed8ca9f9",
   "metadata": {
    "execution": {
     "iopub.execute_input": "2024-05-19T15:01:31.333897Z",
     "iopub.status.busy": "2024-05-19T15:01:31.333636Z",
     "iopub.status.idle": "2024-05-19T15:01:31.337388Z",
     "shell.execute_reply": "2024-05-19T15:01:31.336782Z"
    },
    "papermill": {
     "duration": 0.008285,
     "end_time": "2024-05-19T15:01:31.338763",
     "exception": false,
     "start_time": "2024-05-19T15:01:31.330478",
     "status": "completed"
    },
    "tags": []
   },
   "outputs": [],
   "source": [
    "def pgn_to_xlan(pgn_path, xlan_path):\n",
    "    from src.data_preprocessing.pgn_to_xlan import pgn_to_xlan\n",
    "\n",
    "    min_number_of_moves_per_game = 0\n",
    "    number_of_games_to_write = -1  # -1 for all games\n",
    "\n",
    "    pgn_to_lan = pgn_to_xlan(\n",
    "        pgn_path,\n",
    "        xlan_path,\n",
    "        min_number_of_moves_per_game=min_number_of_moves_per_game,\n",
    "        number_of_games_to_write=number_of_games_to_write,\n",
    "        generate_all_moves=False,\n",
    "        log=False,\n",
    "        xLanPlus=True,\n",
    "    )\n",
    "\n",
    "    pgn_to_lan.convert_pgn_parallel()"
   ]
  },
  {
   "cell_type": "code",
   "execution_count": 5,
   "id": "b50ddfb5",
   "metadata": {
    "execution": {
     "iopub.execute_input": "2024-05-19T15:01:31.342368Z",
     "iopub.status.busy": "2024-05-19T15:01:31.342117Z",
     "iopub.status.idle": "2024-05-19T15:01:31.345720Z",
     "shell.execute_reply": "2024-05-19T15:01:31.345173Z"
    },
    "papermill": {
     "duration": 0.007089,
     "end_time": "2024-05-19T15:01:31.347107",
     "exception": false,
     "start_time": "2024-05-19T15:01:31.340018",
     "status": "completed"
    },
    "tags": []
   },
   "outputs": [],
   "source": [
    "def remove_duplicates(file_path):\n",
    "    from collections import OrderedDict\n",
    "\n",
    "    with open(file_path, \"r\") as f:\n",
    "        lines = OrderedDict((line, None) for line in f)\n",
    "\n",
    "    with open(file_path, \"w\") as f:\n",
    "        f.writelines(lines.keys())"
   ]
  },
  {
   "cell_type": "code",
   "execution_count": 6,
   "id": "e2922830",
   "metadata": {
    "execution": {
     "iopub.execute_input": "2024-05-19T15:01:31.350847Z",
     "iopub.status.busy": "2024-05-19T15:01:31.350583Z",
     "iopub.status.idle": "2024-05-19T15:01:36.758576Z",
     "shell.execute_reply": "2024-05-19T15:01:36.757721Z"
    },
    "papermill": {
     "duration": 5.411722,
     "end_time": "2024-05-19T15:01:36.760217",
     "exception": false,
     "start_time": "2024-05-19T15:01:31.348495",
     "status": "completed"
    },
    "tags": []
   },
   "outputs": [
    {
     "name": "stdout",
     "output_type": "stream",
     "text": [
      "game_positions: 2128\n"
     ]
    },
    {
     "name": "stdout",
     "output_type": "stream",
     "text": [
      "\tNumber of writen games: 2128\r",
      "game_positions: 1\n"
     ]
    }
   ],
   "source": [
    "pgn_to_xlan(pgn_path, lan_path)\n",
    "remove_duplicates(training_file)"
   ]
  }
 ],
 "metadata": {
  "jupytext": {
   "cell_metadata_filter": "tags,-all",
   "main_language": "python",
   "notebook_metadata_filter": "-all",
   "text_representation": {
    "extension": ".py",
    "format_name": "light"
   }
  },
  "kernelspec": {
   "display_name": "Python 3 (ipykernel)",
   "language": "python",
   "name": "python3"
  },
  "language_info": {
   "codemirror_mode": {
    "name": "ipython",
    "version": 3
   },
   "file_extension": ".py",
   "mimetype": "text/x-python",
   "name": "python",
   "nbconvert_exporter": "python",
   "pygments_lexer": "ipython3",
   "version": "3.10.10"
  },
  "papermill": {
   "duration": 6.455783,
   "end_time": "2024-05-19T15:01:36.879206",
   "exception": null,
   "input_path": "/tmp/tmp25w8kzg6.ipynb",
   "output_path": "/teamspace/studios/this_studio/ChessOps/output/pgn_to_xlan.ipynb",
   "parameters": {
    "lan_path": "./data/xlan/kasparov.xlanplus",
    "pgn_path": "./data/pgn/kasparov.pgn",
    "product": {
     "data": "/teamspace/studios/this_studio/ChessOps/data/xlan/kasparov.xlanplus",
     "nb": "/teamspace/studios/this_studio/ChessOps/output/pgn_to_xlan.ipynb"
    },
    "training_file": "./data/xlan/kasparov.xlanplus"
   },
   "start_time": "2024-05-19T15:01:30.423423"
  }
 },
 "nbformat": 4,
 "nbformat_minor": 5
}