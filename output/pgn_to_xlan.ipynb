{
 "cells": [
  {
   "cell_type": "code",
   "execution_count": 1,
   "id": "39fde2ed",
   "metadata": {
    "execution": {
     "iopub.execute_input": "2024-05-15T20:24:05.461391Z",
     "iopub.status.busy": "2024-05-15T20:24:05.461102Z",
     "iopub.status.idle": "2024-05-15T20:24:05.467568Z",
     "shell.execute_reply": "2024-05-15T20:24:05.467067Z"
    },
    "papermill": {
     "duration": 0.014043,
     "end_time": "2024-05-15T20:24:05.469055",
     "exception": false,
     "start_time": "2024-05-15T20:24:05.455012",
     "status": "completed"
    },
    "tags": [
     "parameters"
    ]
   },
   "outputs": [],
   "source": [
    "# declare a list tasks whose products you want to use as inputs\n",
    "upstream = None\n"
   ]
  },
  {
   "cell_type": "code",
   "execution_count": 2,
   "id": "4adb0578",
   "metadata": {
    "execution": {
     "iopub.execute_input": "2024-05-15T20:24:05.474097Z",
     "iopub.status.busy": "2024-05-15T20:24:05.473867Z",
     "iopub.status.idle": "2024-05-15T20:24:05.476668Z",
     "shell.execute_reply": "2024-05-15T20:24:05.476278Z"
    },
    "papermill": {
     "duration": 0.007155,
     "end_time": "2024-05-15T20:24:05.478445",
     "exception": false,
     "start_time": "2024-05-15T20:24:05.471290",
     "status": "completed"
    },
    "tags": [
     "injected-parameters"
    ]
   },
   "outputs": [],
   "source": [
    "# Parameters\n",
    "pgn_path = \"./data/pgn/carlsen.pgn\"\n",
    "lan_path = \"./data/xlan/carlsen.xlanplus\"\n",
    "training_file = \"./data/xlan/carlsen.xlanplus\"\n",
    "product = {\"nb\": \"/Users/larscarlschmid/Documents/_repos/ChessOps/output/pgn_to_xlan.ipynb\", \"data\": \"/Users/larscarlschmid/Documents/_repos/ChessOps/data/xlan/carlsen.xlanplus\"}\n"
   ]
  },
  {
   "cell_type": "code",
   "execution_count": 3,
   "id": "00af090c",
   "metadata": {
    "execution": {
     "iopub.execute_input": "2024-05-15T20:24:05.482976Z",
     "iopub.status.busy": "2024-05-15T20:24:05.482769Z",
     "iopub.status.idle": "2024-05-15T20:24:05.485243Z",
     "shell.execute_reply": "2024-05-15T20:24:05.484758Z"
    },
    "papermill": {
     "duration": 0.006229,
     "end_time": "2024-05-15T20:24:05.486524",
     "exception": false,
     "start_time": "2024-05-15T20:24:05.480295",
     "status": "completed"
    },
    "tags": []
   },
   "outputs": [],
   "source": [
    "upstream = []"
   ]
  },
  {
   "cell_type": "code",
   "execution_count": 4,
   "id": "87c01923",
   "metadata": {
    "execution": {
     "iopub.execute_input": "2024-05-15T20:24:05.490989Z",
     "iopub.status.busy": "2024-05-15T20:24:05.490806Z",
     "iopub.status.idle": "2024-05-15T20:24:05.493857Z",
     "shell.execute_reply": "2024-05-15T20:24:05.493367Z"
    },
    "papermill": {
     "duration": 0.006866,
     "end_time": "2024-05-15T20:24:05.495384",
     "exception": false,
     "start_time": "2024-05-15T20:24:05.488518",
     "status": "completed"
    },
    "tags": []
   },
   "outputs": [],
   "source": [
    "def pgn_to_xlan(pgn_path, xlan_path):\n",
    "    from src.data_preprocessing.pgn_to_xlan import pgn_to_xlan\n",
    "\n",
    "    min_number_of_moves_per_game = 0\n",
    "    number_of_games_to_write = -1  # -1 for all games\n",
    "\n",
    "    pgn_to_lan = pgn_to_xlan(\n",
    "        pgn_path,\n",
    "        xlan_path,\n",
    "        min_number_of_moves_per_game=min_number_of_moves_per_game,\n",
    "        number_of_games_to_write=number_of_games_to_write,\n",
    "        generate_all_moves=False,\n",
    "        log=False,\n",
    "        xLanPlus=True,\n",
    "    )\n",
    "\n",
    "    pgn_to_lan.convert_pgn_parallel()"
   ]
  },
  {
   "cell_type": "code",
   "execution_count": 5,
   "id": "e9191a57",
   "metadata": {
    "execution": {
     "iopub.execute_input": "2024-05-15T20:24:05.498869Z",
     "iopub.status.busy": "2024-05-15T20:24:05.498686Z",
     "iopub.status.idle": "2024-05-15T20:24:05.501438Z",
     "shell.execute_reply": "2024-05-15T20:24:05.501038Z"
    },
    "papermill": {
     "duration": 0.006143,
     "end_time": "2024-05-15T20:24:05.502901",
     "exception": false,
     "start_time": "2024-05-15T20:24:05.496758",
     "status": "completed"
    },
    "tags": []
   },
   "outputs": [],
   "source": [
    "def remove_duplicates(file_path):\n",
    "    from collections import OrderedDict\n",
    "\n",
    "    with open(file_path, \"r\") as f:\n",
    "        lines = OrderedDict((line, None) for line in f)\n",
    "\n",
    "    with open(file_path, \"w\") as f:\n",
    "        f.writelines(lines.keys())"
   ]
  },
  {
   "cell_type": "code",
   "execution_count": 6,
   "id": "106f4d7a",
   "metadata": {
    "execution": {
     "iopub.execute_input": "2024-05-15T20:24:05.506423Z",
     "iopub.status.busy": "2024-05-15T20:24:05.506258Z",
     "iopub.status.idle": "2024-05-15T20:24:07.510370Z",
     "shell.execute_reply": "2024-05-15T20:24:07.509866Z"
    },
    "papermill": {
     "duration": 2.00757,
     "end_time": "2024-05-15T20:24:07.511751",
     "exception": false,
     "start_time": "2024-05-15T20:24:05.504181",
     "status": "completed"
    },
    "tags": []
   },
   "outputs": [
    {
     "name": "stdout",
     "output_type": "stream",
     "text": [
      "game_positions: 5662\n"
     ]
    },
    {
     "name": "stdout",
     "output_type": "stream",
     "text": [
      "\tNumber of writen games: 5662\r",
      "game_positions: 1\n"
     ]
    }
   ],
   "source": [
    "pgn_to_xlan(pgn_path, lan_path)\n",
    "remove_duplicates(training_file)"
   ]
  }
 ],
 "metadata": {
  "jupytext": {
   "cell_metadata_filter": "tags,-all",
   "main_language": "python",
   "notebook_metadata_filter": "-all",
   "text_representation": {
    "extension": ".py",
    "format_name": "light"
   }
  },
  "kernelspec": {
   "display_name": "Python 3 (ipykernel)",
   "language": "python",
   "name": "python3"
  },
  "language_info": {
   "codemirror_mode": {
    "name": "ipython",
    "version": 3
   },
   "file_extension": ".py",
   "mimetype": "text/x-python",
   "name": "python",
   "nbconvert_exporter": "python",
   "pygments_lexer": "ipython3",
   "version": "3.11.0"
  },
  "papermill": {
   "duration": 5.392506,
   "end_time": "2024-05-15T20:24:10.134055",
   "exception": null,
   "input_path": "/var/folders/h3/3d89qwl94937xcsw4qq0hh2c0000gn/T/tmpr9nljaac.ipynb",
   "output_path": "/Users/larscarlschmid/Documents/_repos/ChessOps/output/pgn_to_xlan.ipynb",
   "parameters": {
    "lan_path": "./data/xlan/carlsen.xlanplus",
    "pgn_path": "./data/pgn/carlsen.pgn",
    "product": {
     "data": "/Users/larscarlschmid/Documents/_repos/ChessOps/data/xlan/carlsen.xlanplus",
     "nb": "/Users/larscarlschmid/Documents/_repos/ChessOps/output/pgn_to_xlan.ipynb"
    },
    "training_file": "./data/xlan/carlsen.xlanplus"
   },
   "start_time": "2024-05-15T20:24:04.741549"
  }
 },
 "nbformat": 4,
 "nbformat_minor": 5
}