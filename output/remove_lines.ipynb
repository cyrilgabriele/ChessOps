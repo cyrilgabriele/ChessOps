{
 "cells": [
  {
   "cell_type": "code",
   "execution_count": 1,
   "id": "20636d6a",
   "metadata": {
    "execution": {
     "iopub.execute_input": "2024-05-19T15:02:25.827596Z",
     "iopub.status.busy": "2024-05-19T15:02:25.827215Z",
     "iopub.status.idle": "2024-05-19T15:02:25.834892Z",
     "shell.execute_reply": "2024-05-19T15:02:25.834280Z"
    },
    "lines_to_next_cell": 2,
    "papermill": {
     "duration": 0.011628,
     "end_time": "2024-05-19T15:02:25.836247",
     "exception": false,
     "start_time": "2024-05-19T15:02:25.824619",
     "status": "completed"
    },
    "tags": [
     "parameters"
    ]
   },
   "outputs": [],
   "source": [
    "# declare a list tasks whose products you want to use as inputs\n",
    "upstream = None"
   ]
  },
  {
   "cell_type": "code",
   "execution_count": 2,
   "id": "5c61aa34",
   "metadata": {
    "execution": {
     "iopub.execute_input": "2024-05-19T15:02:25.840084Z",
     "iopub.status.busy": "2024-05-19T15:02:25.839823Z",
     "iopub.status.idle": "2024-05-19T15:02:25.842986Z",
     "shell.execute_reply": "2024-05-19T15:02:25.842396Z"
    },
    "papermill": {
     "duration": 0.006635,
     "end_time": "2024-05-19T15:02:25.844432",
     "exception": false,
     "start_time": "2024-05-19T15:02:25.837797",
     "status": "completed"
    },
    "tags": [
     "injected-parameters"
    ]
   },
   "outputs": [],
   "source": [
    "# Parameters\n",
    "input_file_path = \"./data/tokens/kasparov.tok\"\n",
    "output_file_path = \"./data/tokens/kasparov_max_768.tok\"\n",
    "product = {\"nb\": \"/teamspace/studios/this_studio/ChessOps/output/remove_lines.ipynb\", \"data\": \"/teamspace/studios/this_studio/ChessOps/data/tokens/kasparov_max_768.tok\"}\n"
   ]
  },
  {
   "cell_type": "code",
   "execution_count": 3,
   "id": "8ea2da4f",
   "metadata": {
    "execution": {
     "iopub.execute_input": "2024-05-19T15:02:25.848034Z",
     "iopub.status.busy": "2024-05-19T15:02:25.847750Z",
     "iopub.status.idle": "2024-05-19T15:02:25.850935Z",
     "shell.execute_reply": "2024-05-19T15:02:25.850362Z"
    },
    "papermill": {
     "duration": 0.006726,
     "end_time": "2024-05-19T15:02:25.852467",
     "exception": false,
     "start_time": "2024-05-19T15:02:25.845741",
     "status": "completed"
    },
    "tags": []
   },
   "outputs": [],
   "source": [
    "upstream = [\"create_tokens\"]"
   ]
  },
  {
   "cell_type": "code",
   "execution_count": 4,
   "id": "68c07c10",
   "metadata": {
    "execution": {
     "iopub.execute_input": "2024-05-19T15:02:25.856522Z",
     "iopub.status.busy": "2024-05-19T15:02:25.855990Z",
     "iopub.status.idle": "2024-05-19T15:02:25.861733Z",
     "shell.execute_reply": "2024-05-19T15:02:25.861103Z"
    },
    "papermill": {
     "duration": 0.009199,
     "end_time": "2024-05-19T15:02:25.863062",
     "exception": false,
     "start_time": "2024-05-19T15:02:25.853863",
     "status": "completed"
    },
    "tags": []
   },
   "outputs": [],
   "source": [
    "def remove_lines_with_too_many_tokens(\n",
    "    input_file_path, output_file_path, token_limit=768\n",
    "):\n",
    "    with open(input_file_path, \"r\") as file:\n",
    "        lines = file.readlines()\n",
    "\n",
    "    print(f\"Number of lines in {input_file_path}: {len(lines)}\")\n",
    "    lines_to_keep = []\n",
    "    removed_count = 0\n",
    "\n",
    "    for line in lines:\n",
    "        if len(line.split()) <= token_limit:\n",
    "            lines_to_keep.append(line)\n",
    "        else:\n",
    "            removed_count += 1\n",
    "\n",
    "    print(f\"Number of lines in {output_file_path}: {len(lines_to_keep)}\")\n",
    "    with open(output_file_path, \"w\") as file:\n",
    "        file.writelines(lines_to_keep)\n",
    "\n",
    "    return removed_count"
   ]
  },
  {
   "cell_type": "code",
   "execution_count": 5,
   "id": "8b6185a7",
   "metadata": {
    "execution": {
     "iopub.execute_input": "2024-05-19T15:02:25.867544Z",
     "iopub.status.busy": "2024-05-19T15:02:25.866521Z",
     "iopub.status.idle": "2024-05-19T15:02:25.870434Z",
     "shell.execute_reply": "2024-05-19T15:02:25.869857Z"
    },
    "papermill": {
     "duration": 0.007987,
     "end_time": "2024-05-19T15:02:25.872333",
     "exception": false,
     "start_time": "2024-05-19T15:02:25.864346",
     "status": "completed"
    },
    "tags": []
   },
   "outputs": [],
   "source": [
    "def remove(input_file_path, output_file_path):\n",
    "    removed_lines = remove_lines_with_too_many_tokens(input_file_path, output_file_path)\n",
    "    print(f\"Number of removed lines: {removed_lines}\")"
   ]
  },
  {
   "cell_type": "code",
   "execution_count": 6,
   "id": "0b97f508",
   "metadata": {
    "execution": {
     "iopub.execute_input": "2024-05-19T15:02:25.877924Z",
     "iopub.status.busy": "2024-05-19T15:02:25.877669Z",
     "iopub.status.idle": "2024-05-19T15:02:25.912172Z",
     "shell.execute_reply": "2024-05-19T15:02:25.911545Z"
    },
    "papermill": {
     "duration": 0.039244,
     "end_time": "2024-05-19T15:02:25.913820",
     "exception": false,
     "start_time": "2024-05-19T15:02:25.874576",
     "status": "completed"
    },
    "tags": []
   },
   "outputs": [
    {
     "name": "stdout",
     "output_type": "stream",
     "text": [
      "Number of lines in ./data/tokens/kasparov.tok: 2128\n",
      "Number of lines in ./data/tokens/kasparov_max_768.tok: 2122\n",
      "Number of removed lines: 6\n"
     ]
    }
   ],
   "source": [
    "remove(input_file_path, output_file_path)"
   ]
  }
 ],
 "metadata": {
  "jupytext": {
   "cell_metadata_filter": "tags,-all",
   "main_language": "python",
   "notebook_metadata_filter": "-all",
   "text_representation": {
    "extension": ".py",
    "format_name": "light"
   }
  },
  "kernelspec": {
   "display_name": "Python 3 (ipykernel)",
   "language": "python",
   "name": "python3"
  },
  "language_info": {
   "codemirror_mode": {
    "name": "ipython",
    "version": 3
   },
   "file_extension": ".py",
   "mimetype": "text/x-python",
   "name": "python",
   "nbconvert_exporter": "python",
   "pygments_lexer": "ipython3",
   "version": "3.10.10"
  },
  "papermill": {
   "duration": 1.149455,
   "end_time": "2024-05-19T15:02:26.031015",
   "exception": null,
   "input_path": "/tmp/tmpgwvbdsov.ipynb",
   "output_path": "/teamspace/studios/this_studio/ChessOps/output/remove_lines.ipynb",
   "parameters": {
    "input_file_path": "./data/tokens/kasparov.tok",
    "output_file_path": "./data/tokens/kasparov_max_768.tok",
    "product": {
     "data": "/teamspace/studios/this_studio/ChessOps/data/tokens/kasparov_max_768.tok",
     "nb": "/teamspace/studios/this_studio/ChessOps/output/remove_lines.ipynb"
    }
   },
   "start_time": "2024-05-19T15:02:24.881560"
  }
 },
 "nbformat": 4,
 "nbformat_minor": 5
}