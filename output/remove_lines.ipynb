{
 "cells": [
  {
   "cell_type": "code",
   "execution_count": 1,
   "id": "d1108646",
   "metadata": {
    "execution": {
     "iopub.execute_input": "2024-05-08T15:08:09.459630Z",
     "iopub.status.busy": "2024-05-08T15:08:09.459263Z",
     "iopub.status.idle": "2024-05-08T15:08:09.465714Z",
     "shell.execute_reply": "2024-05-08T15:08:09.465178Z"
    },
    "lines_to_next_cell": 2,
    "papermill": {
     "duration": 0.00992,
     "end_time": "2024-05-08T15:08:09.466758",
     "exception": false,
     "start_time": "2024-05-08T15:08:09.456838",
     "status": "completed"
    },
    "tags": [
     "parameters"
    ]
   },
   "outputs": [],
   "source": [
    "# declare a list tasks whose products you want to use as inputs\n",
    "upstream = None"
   ]
  },
  {
   "cell_type": "code",
   "execution_count": 2,
   "id": "e3d82566",
   "metadata": {
    "execution": {
     "iopub.execute_input": "2024-05-08T15:08:09.469795Z",
     "iopub.status.busy": "2024-05-08T15:08:09.469533Z",
     "iopub.status.idle": "2024-05-08T15:08:09.472382Z",
     "shell.execute_reply": "2024-05-08T15:08:09.471855Z"
    },
    "papermill": {
     "duration": 0.005392,
     "end_time": "2024-05-08T15:08:09.473362",
     "exception": false,
     "start_time": "2024-05-08T15:08:09.467970",
     "status": "completed"
    },
    "tags": [
     "injected-parameters"
    ]
   },
   "outputs": [],
   "source": [
    "# Parameters\n",
    "input_file_path = \"./data/tokens/kasparov.tok\"\n",
    "output_file_path = \"./data/tokens/kasparov_max_768.tok\"\n",
    "product = {\"nb\": \"/teamspace/studios/this_studio/ChessOps/output/remove_lines.ipynb\", \"data\": \"/teamspace/studios/this_studio/ChessOps/data/tokens/kasparov_max_768.tok\"}\n"
   ]
  },
  {
   "cell_type": "code",
   "execution_count": 3,
   "id": "bd4f67a6",
   "metadata": {
    "execution": {
     "iopub.execute_input": "2024-05-08T15:08:09.476267Z",
     "iopub.status.busy": "2024-05-08T15:08:09.476006Z",
     "iopub.status.idle": "2024-05-08T15:08:09.478638Z",
     "shell.execute_reply": "2024-05-08T15:08:09.478104Z"
    },
    "papermill": {
     "duration": 0.005247,
     "end_time": "2024-05-08T15:08:09.479645",
     "exception": false,
     "start_time": "2024-05-08T15:08:09.474398",
     "status": "completed"
    },
    "tags": []
   },
   "outputs": [],
   "source": [
    "upstream = [\"create_tokens\"]"
   ]
  },
  {
   "cell_type": "code",
   "execution_count": 4,
   "id": "06793610",
   "metadata": {
    "execution": {
     "iopub.execute_input": "2024-05-08T15:08:09.482557Z",
     "iopub.status.busy": "2024-05-08T15:08:09.482309Z",
     "iopub.status.idle": "2024-05-08T15:08:09.486271Z",
     "shell.execute_reply": "2024-05-08T15:08:09.485718Z"
    },
    "papermill": {
     "duration": 0.006561,
     "end_time": "2024-05-08T15:08:09.487261",
     "exception": false,
     "start_time": "2024-05-08T15:08:09.480700",
     "status": "completed"
    },
    "tags": []
   },
   "outputs": [],
   "source": [
    "def remove_lines_with_too_many_tokens(\n",
    "    input_file_path, output_file_path, token_limit=768\n",
    "):\n",
    "    with open(input_file_path, \"r\") as file:\n",
    "        lines = file.readlines()\n",
    "\n",
    "    print(f\"Number of lines in {input_file_path}: {len(lines)}\")\n",
    "    lines_to_keep = []\n",
    "    removed_count = 0\n",
    "\n",
    "    for line in lines:\n",
    "        if len(line.split()) <= token_limit:\n",
    "            lines_to_keep.append(line)\n",
    "        else:\n",
    "            removed_count += 1\n",
    "\n",
    "    print(f\"Number of lines in {output_file_path}: {len(lines_to_keep)}\")\n",
    "    with open(output_file_path, \"w\") as file:\n",
    "        file.writelines(lines_to_keep)\n",
    "\n",
    "    return removed_count"
   ]
  },
  {
   "cell_type": "code",
   "execution_count": 5,
   "id": "16d6dcc0",
   "metadata": {
    "execution": {
     "iopub.execute_input": "2024-05-08T15:08:09.490986Z",
     "iopub.status.busy": "2024-05-08T15:08:09.490727Z",
     "iopub.status.idle": "2024-05-08T15:08:09.493589Z",
     "shell.execute_reply": "2024-05-08T15:08:09.493043Z"
    },
    "papermill": {
     "duration": 0.00629,
     "end_time": "2024-05-08T15:08:09.494635",
     "exception": false,
     "start_time": "2024-05-08T15:08:09.488345",
     "status": "completed"
    },
    "tags": []
   },
   "outputs": [],
   "source": [
    "def remove(input_file_path, output_file_path):\n",
    "    removed_lines = remove_lines_with_too_many_tokens(input_file_path, output_file_path)\n",
    "    print(f\"Number of removed lines: {removed_lines}\")"
   ]
  },
  {
   "cell_type": "code",
   "execution_count": 6,
   "id": "42b17771",
   "metadata": {
    "execution": {
     "iopub.execute_input": "2024-05-08T15:08:09.497602Z",
     "iopub.status.busy": "2024-05-08T15:08:09.497351Z",
     "iopub.status.idle": "2024-05-08T15:08:09.501157Z",
     "shell.execute_reply": "2024-05-08T15:08:09.500601Z"
    },
    "papermill": {
     "duration": 0.006405,
     "end_time": "2024-05-08T15:08:09.502155",
     "exception": false,
     "start_time": "2024-05-08T15:08:09.495750",
     "status": "completed"
    },
    "tags": []
   },
   "outputs": [
    {
     "name": "stdout",
     "output_type": "stream",
     "text": [
      "Number of lines in ./data/tokens/kasparov.tok: 35\n",
      "Number of lines in ./data/tokens/kasparov_max_768.tok: 35\n",
      "Number of removed lines: 0\n"
     ]
    }
   ],
   "source": [
    "remove(input_file_path, output_file_path)"
   ]
  }
 ],
 "metadata": {
  "jupytext": {
   "cell_metadata_filter": "tags,-all",
   "main_language": "python",
   "notebook_metadata_filter": "-all",
   "text_representation": {
    "extension": ".py",
    "format_name": "light"
   }
  },
  "kernelspec": {
   "display_name": "Python 3 (ipykernel)",
   "language": "python",
   "name": "python3"
  },
  "language_info": {
   "codemirror_mode": {
    "name": "ipython",
    "version": 3
   },
   "file_extension": ".py",
   "mimetype": "text/x-python",
   "name": "python",
   "nbconvert_exporter": "python",
   "pygments_lexer": "ipython3",
   "version": "3.10.10"
  },
  "papermill": {
   "duration": 0.8127,
   "end_time": "2024-05-08T15:08:09.618714",
   "exception": null,
   "input_path": "/tmp/tmpj9_jvdfa.ipynb",
   "output_path": "/teamspace/studios/this_studio/ChessOps/output/remove_lines.ipynb",
   "parameters": {
    "input_file_path": "./data/tokens/kasparov.tok",
    "output_file_path": "./data/tokens/kasparov_max_768.tok",
    "product": {
     "data": "/teamspace/studios/this_studio/ChessOps/data/tokens/kasparov_max_768.tok",
     "nb": "/teamspace/studios/this_studio/ChessOps/output/remove_lines.ipynb"
    }
   },
   "start_time": "2024-05-08T15:08:08.806014"
  }
 },
 "nbformat": 4,
 "nbformat_minor": 5
}