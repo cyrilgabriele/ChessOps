{
 "cells": [
  {
   "cell_type": "code",
   "execution_count": 1,
   "id": "99a1a918",
   "metadata": {
    "execution": {
     "iopub.execute_input": "2024-05-08T11:57:40.505858Z",
     "iopub.status.busy": "2024-05-08T11:57:40.505496Z",
     "iopub.status.idle": "2024-05-08T11:57:40.513914Z",
     "shell.execute_reply": "2024-05-08T11:57:40.513247Z"
    },
    "lines_to_next_cell": 2,
    "papermill": {
     "duration": 0.015622,
     "end_time": "2024-05-08T11:57:40.515730",
     "exception": false,
     "start_time": "2024-05-08T11:57:40.500108",
     "status": "completed"
    },
    "tags": [
     "parameters"
    ]
   },
   "outputs": [],
   "source": [
    "# declare a list tasks whose products you want to use as inputs\n",
    "upstream = None"
   ]
  },
  {
   "cell_type": "code",
   "execution_count": 2,
   "id": "75517583",
   "metadata": {
    "execution": {
     "iopub.execute_input": "2024-05-08T11:57:40.519475Z",
     "iopub.status.busy": "2024-05-08T11:57:40.519284Z",
     "iopub.status.idle": "2024-05-08T11:57:40.522140Z",
     "shell.execute_reply": "2024-05-08T11:57:40.521541Z"
    },
    "papermill": {
     "duration": 0.006105,
     "end_time": "2024-05-08T11:57:40.523485",
     "exception": false,
     "start_time": "2024-05-08T11:57:40.517380",
     "status": "completed"
    },
    "tags": [
     "injected-parameters"
    ]
   },
   "outputs": [],
   "source": [
    "# Parameters\n",
    "input_file_path = \"./data/tokens/carlsen.tok\"\n",
    "output_file_path = \"./data/tokens/carlsen_max_768.tok\"\n",
    "product = {\"nb\": \"/Users/larscarlschmid/Documents/_repos/ChessOps/output/remove_lines.ipynb\", \"data\": \"/Users/larscarlschmid/Documents/_repos/ChessOps/data/tokens/carlsen_max_768.tok\"}\n"
   ]
  },
  {
   "cell_type": "code",
   "execution_count": 3,
   "id": "ccd61b02",
   "metadata": {
    "execution": {
     "iopub.execute_input": "2024-05-08T11:57:40.526513Z",
     "iopub.status.busy": "2024-05-08T11:57:40.526243Z",
     "iopub.status.idle": "2024-05-08T11:57:40.528309Z",
     "shell.execute_reply": "2024-05-08T11:57:40.527971Z"
    },
    "papermill": {
     "duration": 0.004826,
     "end_time": "2024-05-08T11:57:40.529519",
     "exception": false,
     "start_time": "2024-05-08T11:57:40.524693",
     "status": "completed"
    },
    "tags": []
   },
   "outputs": [],
   "source": [
    "upstream = [\"create_tokens\"]"
   ]
  },
  {
   "cell_type": "code",
   "execution_count": 4,
   "id": "7ccde44d",
   "metadata": {
    "execution": {
     "iopub.execute_input": "2024-05-08T11:57:40.532247Z",
     "iopub.status.busy": "2024-05-08T11:57:40.532130Z",
     "iopub.status.idle": "2024-05-08T11:57:40.535412Z",
     "shell.execute_reply": "2024-05-08T11:57:40.535017Z"
    },
    "papermill": {
     "duration": 0.005833,
     "end_time": "2024-05-08T11:57:40.536529",
     "exception": false,
     "start_time": "2024-05-08T11:57:40.530696",
     "status": "completed"
    },
    "tags": []
   },
   "outputs": [],
   "source": [
    "def remove_lines_with_too_many_tokens(\n",
    "    input_file_path, output_file_path, token_limit=768\n",
    "):\n",
    "    with open(input_file_path, \"r\") as file:\n",
    "        lines = file.readlines()\n",
    "\n",
    "    print(f\"Number of lines in {input_file_path}: {len(lines)}\")\n",
    "    lines_to_keep = []\n",
    "    removed_count = 0\n",
    "\n",
    "    for line in lines:\n",
    "        if len(line.split()) <= token_limit:\n",
    "            lines_to_keep.append(line)\n",
    "        else:\n",
    "            removed_count += 1\n",
    "\n",
    "    print(f\"Number of lines in {output_file_path}: {len(lines_to_keep)}\")\n",
    "    with open(output_file_path, \"w\") as file:\n",
    "        file.writelines(lines_to_keep)\n",
    "\n",
    "    return removed_count"
   ]
  },
  {
   "cell_type": "code",
   "execution_count": 5,
   "id": "aba80c25",
   "metadata": {
    "execution": {
     "iopub.execute_input": "2024-05-08T11:57:40.539484Z",
     "iopub.status.busy": "2024-05-08T11:57:40.539341Z",
     "iopub.status.idle": "2024-05-08T11:57:40.541469Z",
     "shell.execute_reply": "2024-05-08T11:57:40.541177Z"
    },
    "papermill": {
     "duration": 0.004793,
     "end_time": "2024-05-08T11:57:40.542432",
     "exception": false,
     "start_time": "2024-05-08T11:57:40.537639",
     "status": "completed"
    },
    "tags": []
   },
   "outputs": [],
   "source": [
    "def remove(input_file_path, output_file_path):\n",
    "    # input_file_path = \"./data/tokens/carlsen.tok\"\n",
    "    # output_file_path = \"./data/tokens/carlsen_max_768.tok\"\n",
    "    removed_lines = remove_lines_with_too_many_tokens(input_file_path, output_file_path)\n",
    "    print(f\"Number of removed lines: {removed_lines}\")"
   ]
  },
  {
   "cell_type": "code",
   "execution_count": 6,
   "id": "32dd171b",
   "metadata": {
    "execution": {
     "iopub.execute_input": "2024-05-08T11:57:40.544949Z",
     "iopub.status.busy": "2024-05-08T11:57:40.544807Z",
     "iopub.status.idle": "2024-05-08T11:57:40.552070Z",
     "shell.execute_reply": "2024-05-08T11:57:40.551735Z"
    },
    "papermill": {
     "duration": 0.009731,
     "end_time": "2024-05-08T11:57:40.553143",
     "exception": false,
     "start_time": "2024-05-08T11:57:40.543412",
     "status": "completed"
    },
    "tags": []
   },
   "outputs": [
    {
     "name": "stdout",
     "output_type": "stream",
     "text": [
      "Number of lines in ./data/tokens/carlsen.tok: 398\n",
      "Number of lines in ./data/tokens/carlsen_max_768.tok: 385\n",
      "Number of removed lines: 13\n"
     ]
    }
   ],
   "source": [
    "remove(input_file_path, output_file_path)"
   ]
  }
 ],
 "metadata": {
  "jupytext": {
   "cell_metadata_filter": "tags,-all",
   "main_language": "python",
   "notebook_metadata_filter": "-all",
   "text_representation": {
    "extension": ".py",
    "format_name": "light"
   }
  },
  "kernelspec": {
   "display_name": "Python 3 (ipykernel)",
   "language": "python",
   "name": "python3"
  },
  "language_info": {
   "codemirror_mode": {
    "name": "ipython",
    "version": 3
   },
   "file_extension": ".py",
   "mimetype": "text/x-python",
   "name": "python",
   "nbconvert_exporter": "python",
   "pygments_lexer": "ipython3",
   "version": "3.11.0"
  },
  "papermill": {
   "duration": 0.751658,
   "end_time": "2024-05-08T11:57:40.670289",
   "exception": null,
   "input_path": "/var/folders/h3/3d89qwl94937xcsw4qq0hh2c0000gn/T/tmppmtlaxme.ipynb",
   "output_path": "/Users/larscarlschmid/Documents/_repos/ChessOps/output/remove_lines.ipynb",
   "parameters": {
    "input_file_path": "./data/tokens/carlsen.tok",
    "output_file_path": "./data/tokens/carlsen_max_768.tok",
    "product": {
     "data": "/Users/larscarlschmid/Documents/_repos/ChessOps/data/tokens/carlsen_max_768.tok",
     "nb": "/Users/larscarlschmid/Documents/_repos/ChessOps/output/remove_lines.ipynb"
    }
   },
   "start_time": "2024-05-08T11:57:39.918631"
  }
 },
 "nbformat": 4,
 "nbformat_minor": 5
}