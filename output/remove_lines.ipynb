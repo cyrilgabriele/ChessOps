{
 "cells": [
  {
   "cell_type": "code",
   "execution_count": 1,
   "id": "62974791",
   "metadata": {
    "execution": {
     "iopub.execute_input": "2024-05-19T16:13:50.976376Z",
     "iopub.status.busy": "2024-05-19T16:13:50.976116Z",
     "iopub.status.idle": "2024-05-19T16:13:50.982726Z",
     "shell.execute_reply": "2024-05-19T16:13:50.982124Z"
    },
    "lines_to_next_cell": 2,
    "papermill": {
     "duration": 0.009632,
     "end_time": "2024-05-19T16:13:50.983879",
     "exception": false,
     "start_time": "2024-05-19T16:13:50.974247",
     "status": "completed"
    },
    "tags": [
     "parameters"
    ]
   },
   "outputs": [],
   "source": [
    "# declare a list tasks whose products you want to use as inputs\n",
    "upstream = None"
   ]
  },
  {
   "cell_type": "code",
   "execution_count": 2,
   "id": "3238f4af",
   "metadata": {
    "execution": {
     "iopub.execute_input": "2024-05-19T16:13:50.987399Z",
     "iopub.status.busy": "2024-05-19T16:13:50.986885Z",
     "iopub.status.idle": "2024-05-19T16:13:50.990111Z",
     "shell.execute_reply": "2024-05-19T16:13:50.989447Z"
    },
    "papermill": {
     "duration": 0.006216,
     "end_time": "2024-05-19T16:13:50.991354",
     "exception": false,
     "start_time": "2024-05-19T16:13:50.985138",
     "status": "completed"
    },
    "tags": [
     "injected-parameters"
    ]
   },
   "outputs": [],
   "source": [
    "# Parameters\n",
    "input_file_path = \"./data/tokens/carlsen.tok\"\n",
    "output_file_path = \"./data/tokens/carlsen_max_768.tok\"\n",
    "product = {\"nb\": \"/teamspace/studios/this_studio/ChessOps/output/remove_lines.ipynb\", \"data\": \"/teamspace/studios/this_studio/ChessOps/data/tokens/carlsen_max_768.tok\"}\n"
   ]
  },
  {
   "cell_type": "code",
   "execution_count": 3,
   "id": "0a57d580",
   "metadata": {
    "execution": {
     "iopub.execute_input": "2024-05-19T16:13:50.994517Z",
     "iopub.status.busy": "2024-05-19T16:13:50.994128Z",
     "iopub.status.idle": "2024-05-19T16:13:50.997054Z",
     "shell.execute_reply": "2024-05-19T16:13:50.996464Z"
    },
    "papermill": {
     "duration": 0.005719,
     "end_time": "2024-05-19T16:13:50.998198",
     "exception": false,
     "start_time": "2024-05-19T16:13:50.992479",
     "status": "completed"
    },
    "tags": []
   },
   "outputs": [],
   "source": [
    "upstream = [\"create_tokens\"]"
   ]
  },
  {
   "cell_type": "code",
   "execution_count": 4,
   "id": "b8e6c5a2",
   "metadata": {
    "execution": {
     "iopub.execute_input": "2024-05-19T16:13:51.001297Z",
     "iopub.status.busy": "2024-05-19T16:13:51.000930Z",
     "iopub.status.idle": "2024-05-19T16:13:51.005168Z",
     "shell.execute_reply": "2024-05-19T16:13:51.004576Z"
    },
    "papermill": {
     "duration": 0.007009,
     "end_time": "2024-05-19T16:13:51.006298",
     "exception": false,
     "start_time": "2024-05-19T16:13:50.999289",
     "status": "completed"
    },
    "tags": []
   },
   "outputs": [],
   "source": [
    "def remove_lines_with_too_many_tokens(\n",
    "    input_file_path, output_file_path, token_limit=768\n",
    "):\n",
    "    with open(input_file_path, \"r\") as file:\n",
    "        lines = file.readlines()\n",
    "\n",
    "    print(f\"Number of lines in {input_file_path}: {len(lines)}\")\n",
    "    lines_to_keep = []\n",
    "    removed_count = 0\n",
    "\n",
    "    for line in lines:\n",
    "        if len(line.split()) <= token_limit:\n",
    "            lines_to_keep.append(line)\n",
    "        else:\n",
    "            removed_count += 1\n",
    "\n",
    "    print(f\"Number of lines in {output_file_path}: {len(lines_to_keep)}\")\n",
    "    with open(output_file_path, \"w\") as file:\n",
    "        file.writelines(lines_to_keep)\n",
    "\n",
    "    return removed_count"
   ]
  },
  {
   "cell_type": "code",
   "execution_count": 5,
   "id": "3968ce15",
   "metadata": {
    "execution": {
     "iopub.execute_input": "2024-05-19T16:13:51.009701Z",
     "iopub.status.busy": "2024-05-19T16:13:51.009192Z",
     "iopub.status.idle": "2024-05-19T16:13:51.012436Z",
     "shell.execute_reply": "2024-05-19T16:13:51.011846Z"
    },
    "papermill": {
     "duration": 0.00603,
     "end_time": "2024-05-19T16:13:51.013444",
     "exception": false,
     "start_time": "2024-05-19T16:13:51.007414",
     "status": "completed"
    },
    "tags": []
   },
   "outputs": [],
   "source": [
    "def remove(input_file_path, output_file_path):\n",
    "    removed_lines = remove_lines_with_too_many_tokens(input_file_path, output_file_path)\n",
    "    print(f\"Number of removed lines: {removed_lines}\")"
   ]
  },
  {
   "cell_type": "code",
   "execution_count": 6,
   "id": "a4c31742",
   "metadata": {
    "execution": {
     "iopub.execute_input": "2024-05-19T16:13:51.016836Z",
     "iopub.status.busy": "2024-05-19T16:13:51.016463Z",
     "iopub.status.idle": "2024-05-19T16:13:51.086158Z",
     "shell.execute_reply": "2024-05-19T16:13:51.085485Z"
    },
    "papermill": {
     "duration": 0.072713,
     "end_time": "2024-05-19T16:13:51.087341",
     "exception": false,
     "start_time": "2024-05-19T16:13:51.014628",
     "status": "completed"
    },
    "tags": []
   },
   "outputs": [
    {
     "name": "stdout",
     "output_type": "stream",
     "text": [
      "Number of lines in ./data/tokens/carlsen.tok: 5662\n",
      "Number of lines in ./data/tokens/carlsen_max_768.tok: 5597\n",
      "Number of removed lines: 65\n"
     ]
    }
   ],
   "source": [
    "remove(input_file_path, output_file_path)"
   ]
  }
 ],
 "metadata": {
  "jupytext": {
   "cell_metadata_filter": "tags,-all",
   "main_language": "python",
   "notebook_metadata_filter": "-all",
   "text_representation": {
    "extension": ".py",
    "format_name": "light"
   }
  },
  "kernelspec": {
   "display_name": "Python 3 (ipykernel)",
   "language": "python",
   "name": "python3"
  },
  "language_info": {
   "codemirror_mode": {
    "name": "ipython",
    "version": 3
   },
   "file_extension": ".py",
   "mimetype": "text/x-python",
   "name": "python",
   "nbconvert_exporter": "python",
   "pygments_lexer": "ipython3",
   "version": "3.10.10"
  },
  "papermill": {
   "duration": 0.948976,
   "end_time": "2024-05-19T16:13:51.205162",
   "exception": null,
   "input_path": "/tmp/tmp18t8oc2w.ipynb",
   "output_path": "/teamspace/studios/this_studio/ChessOps/output/remove_lines.ipynb",
   "parameters": {
    "input_file_path": "./data/tokens/carlsen.tok",
    "output_file_path": "./data/tokens/carlsen_max_768.tok",
    "product": {
     "data": "/teamspace/studios/this_studio/ChessOps/data/tokens/carlsen_max_768.tok",
     "nb": "/teamspace/studios/this_studio/ChessOps/output/remove_lines.ipynb"
    }
   },
   "start_time": "2024-05-19T16:13:50.256186"
  }
 },
 "nbformat": 4,
 "nbformat_minor": 5
}