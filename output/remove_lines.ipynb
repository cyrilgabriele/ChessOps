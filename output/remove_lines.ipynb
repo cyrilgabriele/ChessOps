{
 "cells": [
  {
   "cell_type": "code",
   "execution_count": 1,
   "id": "d8de6568",
   "metadata": {
    "execution": {
     "iopub.execute_input": "2024-04-27T14:32:54.810020Z",
     "iopub.status.busy": "2024-04-27T14:32:54.809297Z",
     "iopub.status.idle": "2024-04-27T14:32:54.817257Z",
     "shell.execute_reply": "2024-04-27T14:32:54.815953Z"
    },
    "lines_to_next_cell": 2,
    "papermill": {
     "duration": 0.017215,
     "end_time": "2024-04-27T14:32:54.819789",
     "exception": false,
     "start_time": "2024-04-27T14:32:54.802574",
     "status": "completed"
    },
    "tags": [
     "parameters"
    ]
   },
   "outputs": [],
   "source": [
    "# declare a list tasks whose products you want to use as inputs\n",
    "upstream = None"
   ]
  },
  {
   "cell_type": "code",
   "execution_count": 2,
   "id": "12a5482e",
   "metadata": {
    "execution": {
     "iopub.execute_input": "2024-04-27T14:32:54.827003Z",
     "iopub.status.busy": "2024-04-27T14:32:54.826483Z",
     "iopub.status.idle": "2024-04-27T14:32:54.830543Z",
     "shell.execute_reply": "2024-04-27T14:32:54.829878Z"
    },
    "papermill": {
     "duration": 0.009159,
     "end_time": "2024-04-27T14:32:54.832199",
     "exception": false,
     "start_time": "2024-04-27T14:32:54.823040",
     "status": "completed"
    },
    "tags": [
     "injected-parameters"
    ]
   },
   "outputs": [],
   "source": [
    "# Parameters\n",
    "product = {\n",
    "    \"nb\": \"/Users/cyrilgabriele/Documents/School/00_Courses/03_MLOPS/04_Project/ChessOps/output/remove_lines.ipynb\",\n",
    "    \"data\": \"/Users/cyrilgabriele/Documents/School/00_Courses/03_MLOPS/04_Project/ChessOps/data/tokens/carlsen_max_768.tok\",\n",
    "}\n"
   ]
  },
  {
   "cell_type": "code",
   "execution_count": 3,
   "id": "e60049af",
   "metadata": {
    "execution": {
     "iopub.execute_input": "2024-04-27T14:32:54.835867Z",
     "iopub.status.busy": "2024-04-27T14:32:54.835617Z",
     "iopub.status.idle": "2024-04-27T14:32:54.838025Z",
     "shell.execute_reply": "2024-04-27T14:32:54.837670Z"
    },
    "lines_to_next_cell": 1,
    "papermill": {
     "duration": 0.005632,
     "end_time": "2024-04-27T14:32:54.839233",
     "exception": false,
     "start_time": "2024-04-27T14:32:54.833601",
     "status": "completed"
    },
    "tags": []
   },
   "outputs": [],
   "source": [
    "upstream = [\"create_tokens\"]"
   ]
  },
  {
   "cell_type": "code",
   "execution_count": 4,
   "id": "8d215874",
   "metadata": {
    "execution": {
     "iopub.execute_input": "2024-04-27T14:32:54.842053Z",
     "iopub.status.busy": "2024-04-27T14:32:54.841871Z",
     "iopub.status.idle": "2024-04-27T14:32:54.845217Z",
     "shell.execute_reply": "2024-04-27T14:32:54.844916Z"
    },
    "lines_to_next_cell": 1,
    "papermill": {
     "duration": 0.005903,
     "end_time": "2024-04-27T14:32:54.846259",
     "exception": false,
     "start_time": "2024-04-27T14:32:54.840356",
     "status": "completed"
    },
    "tags": []
   },
   "outputs": [],
   "source": [
    "def remove_lines_with_too_many_tokens(input_file_path, output_file_path, token_limit=768):\n",
    "    with open(input_file_path, \"r\") as file:\n",
    "        lines = file.readlines()\n",
    "\n",
    "    print(f\"Number of lines in {input_file_path}: {len(lines)}\")\n",
    "    lines_to_keep = []\n",
    "    removed_count = 0\n",
    "\n",
    "    for line in lines:\n",
    "        if len(line.split()) <= token_limit:\n",
    "            lines_to_keep.append(line)\n",
    "        else:\n",
    "            removed_count += 1\n",
    "\n",
    "    print(f\"Number of lines in {output_file_path}: {len(lines_to_keep)}\")\n",
    "    with open(output_file_path, \"w\") as file:\n",
    "        file.writelines(lines_to_keep)\n",
    "\n",
    "    return removed_count"
   ]
  },
  {
   "cell_type": "code",
   "execution_count": 5,
   "id": "ba63a3f7",
   "metadata": {
    "execution": {
     "iopub.execute_input": "2024-04-27T14:32:54.849345Z",
     "iopub.status.busy": "2024-04-27T14:32:54.849141Z",
     "iopub.status.idle": "2024-04-27T14:32:54.851870Z",
     "shell.execute_reply": "2024-04-27T14:32:54.851526Z"
    },
    "papermill": {
     "duration": 0.00598,
     "end_time": "2024-04-27T14:32:54.853284",
     "exception": false,
     "start_time": "2024-04-27T14:32:54.847304",
     "status": "completed"
    },
    "tags": []
   },
   "outputs": [],
   "source": [
    "def remove(): \n",
    "    input_file_path = \"/Users/cyrilgabriele/Documents/School/00_Courses/03_MLOPS/04_Project/ChessOps/data/tokens/carlsen.tok\"\n",
    "    output_file_path = \"/Users/cyrilgabriele/Documents/School/00_Courses/03_MLOPS/04_Project/ChessOps/data/tokens/carlsen_max_768.tok\"\n",
    "    removed_lines = remove_lines_with_too_many_tokens(input_file_path, output_file_path)\n",
    "    print(f\"Number of removed lines: {removed_lines}\")"
   ]
  },
  {
   "cell_type": "code",
   "execution_count": 6,
   "id": "0daced98",
   "metadata": {
    "execution": {
     "iopub.execute_input": "2024-04-27T14:32:54.856310Z",
     "iopub.status.busy": "2024-04-27T14:32:54.856130Z",
     "iopub.status.idle": "2024-04-27T14:32:54.872959Z",
     "shell.execute_reply": "2024-04-27T14:32:54.872670Z"
    },
    "papermill": {
     "duration": 0.019252,
     "end_time": "2024-04-27T14:32:54.873821",
     "exception": false,
     "start_time": "2024-04-27T14:32:54.854569",
     "status": "completed"
    },
    "tags": []
   },
   "outputs": [
    {
     "name": "stdout",
     "output_type": "stream",
     "text": [
      "Number of lines in /Users/cyrilgabriele/Documents/School/00_Courses/03_MLOPS/04_Project/ChessOps/data/tokens/carlsen.tok: 1194\n",
      "Number of lines in /Users/cyrilgabriele/Documents/School/00_Courses/03_MLOPS/04_Project/ChessOps/data/tokens/carlsen_max_768.tok: 1155\n",
      "Number of removed lines: 39\n"
     ]
    }
   ],
   "source": [
    "remove()"
   ]
  }
 ],
 "metadata": {
  "jupytext": {
   "cell_metadata_filter": "tags,-all",
   "main_language": "python",
   "notebook_metadata_filter": "-all",
   "text_representation": {
    "extension": ".py",
    "format_name": "light"
   }
  },
  "kernelspec": {
   "display_name": "Python 3 (ipykernel)",
   "language": "python",
   "name": "python3"
  },
  "language_info": {
   "codemirror_mode": {
    "name": "ipython",
    "version": 3
   },
   "file_extension": ".py",
   "mimetype": "text/x-python",
   "name": "python",
   "nbconvert_exporter": "python",
   "pygments_lexer": "ipython3",
   "version": "3.12.3"
  },
  "papermill": {
   "duration": 0.76036,
   "end_time": "2024-04-27T14:32:54.989147",
   "exception": null,
   "input_path": "/var/folders/cf/9wfygdwx54d0p_mtqmbwcmxw0000gn/T/tmpw9xgqc4f.ipynb",
   "output_path": "/Users/cyrilgabriele/Documents/School/00_Courses/03_MLOPS/04_Project/ChessOps/output/remove_lines.ipynb",
   "parameters": {
    "product": {
     "data": "/Users/cyrilgabriele/Documents/School/00_Courses/03_MLOPS/04_Project/ChessOps/data/tokens/carlsen_max_768.tok",
     "nb": "/Users/cyrilgabriele/Documents/School/00_Courses/03_MLOPS/04_Project/ChessOps/output/remove_lines.ipynb"
    }
   },
   "start_time": "2024-04-27T14:32:54.228787"
  }
 },
 "nbformat": 4,
 "nbformat_minor": 5
}