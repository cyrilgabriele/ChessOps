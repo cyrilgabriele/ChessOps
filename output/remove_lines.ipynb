{
 "cells": [
  {
   "cell_type": "code",
   "execution_count": 1,
   "id": "54c06e45",
   "metadata": {
    "execution": {
     "iopub.execute_input": "2024-05-08T09:43:39.703358Z",
     "iopub.status.busy": "2024-05-08T09:43:39.703072Z",
     "iopub.status.idle": "2024-05-08T09:43:39.710404Z",
     "shell.execute_reply": "2024-05-08T09:43:39.709856Z"
    },
    "lines_to_next_cell": 2,
    "papermill": {
     "duration": 0.012814,
     "end_time": "2024-05-08T09:43:39.712005",
     "exception": false,
     "start_time": "2024-05-08T09:43:39.699191",
     "status": "completed"
    },
    "tags": [
     "parameters"
    ]
   },
   "outputs": [],
   "source": [
    "# declare a list tasks whose products you want to use as inputs\n",
    "upstream = None"
   ]
  },
  {
   "cell_type": "code",
   "execution_count": 2,
   "id": "57fe21b4",
   "metadata": {
    "execution": {
     "iopub.execute_input": "2024-05-08T09:43:39.716068Z",
     "iopub.status.busy": "2024-05-08T09:43:39.715850Z",
     "iopub.status.idle": "2024-05-08T09:43:39.718396Z",
     "shell.execute_reply": "2024-05-08T09:43:39.717963Z"
    },
    "papermill": {
     "duration": 0.006148,
     "end_time": "2024-05-08T09:43:39.719922",
     "exception": false,
     "start_time": "2024-05-08T09:43:39.713774",
     "status": "completed"
    },
    "tags": [
     "injected-parameters"
    ]
   },
   "outputs": [],
   "source": [
    "# Parameters\n",
    "product = {\"nb\": \"/Users/larscarlschmid/Documents/_repos/ChessOps/output/remove_lines.ipynb\", \"data\": \"/Users/larscarlschmid/Documents/_repos/ChessOps/data/tokens/carlsen_max_768.tok\"}\n"
   ]
  },
  {
   "cell_type": "code",
   "execution_count": 3,
   "id": "aad5418c",
   "metadata": {
    "execution": {
     "iopub.execute_input": "2024-05-08T09:43:39.723155Z",
     "iopub.status.busy": "2024-05-08T09:43:39.722981Z",
     "iopub.status.idle": "2024-05-08T09:43:39.725111Z",
     "shell.execute_reply": "2024-05-08T09:43:39.724661Z"
    },
    "papermill": {
     "duration": 0.005008,
     "end_time": "2024-05-08T09:43:39.726210",
     "exception": false,
     "start_time": "2024-05-08T09:43:39.721202",
     "status": "completed"
    },
    "tags": []
   },
   "outputs": [],
   "source": [
    "upstream = [\"create_tokens\"]"
   ]
  },
  {
   "cell_type": "code",
   "execution_count": 4,
   "id": "6ab419db",
   "metadata": {
    "execution": {
     "iopub.execute_input": "2024-05-08T09:43:39.729218Z",
     "iopub.status.busy": "2024-05-08T09:43:39.729025Z",
     "iopub.status.idle": "2024-05-08T09:43:39.732379Z",
     "shell.execute_reply": "2024-05-08T09:43:39.732046Z"
    },
    "papermill": {
     "duration": 0.006043,
     "end_time": "2024-05-08T09:43:39.733439",
     "exception": false,
     "start_time": "2024-05-08T09:43:39.727396",
     "status": "completed"
    },
    "tags": []
   },
   "outputs": [],
   "source": [
    "def remove_lines_with_too_many_tokens(\n",
    "    input_file_path, output_file_path, token_limit=768\n",
    "):\n",
    "    with open(input_file_path, \"r\") as file:\n",
    "        lines = file.readlines()\n",
    "\n",
    "    print(f\"Number of lines in {input_file_path}: {len(lines)}\")\n",
    "    lines_to_keep = []\n",
    "    removed_count = 0\n",
    "\n",
    "    for line in lines:\n",
    "        if len(line.split()) <= token_limit:\n",
    "            lines_to_keep.append(line)\n",
    "        else:\n",
    "            removed_count += 1\n",
    "\n",
    "    print(f\"Number of lines in {output_file_path}: {len(lines_to_keep)}\")\n",
    "    with open(output_file_path, \"w\") as file:\n",
    "        file.writelines(lines_to_keep)\n",
    "\n",
    "    return removed_count"
   ]
  },
  {
   "cell_type": "code",
   "execution_count": 5,
   "id": "fc2ffeee",
   "metadata": {
    "execution": {
     "iopub.execute_input": "2024-05-08T09:43:39.736356Z",
     "iopub.status.busy": "2024-05-08T09:43:39.736212Z",
     "iopub.status.idle": "2024-05-08T09:43:39.738500Z",
     "shell.execute_reply": "2024-05-08T09:43:39.738141Z"
    },
    "papermill": {
     "duration": 0.005081,
     "end_time": "2024-05-08T09:43:39.739724",
     "exception": false,
     "start_time": "2024-05-08T09:43:39.734643",
     "status": "completed"
    },
    "tags": []
   },
   "outputs": [],
   "source": [
    "def remove():\n",
    "    input_file_path = \"./data/tokens/carlsen.tok\"\n",
    "    output_file_path = \"./data/tokens/carlsen_max_768.tok\"\n",
    "    removed_lines = remove_lines_with_too_many_tokens(input_file_path, output_file_path)\n",
    "    print(f\"Number of removed lines: {removed_lines}\")"
   ]
  },
  {
   "cell_type": "code",
   "execution_count": 6,
   "id": "81ef38ad",
   "metadata": {
    "execution": {
     "iopub.execute_input": "2024-05-08T09:43:39.742542Z",
     "iopub.status.busy": "2024-05-08T09:43:39.742395Z",
     "iopub.status.idle": "2024-05-08T09:43:39.749363Z",
     "shell.execute_reply": "2024-05-08T09:43:39.749093Z"
    },
    "papermill": {
     "duration": 0.009427,
     "end_time": "2024-05-08T09:43:39.750292",
     "exception": false,
     "start_time": "2024-05-08T09:43:39.740865",
     "status": "completed"
    },
    "tags": []
   },
   "outputs": [
    {
     "name": "stdout",
     "output_type": "stream",
     "text": [
      "Number of lines in ./data/tokens/carlsen.tok: 398\n",
      "Number of lines in ./data/tokens/carlsen_max_768.tok: 385\n",
      "Number of removed lines: 13\n"
     ]
    }
   ],
   "source": [
    "remove()"
   ]
  }
 ],
 "metadata": {
  "jupytext": {
   "cell_metadata_filter": "tags,-all",
   "main_language": "python",
   "notebook_metadata_filter": "-all",
   "text_representation": {
    "extension": ".py",
    "format_name": "light"
   }
  },
  "kernelspec": {
   "display_name": "Python 3 (ipykernel)",
   "language": "python",
   "name": "python3"
  },
  "language_info": {
   "codemirror_mode": {
    "name": "ipython",
    "version": 3
   },
   "file_extension": ".py",
   "mimetype": "text/x-python",
   "name": "python",
   "nbconvert_exporter": "python",
   "pygments_lexer": "ipython3",
   "version": "3.11.0"
  },
  "papermill": {
   "duration": 0.752211,
   "end_time": "2024-05-08T09:43:39.866973",
   "exception": null,
   "input_path": "/var/folders/h3/3d89qwl94937xcsw4qq0hh2c0000gn/T/tmpfi2i5dg4.ipynb",
   "output_path": "/Users/larscarlschmid/Documents/_repos/ChessOps/output/remove_lines.ipynb",
   "parameters": {
    "product": {
     "data": "/Users/larscarlschmid/Documents/_repos/ChessOps/data/tokens/carlsen_max_768.tok",
     "nb": "/Users/larscarlschmid/Documents/_repos/ChessOps/output/remove_lines.ipynb"
    }
   },
   "start_time": "2024-05-08T09:43:39.114762"
  }
 },
 "nbformat": 4,
 "nbformat_minor": 5
}