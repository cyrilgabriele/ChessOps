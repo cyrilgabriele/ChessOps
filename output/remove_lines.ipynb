{
 "cells": [
  {
   "cell_type": "code",
   "execution_count": 1,
   "id": "6689fe62",
   "metadata": {
    "execution": {
     "iopub.execute_input": "2024-05-15T20:24:16.659420Z",
     "iopub.status.busy": "2024-05-15T20:24:16.659206Z",
     "iopub.status.idle": "2024-05-15T20:24:16.664737Z",
     "shell.execute_reply": "2024-05-15T20:24:16.664357Z"
    },
    "lines_to_next_cell": 2,
    "papermill": {
     "duration": 0.009218,
     "end_time": "2024-05-15T20:24:16.666051",
     "exception": false,
     "start_time": "2024-05-15T20:24:16.656833",
     "status": "completed"
    },
    "tags": [
     "parameters"
    ]
   },
   "outputs": [],
   "source": [
    "# declare a list tasks whose products you want to use as inputs\n",
    "upstream = None"
   ]
  },
  {
   "cell_type": "code",
   "execution_count": 2,
   "id": "6b23d801",
   "metadata": {
    "execution": {
     "iopub.execute_input": "2024-05-15T20:24:16.669615Z",
     "iopub.status.busy": "2024-05-15T20:24:16.669162Z",
     "iopub.status.idle": "2024-05-15T20:24:16.672228Z",
     "shell.execute_reply": "2024-05-15T20:24:16.671778Z"
    },
    "papermill": {
     "duration": 0.006226,
     "end_time": "2024-05-15T20:24:16.673599",
     "exception": false,
     "start_time": "2024-05-15T20:24:16.667373",
     "status": "completed"
    },
    "tags": [
     "injected-parameters"
    ]
   },
   "outputs": [],
   "source": [
    "# Parameters\n",
    "input_file_path = \"./data/tokens/carlsen.tok\"\n",
    "output_file_path = \"./data/tokens/carlsen_max_768.tok\"\n",
    "product = {\"nb\": \"/Users/larscarlschmid/Documents/_repos/ChessOps/output/remove_lines.ipynb\", \"data\": \"/Users/larscarlschmid/Documents/_repos/ChessOps/data/tokens/carlsen_max_768.tok\"}\n"
   ]
  },
  {
   "cell_type": "code",
   "execution_count": 3,
   "id": "03381b8b",
   "metadata": {
    "execution": {
     "iopub.execute_input": "2024-05-15T20:24:16.676418Z",
     "iopub.status.busy": "2024-05-15T20:24:16.676256Z",
     "iopub.status.idle": "2024-05-15T20:24:16.679026Z",
     "shell.execute_reply": "2024-05-15T20:24:16.678096Z"
    },
    "papermill": {
     "duration": 0.005595,
     "end_time": "2024-05-15T20:24:16.680408",
     "exception": false,
     "start_time": "2024-05-15T20:24:16.674813",
     "status": "completed"
    },
    "tags": []
   },
   "outputs": [],
   "source": [
    "upstream = [\"create_tokens\"]"
   ]
  },
  {
   "cell_type": "code",
   "execution_count": 4,
   "id": "cb2d0f9a",
   "metadata": {
    "execution": {
     "iopub.execute_input": "2024-05-15T20:24:16.683469Z",
     "iopub.status.busy": "2024-05-15T20:24:16.683305Z",
     "iopub.status.idle": "2024-05-15T20:24:16.686649Z",
     "shell.execute_reply": "2024-05-15T20:24:16.686233Z"
    },
    "papermill": {
     "duration": 0.006642,
     "end_time": "2024-05-15T20:24:16.688204",
     "exception": false,
     "start_time": "2024-05-15T20:24:16.681562",
     "status": "completed"
    },
    "tags": []
   },
   "outputs": [],
   "source": [
    "def remove_lines_with_too_many_tokens(\n",
    "    input_file_path, output_file_path, token_limit=768\n",
    "):\n",
    "    with open(input_file_path, \"r\") as file:\n",
    "        lines = file.readlines()\n",
    "\n",
    "    print(f\"Number of lines in {input_file_path}: {len(lines)}\")\n",
    "    lines_to_keep = []\n",
    "    removed_count = 0\n",
    "\n",
    "    for line in lines:\n",
    "        if len(line.split()) <= token_limit:\n",
    "            lines_to_keep.append(line)\n",
    "        else:\n",
    "            removed_count += 1\n",
    "\n",
    "    print(f\"Number of lines in {output_file_path}: {len(lines_to_keep)}\")\n",
    "    with open(output_file_path, \"w\") as file:\n",
    "        file.writelines(lines_to_keep)\n",
    "\n",
    "    return removed_count"
   ]
  },
  {
   "cell_type": "code",
   "execution_count": 5,
   "id": "b32c177b",
   "metadata": {
    "execution": {
     "iopub.execute_input": "2024-05-15T20:24:16.691078Z",
     "iopub.status.busy": "2024-05-15T20:24:16.690916Z",
     "iopub.status.idle": "2024-05-15T20:24:16.693024Z",
     "shell.execute_reply": "2024-05-15T20:24:16.692743Z"
    },
    "papermill": {
     "duration": 0.004724,
     "end_time": "2024-05-15T20:24:16.694079",
     "exception": false,
     "start_time": "2024-05-15T20:24:16.689355",
     "status": "completed"
    },
    "tags": []
   },
   "outputs": [],
   "source": [
    "def remove(input_file_path, output_file_path):\n",
    "    removed_lines = remove_lines_with_too_many_tokens(input_file_path, output_file_path)\n",
    "    print(f\"Number of removed lines: {removed_lines}\")"
   ]
  },
  {
   "cell_type": "code",
   "execution_count": 6,
   "id": "5298766f",
   "metadata": {
    "execution": {
     "iopub.execute_input": "2024-05-15T20:24:16.696907Z",
     "iopub.status.busy": "2024-05-15T20:24:16.696760Z",
     "iopub.status.idle": "2024-05-15T20:24:16.765301Z",
     "shell.execute_reply": "2024-05-15T20:24:16.764999Z"
    },
    "papermill": {
     "duration": 0.070963,
     "end_time": "2024-05-15T20:24:16.766124",
     "exception": false,
     "start_time": "2024-05-15T20:24:16.695161",
     "status": "completed"
    },
    "tags": []
   },
   "outputs": [
    {
     "name": "stdout",
     "output_type": "stream",
     "text": [
      "Number of lines in ./data/tokens/carlsen.tok: 5662\n",
      "Number of lines in ./data/tokens/carlsen_max_768.tok: 5597\n",
      "Number of removed lines: 65\n"
     ]
    }
   ],
   "source": [
    "remove(input_file_path, output_file_path)"
   ]
  }
 ],
 "metadata": {
  "jupytext": {
   "cell_metadata_filter": "tags,-all",
   "main_language": "python",
   "notebook_metadata_filter": "-all",
   "text_representation": {
    "extension": ".py",
    "format_name": "light"
   }
  },
  "kernelspec": {
   "display_name": "Python 3 (ipykernel)",
   "language": "python",
   "name": "python3"
  },
  "language_info": {
   "codemirror_mode": {
    "name": "ipython",
    "version": 3
   },
   "file_extension": ".py",
   "mimetype": "text/x-python",
   "name": "python",
   "nbconvert_exporter": "python",
   "pygments_lexer": "ipython3",
   "version": "3.11.0"
  },
  "papermill": {
   "duration": 0.928406,
   "end_time": "2024-05-15T20:24:16.882799",
   "exception": null,
   "input_path": "/var/folders/h3/3d89qwl94937xcsw4qq0hh2c0000gn/T/tmpm6li80_4.ipynb",
   "output_path": "/Users/larscarlschmid/Documents/_repos/ChessOps/output/remove_lines.ipynb",
   "parameters": {
    "input_file_path": "./data/tokens/carlsen.tok",
    "output_file_path": "./data/tokens/carlsen_max_768.tok",
    "product": {
     "data": "/Users/larscarlschmid/Documents/_repos/ChessOps/data/tokens/carlsen_max_768.tok",
     "nb": "/Users/larscarlschmid/Documents/_repos/ChessOps/output/remove_lines.ipynb"
    }
   },
   "start_time": "2024-05-15T20:24:15.954393"
  }
 },
 "nbformat": 4,
 "nbformat_minor": 5
}