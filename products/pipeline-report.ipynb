{
 "cells": [
  {
   "cell_type": "code",
   "execution_count": 1,
   "id": "7a2b23c8",
   "metadata": {
    "execution": {
     "iopub.execute_input": "2024-04-27T13:32:28.884139Z",
     "iopub.status.busy": "2024-04-27T13:32:28.883668Z",
     "iopub.status.idle": "2024-04-27T13:32:28.890900Z",
     "shell.execute_reply": "2024-04-27T13:32:28.890110Z"
    },
    "papermill": {
     "duration": 0.017663,
     "end_time": "2024-04-27T13:32:28.892784",
     "exception": false,
     "start_time": "2024-04-27T13:32:28.875121",
     "status": "completed"
    },
    "tags": [
     "parameters"
    ]
   },
   "outputs": [],
   "source": [
    "upstream = None"
   ]
  },
  {
   "cell_type": "code",
   "execution_count": 2,
   "id": "2ba84704",
   "metadata": {
    "execution": {
     "iopub.execute_input": "2024-04-27T13:32:28.898810Z",
     "iopub.status.busy": "2024-04-27T13:32:28.898570Z",
     "iopub.status.idle": "2024-04-27T13:32:28.901122Z",
     "shell.execute_reply": "2024-04-27T13:32:28.900769Z"
    },
    "papermill": {
     "duration": 0.006732,
     "end_time": "2024-04-27T13:32:28.902513",
     "exception": false,
     "start_time": "2024-04-27T13:32:28.895781",
     "status": "completed"
    },
    "tags": [
     "injected-parameters"
    ]
   },
   "outputs": [],
   "source": [
    "# Parameters\n",
    "product = \"/Users/cyrilgabriele/Documents/School/00_Courses/03_MLOPS/04_Project/ChessOps/products/pipeline-report.ipynb\"\n"
   ]
  },
  {
   "cell_type": "code",
   "execution_count": 3,
   "id": "6938526a",
   "metadata": {
    "execution": {
     "iopub.execute_input": "2024-04-27T13:32:28.907090Z",
     "iopub.status.busy": "2024-04-27T13:32:28.906884Z",
     "iopub.status.idle": "2024-04-27T13:32:28.908948Z",
     "shell.execute_reply": "2024-04-27T13:32:28.908617Z"
    },
    "papermill": {
     "duration": 0.005599,
     "end_time": "2024-04-27T13:32:28.909912",
     "exception": false,
     "start_time": "2024-04-27T13:32:28.904313",
     "status": "completed"
    },
    "tags": [
     "parameters"
    ]
   },
   "outputs": [],
   "source": [
    "# declare a list tasks whose products you want to use as inputs\n",
    "upstream = None\n"
   ]
  },
  {
   "cell_type": "markdown",
   "id": "d40bc913",
   "metadata": {
    "papermill": {
     "duration": 0.001401,
     "end_time": "2024-04-27T13:32:28.912989",
     "exception": false,
     "start_time": "2024-04-27T13:32:28.911588",
     "status": "completed"
    },
    "tags": []
   },
   "source": [
    "## Convert PGN to extended LAN (xLAN)"
   ]
  },
  {
   "cell_type": "code",
   "execution_count": 4,
   "id": "ea0725e3",
   "metadata": {
    "execution": {
     "iopub.execute_input": "2024-04-27T13:32:28.916202Z",
     "iopub.status.busy": "2024-04-27T13:32:28.915957Z",
     "iopub.status.idle": "2024-04-27T13:32:28.952746Z",
     "shell.execute_reply": "2024-04-27T13:32:28.952503Z"
    },
    "papermill": {
     "duration": 0.039315,
     "end_time": "2024-04-27T13:32:28.953534",
     "exception": false,
     "start_time": "2024-04-27T13:32:28.914219",
     "status": "completed"
    },
    "tags": []
   },
   "outputs": [],
   "source": [
    "from src.data_preprocessing.pgn_to_xlan import pgn_to_xlan\n",
    "\n",
    "def pgn_to_xlan():\n",
    "    # TODO change to valid paths\n",
    "    pgn_path = \"/Users/cyrilgabriele/Documents/School/00_Courses/03_MLOPS/04_Project/ChessOps/data/pgn/Carlsen.pgn\"\n",
    "    lan_path = \"/Users/cyrilgabriele/Documents/School/00_Courses/03_MLOPS/04_Project/ChessOps/data/xlan/carlsen.xlanplus\"\n",
    "\n",
    "    min_number_of_moves_per_game = 0\n",
    "    number_of_games_to_write = -1  # -1 for all games\n",
    "\n",
    "    pgn_to_lan = pgn_to_xlan(\n",
    "        pgn_path,\n",
    "        lan_path,\n",
    "        min_number_of_moves_per_game=min_number_of_moves_per_game,\n",
    "        number_of_games_to_write=number_of_games_to_write,\n",
    "        generate_all_moves=False,\n",
    "        log=False,\n",
    "        xLanPlus=True,\n",
    "    )\n",
    "\n",
    "    pgn_to_lan.convert_pgn_parallel()"
   ]
  },
  {
   "cell_type": "markdown",
   "id": "9f206093",
   "metadata": {
    "papermill": {
     "duration": 0.000848,
     "end_time": "2024-04-27T13:32:28.955367",
     "exception": false,
     "start_time": "2024-04-27T13:32:28.954519",
     "status": "completed"
    },
    "tags": []
   },
   "source": [
    "## Check Common and Duplicate Lines\n"
   ]
  },
  {
   "cell_type": "code",
   "execution_count": 5,
   "id": "eef2caa8",
   "metadata": {
    "execution": {
     "iopub.execute_input": "2024-04-27T13:32:28.957817Z",
     "iopub.status.busy": "2024-04-27T13:32:28.957718Z",
     "iopub.status.idle": "2024-04-27T13:32:28.959815Z",
     "shell.execute_reply": "2024-04-27T13:32:28.959628Z"
    },
    "papermill": {
     "duration": 0.004066,
     "end_time": "2024-04-27T13:32:28.960509",
     "exception": false,
     "start_time": "2024-04-27T13:32:28.956443",
     "status": "completed"
    },
    "tags": []
   },
   "outputs": [],
   "source": [
    "\"\"\"\n",
    "Use check_duplicates_and_common_lines to check if there are duplicates or common lines in two files.\n",
    "\"\"\"\n",
    "from src.data_preprocessing.check_duplicates_and_common_lines import (\n",
    "    check_duplicates_and_common_lines,\n",
    ")   \n",
    "\n",
    "def check_duplicates():\n",
    "    \n",
    "    \n",
    "    # TODO what is the validation file?\n",
    "    training_file = \"/Users/cyrilgabriele/Documents/School/00_Courses/03_MLOPS/04_Project/ChessOps/data/xlan/carlsen.xlanplus\"\n",
    "    validation_file = (\n",
    "        \"/Users/cyrilgabriele/Documents/School/00_Courses/03_MLOPS/04_Project/ChessOps/data/xlan/carlsen.xlanplus\"\n",
    "    )\n",
    "\n",
    "    check_duplicates_and_common_lines(training_file, validation_file, delete_common=False, delete_duplicates_from_file_1=True, delete_duplicates_from_file_2=False)"
   ]
  },
  {
   "cell_type": "markdown",
   "id": "464c3010",
   "metadata": {
    "papermill": {
     "duration": 0.000827,
     "end_time": "2024-04-27T13:32:28.962304",
     "exception": false,
     "start_time": "2024-04-27T13:32:28.961477",
     "status": "completed"
    },
    "tags": []
   },
   "source": [
    "## Tokenize Data\n"
   ]
  },
  {
   "cell_type": "code",
   "execution_count": 6,
   "id": "50cf21a0",
   "metadata": {
    "execution": {
     "iopub.execute_input": "2024-04-27T13:32:28.964755Z",
     "iopub.status.busy": "2024-04-27T13:32:28.964655Z",
     "iopub.status.idle": "2024-04-27T13:32:28.966831Z",
     "shell.execute_reply": "2024-04-27T13:32:28.966633Z"
    },
    "papermill": {
     "duration": 0.004217,
     "end_time": "2024-04-27T13:32:28.967491",
     "exception": false,
     "start_time": "2024-04-27T13:32:28.963274",
     "status": "completed"
    },
    "tags": []
   },
   "outputs": [],
   "source": [
    "from src.tokenizer.tokenizer import tokenize_file\n",
    "\n",
    "def tokenize_data():    \n",
    "    xLAN_path = \"/Users/cyrilgabriele/Documents/School/00_Courses/03_MLOPS/04_Project/ChessOps/data/xlan/carlsen.xlanplus\" # Inout Path \n",
    "    token_path = \"./src/tokenizer/xlanplus_tokens.json\" # keep this, correct like this\n",
    "    tokenized_path = \"/Users/cyrilgabriele/Documents/School/00_Courses/03_MLOPS/04_Project/ChessOps/data/tokens/carlsen.tok\" # Output path\n",
    "\n",
    "    tokenize_file(token_path, xLAN_path, tokenized_path, batch_size=20000) # eventually smaller batch size"
   ]
  },
  {
   "cell_type": "markdown",
   "id": "faf0f337",
   "metadata": {
    "papermill": {
     "duration": 0.000865,
     "end_time": "2024-04-27T13:32:28.969305",
     "exception": false,
     "start_time": "2024-04-27T13:32:28.968440",
     "status": "completed"
    },
    "tags": []
   },
   "source": [
    "## Remove lines with more than x tokens\n"
   ]
  },
  {
   "cell_type": "code",
   "execution_count": 7,
   "id": "44ed6aab",
   "metadata": {
    "execution": {
     "iopub.execute_input": "2024-04-27T13:32:28.971397Z",
     "iopub.status.busy": "2024-04-27T13:32:28.971313Z",
     "iopub.status.idle": "2024-04-27T13:32:28.972796Z",
     "shell.execute_reply": "2024-04-27T13:32:28.972612Z"
    },
    "papermill": {
     "duration": 0.003295,
     "end_time": "2024-04-27T13:32:28.973445",
     "exception": false,
     "start_time": "2024-04-27T13:32:28.970150",
     "status": "completed"
    },
    "tags": []
   },
   "outputs": [],
   "source": [
    "def read_file(input_file_path): \n",
    "    with open(input_file_path, \"r\") as file:\n",
    "        lines = file.readlines()\n",
    "    return lines"
   ]
  },
  {
   "cell_type": "code",
   "execution_count": 8,
   "id": "1ecaa030",
   "metadata": {
    "execution": {
     "iopub.execute_input": "2024-04-27T13:32:28.975530Z",
     "iopub.status.busy": "2024-04-27T13:32:28.975452Z",
     "iopub.status.idle": "2024-04-27T13:32:28.976884Z",
     "shell.execute_reply": "2024-04-27T13:32:28.976682Z"
    },
    "papermill": {
     "duration": 0.003173,
     "end_time": "2024-04-27T13:32:28.977507",
     "exception": false,
     "start_time": "2024-04-27T13:32:28.974334",
     "status": "completed"
    },
    "tags": []
   },
   "outputs": [],
   "source": [
    "def write_file(output_file_path, lines_to_keep): \n",
    "    with open(output_file_path, \"w\") as file:\n",
    "        file.writelines(lines_to_keep)"
   ]
  },
  {
   "cell_type": "code",
   "execution_count": 9,
   "id": "72d4fd76",
   "metadata": {
    "execution": {
     "iopub.execute_input": "2024-04-27T13:32:28.979580Z",
     "iopub.status.busy": "2024-04-27T13:32:28.979497Z",
     "iopub.status.idle": "2024-04-27T13:32:28.981316Z",
     "shell.execute_reply": "2024-04-27T13:32:28.981117Z"
    },
    "papermill": {
     "duration": 0.003595,
     "end_time": "2024-04-27T13:32:28.981966",
     "exception": false,
     "start_time": "2024-04-27T13:32:28.978371",
     "status": "completed"
    },
    "tags": []
   },
   "outputs": [],
   "source": [
    "def remove_lines_with_too_many_tokens(input_file_path, output_file_path, token_limit=768):\n",
    "    lines = read_file(input_file_path)\n",
    "    # print(f\"Number of lines in {input_file_path}: {len(lines)}\")\n",
    "    lines_to_keep = []\n",
    "    removed_count = 0\n",
    "\n",
    "    for line in lines:\n",
    "        if len(line.split()) <= token_limit:\n",
    "            lines_to_keep.append(line)\n",
    "        else:\n",
    "            removed_count += 1\n",
    "\n",
    "    print(f\"Number of lines in {output_file_path}: {len(lines_to_keep)}\")\n",
    "    write_file(output_file_path, lines_to_keep)\n",
    "\n",
    "    return removed_count"
   ]
  },
  {
   "cell_type": "code",
   "execution_count": 10,
   "id": "3f4826ea",
   "metadata": {
    "execution": {
     "iopub.execute_input": "2024-04-27T13:32:28.983914Z",
     "iopub.status.busy": "2024-04-27T13:32:28.983836Z",
     "iopub.status.idle": "2024-04-27T13:32:28.985356Z",
     "shell.execute_reply": "2024-04-27T13:32:28.985158Z"
    },
    "papermill": {
     "duration": 0.003201,
     "end_time": "2024-04-27T13:32:28.985985",
     "exception": false,
     "start_time": "2024-04-27T13:32:28.982784",
     "status": "completed"
    },
    "tags": []
   },
   "outputs": [],
   "source": [
    "def remove(): \n",
    "    input_file_path = \"/Users/cyrilgabriele/Documents/School/00_Courses/03_MLOPS/04_Project/ChessOps/data/tokens/carlsen.tok\"\n",
    "    output_file_path = \"/Users/cyrilgabriele/Documents/School/00_Courses/03_MLOPS/04_Project/ChessOps/data/tokens/carlsen_max_768.tok\"\n",
    "    removed_lines = remove_lines_with_too_many_tokens(input_file_path, output_file_path)\n",
    "    print(f\"Number of removed lines: {removed_lines}\")"
   ]
  }
 ],
 "metadata": {
  "kernelspec": {
   "display_name": "Python 3 (ipykernel)",
   "language": "python",
   "name": "python3"
  },
  "language_info": {
   "codemirror_mode": {
    "name": "ipython",
    "version": 3
   },
   "file_extension": ".py",
   "mimetype": "text/x-python",
   "name": "python",
   "nbconvert_exporter": "python",
   "pygments_lexer": "ipython3",
   "version": "3.12.3"
  },
  "papermill": {
   "duration": 0.934624,
   "end_time": "2024-04-27T13:32:29.101518",
   "exception": null,
   "input_path": "/var/folders/cf/9wfygdwx54d0p_mtqmbwcmxw0000gn/T/tmpsfshm8sc.ipynb",
   "output_path": "/Users/cyrilgabriele/Documents/School/00_Courses/03_MLOPS/04_Project/ChessOps/products/pipeline-report.ipynb",
   "parameters": {
    "product": "/Users/cyrilgabriele/Documents/School/00_Courses/03_MLOPS/04_Project/ChessOps/products/pipeline-report.ipynb"
   },
   "start_time": "2024-04-27T13:32:28.166894"
  }
 },
 "nbformat": 4,
 "nbformat_minor": 5
}