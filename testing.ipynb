{
 "cells": [
  {
   "cell_type": "code",
   "execution_count": 14,
   "metadata": {},
   "outputs": [],
   "source": [
    "import chess\n",
    "import chess.engine\n",
    "\n",
    "\n",
    "def setup_engine(path_to_engine):\n",
    "    engine = chess.engine.SimpleEngine.popen_uci(path_to_engine)\n",
    "    return engine\n",
    "\n",
    "\n",
    "def make_engine_move(board, engine):\n",
    "    result = engine.play(board, chess.engine.Limit(time=0.1))\n",
    "    return result.move\n",
    "\n",
    "\n",
    "# Example usage\n",
    "engine = setup_engine(\"./stockfish/stockfish-windows-x86-64-avx2.exe\")\n",
    "board = chess.Board()\n",
    "move = make_engine_move(board, engine)\n",
    "board.push(move)\n",
    "move = make_engine_move(board, engine)\n",
    "board.push(move)\n",
    "move = make_engine_move(board, engine)\n",
    "board.push(move)"
   ]
  },
  {
   "cell_type": "code",
   "execution_count": null,
   "metadata": {},
   "outputs": [],
   "source": []
  }
 ],
 "metadata": {
  "kernelspec": {
   "display_name": "env_chessops",
   "language": "python",
   "name": "python3"
  },
  "language_info": {
   "codemirror_mode": {
    "name": "ipython",
    "version": 3
   },
   "file_extension": ".py",
   "mimetype": "text/x-python",
   "name": "python",
   "nbconvert_exporter": "python",
   "pygments_lexer": "ipython3",
   "version": "3.10.11"
  }
 },
 "nbformat": 4,
 "nbformat_minor": 2
}
